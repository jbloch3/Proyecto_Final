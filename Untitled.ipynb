{
 "cells": [
  {
   "cell_type": "markdown",
   "id": "a39efab4",
   "metadata": {},
   "source": [
    "# Extraemos todos los archivos de los zip"
   ]
  },
  {
   "cell_type": "code",
   "execution_count": null,
   "id": "cb83d8c2",
   "metadata": {},
   "outputs": [],
   "source": [
    "from zipfile import ZipFile\n",
    "import os"
   ]
  },
  {
   "cell_type": "code",
   "execution_count": 23,
   "id": "fee73e6c",
   "metadata": {},
   "outputs": [],
   "source": [
    "archivos = os.listdir()"
   ]
  },
  {
   "cell_type": "code",
   "execution_count": 24,
   "id": "2229a94f",
   "metadata": {},
   "outputs": [],
   "source": [
    "archivos_zip = []\n",
    "for i in archivos:\n",
    "    if i.endswith(\".zip\"):\n",
    "        archivos_zip.append(i)"
   ]
  },
  {
   "cell_type": "code",
   "execution_count": 25,
   "id": "eb67bf3e",
   "metadata": {},
   "outputs": [
    {
     "data": {
      "text/plain": [
       "['takeout-20210614T071504Z-001.zip',\n",
       " 'takeout-20210614T071504Z-002.zip',\n",
       " 'takeout-20210614T071504Z-004.zip',\n",
       " 'takeout-20210614T071504Z-005.zip',\n",
       " 'takeout-20210614T071504Z-003.zip']"
      ]
     },
     "execution_count": 25,
     "metadata": {},
     "output_type": "execute_result"
    }
   ],
   "source": [
    "archivos_zip\n",
    "    "
   ]
  },
  {
   "cell_type": "code",
   "execution_count": 32,
   "id": "543eea0f",
   "metadata": {},
   "outputs": [],
   "source": [
    "cwd = os.getcwd()"
   ]
  },
  {
   "cell_type": "code",
   "execution_count": 38,
   "id": "1e850b75",
   "metadata": {},
   "outputs": [],
   "source": [
    "for i in archivos_zip:\n",
    "    zf = ZipFile(i)\n",
    "    zf.extractall()"
   ]
  },
  {
   "cell_type": "code",
   "execution_count": 39,
   "id": "c48d3df8",
   "metadata": {},
   "outputs": [
    {
     "data": {
      "text/plain": [
       "['takeout-20210614T071504Z-001.zip',\n",
       " 'takeout-20210614T071504Z-002.zip',\n",
       " 'takeout-20210614T071504Z-004.zip',\n",
       " 'takeout-20210614T071504Z-005.zip',\n",
       " 'Esquema.docx',\n",
       " 'takeout-20210614T071504Z-003.zip',\n",
       " 'Untitled.ipynb',\n",
       " '.~lock.Esquema.docx#',\n",
       " 'Takeout',\n",
       " '.ipynb_checkpoints']"
      ]
     },
     "execution_count": 39,
     "metadata": {},
     "output_type": "execute_result"
    }
   ],
   "source": [
    "os.listdir()"
   ]
  },
  {
   "cell_type": "code",
   "execution_count": null,
   "id": "7c1fa3b4",
   "metadata": {},
   "outputs": [],
   "source": []
  }
 ],
 "metadata": {
  "kernelspec": {
   "display_name": "Python 3",
   "language": "python",
   "name": "python3"
  },
  "language_info": {
   "codemirror_mode": {
    "name": "ipython",
    "version": 3
   },
   "file_extension": ".py",
   "mimetype": "text/x-python",
   "name": "python",
   "nbconvert_exporter": "python",
   "pygments_lexer": "ipython3",
   "version": "3.8.5"
  }
 },
 "nbformat": 4,
 "nbformat_minor": 5
}
