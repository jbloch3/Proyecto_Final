{
 "cells": [
  {
   "cell_type": "markdown",
   "id": "a39efab4",
   "metadata": {},
   "source": [
    "# Extraemos todos los archivos de los zip"
   ]
  },
  {
   "cell_type": "code",
   "execution_count": 1,
   "id": "cb83d8c2",
   "metadata": {},
   "outputs": [
    {
     "name": "stdout",
     "output_type": "stream",
     "text": [
      "Defaulting to user installation because normal site-packages is not writeable\n",
      "Requirement already satisfied: utils in /home/jbloch3/.local/lib/python3.8/site-packages (1.0.1)\n",
      "Defaulting to user installation because normal site-packages is not writeable\n",
      "Requirement already satisfied: xmltojson in /home/jbloch3/.local/lib/python3.8/site-packages (0.2.0)\n",
      "Requirement already satisfied: xmltodict in /home/jbloch3/.local/lib/python3.8/site-packages (from xmltojson) (0.12.0)\n"
     ]
    },
    {
     "data": {
      "text/html": [
       "        <script type=\"text/javascript\">\n",
       "        window.PlotlyConfig = {MathJaxConfig: 'local'};\n",
       "        if (window.MathJax) {MathJax.Hub.Config({SVG: {font: \"STIX-Web\"}});}\n",
       "        if (typeof require !== 'undefined') {\n",
       "        require.undef(\"plotly\");\n",
       "        requirejs.config({\n",
       "            paths: {\n",
       "                'plotly': ['https://cdn.plot.ly/plotly-latest.min']\n",
       "            }\n",
       "        });\n",
       "        require(['plotly'], function(Plotly) {\n",
       "            window._Plotly = Plotly;\n",
       "        });\n",
       "        }\n",
       "        </script>\n",
       "        "
      ]
     },
     "metadata": {},
     "output_type": "display_data"
    }
   ],
   "source": [
    "from zipfile import ZipFile\n",
    "\n",
    "import os\n",
    "import pandas as pd\n",
    "import numpy as np\n",
    "\n",
    "import json\n",
    "\n",
    "import folium\n",
    "import folium.plugins\n",
    "!pip install utils\n",
    "!pip install xmltojson\n",
    "import requests as req\n",
    "import xmltojson\n",
    "\n",
    "\n",
    "from bs4 import BeautifulSoup as bs\n",
    "#!pip install python-vlc\n",
    "\n",
    "import numpy as np\n",
    "import pandas as pd\n",
    "import matplotlib.pyplot as plt\n",
    "import seaborn as sns\n",
    "%matplotlib inline\n",
    "\n",
    "import chart_studio.plotly as py\n",
    "import cufflinks as cf\n",
    "cf.go_offline()\n",
    "\n",
    "from ipywidgets import interact\n",
    "\n",
    "from wordcloud import WordCloud"
   ]
  },
  {
   "cell_type": "code",
   "execution_count": 2,
   "id": "fee73e6c",
   "metadata": {},
   "outputs": [
    {
     "data": {
      "text/plain": [
       "['.git',\n",
       " 'takeout-20210614T071504Z-001.zip',\n",
       " 'mando.png',\n",
       " 'takeout-20210614T071504Z-002.zip',\n",
       " 'takeout-20210614T071504Z-004.zip',\n",
       " 'takeout-20210614T071504Z-005.zip',\n",
       " 'Esquema.docx',\n",
       " 'README.md',\n",
       " 'takeout-20210614T071504Z-003.zip',\n",
       " '.~lock.Esquema.docx#',\n",
       " 'Takeout',\n",
       " '.ipynb_checkpoints',\n",
       " 'ProyectoFinal.ipynb',\n",
       " '.gitignore']"
      ]
     },
     "execution_count": 2,
     "metadata": {},
     "output_type": "execute_result"
    }
   ],
   "source": [
    "archivos = os.listdir()\n",
    "archivos"
   ]
  },
  {
   "cell_type": "code",
   "execution_count": 3,
   "id": "2229a94f",
   "metadata": {},
   "outputs": [],
   "source": [
    "archivos_zip = []\n",
    "for i in archivos:\n",
    "    if i.endswith(\".zip\"):\n",
    "        archivos_zip.append(i)"
   ]
  },
  {
   "cell_type": "code",
   "execution_count": 4,
   "id": "eb67bf3e",
   "metadata": {},
   "outputs": [
    {
     "data": {
      "text/plain": [
       "['takeout-20210614T071504Z-001.zip',\n",
       " 'takeout-20210614T071504Z-002.zip',\n",
       " 'takeout-20210614T071504Z-004.zip',\n",
       " 'takeout-20210614T071504Z-005.zip',\n",
       " 'takeout-20210614T071504Z-003.zip']"
      ]
     },
     "execution_count": 4,
     "metadata": {},
     "output_type": "execute_result"
    }
   ],
   "source": [
    "archivos_zip\n",
    "    "
   ]
  },
  {
   "cell_type": "code",
   "execution_count": 5,
   "id": "543eea0f",
   "metadata": {},
   "outputs": [],
   "source": [
    "cwd = os.getcwd()"
   ]
  },
  {
   "cell_type": "code",
   "execution_count": 6,
   "id": "1e850b75",
   "metadata": {},
   "outputs": [
    {
     "data": {
      "text/plain": [
       "'for i in archivos_zip:\\n    zf = ZipFile(i)\\n    zf.extractall()'"
      ]
     },
     "execution_count": 6,
     "metadata": {},
     "output_type": "execute_result"
    }
   ],
   "source": [
    "'''for i in archivos_zip:\n",
    "    zf = ZipFile(i)\n",
    "    zf.extractall()'''"
   ]
  },
  {
   "cell_type": "code",
   "execution_count": 7,
   "id": "c5c20387",
   "metadata": {},
   "outputs": [],
   "source": [
    "os.chdir(cwd + '/' + 'Takeout')"
   ]
  },
  {
   "cell_type": "code",
   "execution_count": 8,
   "id": "9d4dc684",
   "metadata": {},
   "outputs": [],
   "source": [
    "Takeout_dir = os.getcwd()"
   ]
  },
  {
   "cell_type": "code",
   "execution_count": 9,
   "id": "b7f70d81",
   "metadata": {},
   "outputs": [
    {
     "data": {
      "text/plain": [
       "'/home/jbloch3/Documents/Proyecto_Final/Takeout'"
      ]
     },
     "execution_count": 9,
     "metadata": {},
     "output_type": "execute_result"
    }
   ],
   "source": [
    "Takeout_dir"
   ]
  },
  {
   "cell_type": "code",
   "execution_count": 10,
   "id": "c48d3df8",
   "metadata": {},
   "outputs": [
    {
     "data": {
      "text/plain": [
       "['Google Fotos',\n",
       " 'Chrome',\n",
       " 'Search Contributions',\n",
       " 'Google\\xa0Pay',\n",
       " 'Tareas',\n",
       " 'Correo',\n",
       " 'Cloud Print',\n",
       " 'Save',\n",
       " 'Google Shopping',\n",
       " 'Drive',\n",
       " 'Keep',\n",
       " 'Hangouts',\n",
       " 'Servicio de configuración de dispositivo Android',\n",
       " 'Classroom',\n",
       " 'archive_browser.html',\n",
       " 'Grupos',\n",
       " 'Google Play Libros',\n",
       " 'Blogger',\n",
       " 'Google\\xa0My\\xa0Business',\n",
       " 'wordcloud.png',\n",
       " 'Historial de ubicaciones',\n",
       " 'Mi actividad',\n",
       " 'Calendar',\n",
       " 'Cuenta de Google',\n",
       " 'Perfil',\n",
       " 'Google Workspace Marketplace',\n",
       " 'Contactos',\n",
       " 'YouTube y YouTube Music',\n",
       " 'Noticias',\n",
       " 'Servicios de Juegos de Google Play',\n",
       " 'Google Play Store',\n",
       " 'Google Play Películas',\n",
       " 'Maps',\n",
       " 'Aplicación Home',\n",
       " 'Maps (Tus sitios)']"
      ]
     },
     "execution_count": 10,
     "metadata": {},
     "output_type": "execute_result"
    }
   ],
   "source": [
    "os.listdir()"
   ]
  },
  {
   "cell_type": "code",
   "execution_count": 11,
   "id": "7c1fa3b4",
   "metadata": {},
   "outputs": [],
   "source": [
    "#perfil_df = pd.json_normalize(\"Takeout_dir + '/' + 'Perfil' +'/'+'Perfil.json'\")\n",
    "\n",
    "f = open(Takeout_dir + '/' + 'Perfil' +'/'+'Perfil.json')"
   ]
  },
  {
   "cell_type": "code",
   "execution_count": 12,
   "id": "244db7be",
   "metadata": {},
   "outputs": [],
   "source": [
    "perfil_json = json.load(f)"
   ]
  },
  {
   "cell_type": "code",
   "execution_count": 13,
   "id": "ed142d50",
   "metadata": {},
   "outputs": [
    {
     "data": {
      "text/plain": [
       "'Jaime Bloch'"
      ]
     },
     "execution_count": 13,
     "metadata": {},
     "output_type": "execute_result"
    }
   ],
   "source": [
    "nombre = perfil_json['name']['formattedName']\n",
    "nombre"
   ]
  },
  {
   "cell_type": "code",
   "execution_count": 14,
   "id": "6977a47d",
   "metadata": {},
   "outputs": [
    {
     "data": {
      "text/plain": [
       "{'name': {'givenName': 'Jaime',\n",
       "  'familyName': 'Bloch',\n",
       "  'formattedName': 'Jaime Bloch'},\n",
       " 'displayName': 'Jaime Bloch',\n",
       " 'emails': [{'value': 'jaimebloch3@gmail.com'}],\n",
       " 'gender': {'type': 'male'}}"
      ]
     },
     "execution_count": 14,
     "metadata": {},
     "output_type": "execute_result"
    }
   ],
   "source": [
    "perfil_json"
   ]
  },
  {
   "cell_type": "code",
   "execution_count": 15,
   "id": "a7ac0584",
   "metadata": {},
   "outputs": [],
   "source": [
    "email = perfil_json['emails'][0]['value']"
   ]
  },
  {
   "cell_type": "code",
   "execution_count": 16,
   "id": "cd6db1ea",
   "metadata": {},
   "outputs": [],
   "source": [
    "c = open(Takeout_dir + '/' + 'Chrome' +'/'+'BrowserHistory.json')"
   ]
  },
  {
   "cell_type": "code",
   "execution_count": 17,
   "id": "8336db88",
   "metadata": {},
   "outputs": [],
   "source": [
    "chrome_json = json.load(c)"
   ]
  },
  {
   "cell_type": "code",
   "execution_count": 18,
   "id": "84ce9725",
   "metadata": {},
   "outputs": [],
   "source": [
    "df = pd.DataFrame(chrome_json['Browser History'])"
   ]
  },
  {
   "cell_type": "code",
   "execution_count": 19,
   "id": "5ba1f0be",
   "metadata": {
    "scrolled": true
   },
   "outputs": [
    {
     "data": {
      "text/plain": [
       "<bound method NDFrame.tail of 0       https://support.google.com/android/answer/2819582\n",
       "1         https://support.google.com/drive/answer/2424368\n",
       "2       https://support.google.com/android/answer/2819582\n",
       "3       https://support.google.com/android/answer/6193...\n",
       "4       https://www.backmarket.es/samsung-galaxy-s6-32...\n",
       "                              ...                        \n",
       "5518    https://as.com/futbol/2020/06/13/primera/15920...\n",
       "5519    https://as.com/futbol/2020/06/14/primera/15921...\n",
       "5520                                      https://as.com/\n",
       "5521    https://m.eldiario.es/politica/construccion-me...\n",
       "5522                               https://m.eldiario.es/\n",
       "Name: url, Length: 5523, dtype: object>"
      ]
     },
     "execution_count": 19,
     "metadata": {},
     "output_type": "execute_result"
    }
   ],
   "source": [
    "df.url.tail\n"
   ]
  },
  {
   "cell_type": "code",
   "execution_count": 20,
   "id": "6884ce17",
   "metadata": {},
   "outputs": [],
   "source": [
    "for i in range(len(df.url)):\n",
    "    if '//' in df.url[i]:\n",
    "        df.url[i] = df.url[i].split('//')[1]\n",
    "        \n"
   ]
  },
  {
   "cell_type": "code",
   "execution_count": 21,
   "id": "4fc0cd64",
   "metadata": {},
   "outputs": [],
   "source": [
    "for i in range(len(df.url)):\n",
    "    if '/' in df.url[i]:\n",
    "        df.url[i] = df.url[i].split('/')[0]"
   ]
  },
  {
   "cell_type": "code",
   "execution_count": 22,
   "id": "7b98ed3d",
   "metadata": {},
   "outputs": [
    {
     "data": {
      "text/plain": [
       "{'9gag.com',\n",
       " 'about:blank',\n",
       " 'accounts.google.com',\n",
       " 'accounts2.tplinkcloud.com',\n",
       " 'aenfismadridpenagrande.com',\n",
       " 'altadex.com',\n",
       " 'ammos.es',\n",
       " 'amp-20minutos-es.cdn.ampproject.org',\n",
       " 'amp-cinemablend-com.cdn.ampproject.org',\n",
       " 'amp-diariogol-com.cdn.ampproject.org',\n",
       " 'amp-economiadigital-es.cdn.ampproject.org',\n",
       " 'amp-elmundo-es.cdn.ampproject.org',\n",
       " 'amp-elperiodico-com.cdn.ampproject.org',\n",
       " 'amp-europapress-es.cdn.ampproject.org',\n",
       " 'amp-heraldo-es.cdn.ampproject.org',\n",
       " 'amp-jsonline-com.cdn.ampproject.org',\n",
       " 'amp-laopiniondemalaga-es.cdn.ampproject.org',\n",
       " 'amp-lasexta-com.cdn.ampproject.org',\n",
       " 'amp-lne-es.cdn.ampproject.org',\n",
       " 'amp-marca-com.cdn.ampproject.org',\n",
       " 'amp-milenio-com.cdn.ampproject.org',\n",
       " 'amp-reddit-com.cdn.ampproject.org',\n",
       " 'amp-rtve-es.cdn.ampproject.org',\n",
       " 'amp-ultimahora-es.cdn.ampproject.org',\n",
       " 'amp.20minutos.es',\n",
       " 'andro4all-com.cdn.ampproject.org',\n",
       " 'android-upd.xyz',\n",
       " 'anewspost.com',\n",
       " 'answers.ea.com',\n",
       " 'answers.microsoft.com',\n",
       " 'apnews.com',\n",
       " 'ar.pinterest.com',\n",
       " 'arainfo.org',\n",
       " 'argentina.as.com',\n",
       " 'as-com.cdn.ampproject.org',\n",
       " 'as.com',\n",
       " 'asfan.as.com',\n",
       " 'aulavirtual.um.es',\n",
       " 'badi.com',\n",
       " 'bit.ly',\n",
       " 'blog-ebrolis-com.cdn.ampproject.org',\n",
       " 'blog.lengua-e.com',\n",
       " 'blogging-techies.com',\n",
       " 'blogs.psychcentral.com',\n",
       " 'borjaonline.es',\n",
       " 'brainly.lat',\n",
       " 'bristolenos.com',\n",
       " 'buscandojusticia.es',\n",
       " 'cadenaser.com',\n",
       " 'canarias.conforama.es',\n",
       " 'cartadigitalgratis.es',\n",
       " 'cartas.bestfreewifi.com',\n",
       " 'casiopea.um.es',\n",
       " 'cdn.britannica.com',\n",
       " 'centroclinicobetanzos60.es',\n",
       " 'cevichedesandia.es',\n",
       " 'chile.as.com',\n",
       " 'cincodias.elpais.com',\n",
       " 'cnnespanol-cnn-com.cdn.ampproject.org',\n",
       " 'cocina-casera.com',\n",
       " 'cocinaconarte.net',\n",
       " 'codstats.net',\n",
       " 'colombia.as.com',\n",
       " 'companiadeltropico.com',\n",
       " 'conelmorrofino.com',\n",
       " 'context.reverso.net',\n",
       " 'cran.r-project.org',\n",
       " 'cuidateplus-marca-com.cdn.ampproject.org',\n",
       " 'culturainquieta-com.cdn.ampproject.org',\n",
       " 'culturainquieta.com',\n",
       " 'debitoor.es',\n",
       " 'demonplayingcards.com',\n",
       " 'depsicologia-com.cdn.ampproject.org',\n",
       " 'depsicologia.com',\n",
       " 'diccionariofacil.org',\n",
       " 'dle.rae.es',\n",
       " 'dlprivateserver.com',\n",
       " 'docs.google.com',\n",
       " 'dragonball.fandom.com',\n",
       " 'ecoembesdudasreciclaje-es.cdn.ampproject.org',\n",
       " 'elblogdegriego.blogspot.com',\n",
       " 'elclubdelasmujeresinvisibles.com',\n",
       " 'elcomidista-elpais-com.cdn.ampproject.org',\n",
       " 'elcomidista.elpais.com',\n",
       " 'elorigendelsaboreuropeo.com',\n",
       " 'eloutput-com.cdn.ampproject.org',\n",
       " 'elpais-com.cdn.ampproject.org',\n",
       " 'elpais.com',\n",
       " 'elredondelito.es',\n",
       " 'elretohistorico-com.cdn.ampproject.org',\n",
       " 'emagtrends.com',\n",
       " 'en.m.wikipedia.org',\n",
       " 'entrada.um.es',\n",
       " 'entradas.cinesa.es',\n",
       " 'entradas.teatroscanal.com',\n",
       " 'erasmusu.com',\n",
       " 'es-millenium-gg.cdn.ampproject.org',\n",
       " 'es.carcarekiosk.com',\n",
       " 'es.foursquare.com',\n",
       " 'es.hotels.com',\n",
       " 'es.jvc.com',\n",
       " 'es.m.wikipedia.org',\n",
       " 'es.m.wiktionary.org',\n",
       " 'es.millenium.gg',\n",
       " 'es.oncolink.org',\n",
       " 'es.pornhub.com',\n",
       " 'es.redbrain.shop',\n",
       " 'es.statista.com',\n",
       " 'es.surveymonkey.com',\n",
       " 'esports.as.com',\n",
       " 'estardondeestes.com',\n",
       " 'estore.asus.com',\n",
       " 'faq.whatsapp.com',\n",
       " 'festivalotono.com',\n",
       " 'fitcloud.hetangsmart.com',\n",
       " 'fortnite.op.gg',\n",
       " 'fortnitetracker.com',\n",
       " 'fromthepoolside.com',\n",
       " 'fruittoday.com',\n",
       " 'futuro.aiponline.com.ar',\n",
       " 'gamewith.net',\n",
       " 'gamingintel.com',\n",
       " 'gastroactivity.com',\n",
       " 'greekcitytimes-com.cdn.ampproject.org',\n",
       " 'greekfestival.gr',\n",
       " 'helenizarte.com',\n",
       " 'help.instagram.com',\n",
       " 'heraldodemexico.com.mx',\n",
       " 'herramientas-online.com',\n",
       " 'i--d-vice-com.cdn.ampproject.org',\n",
       " 'ibb.co',\n",
       " 'incidenciaeacnur.surveysparrow.com',\n",
       " 'informatediario.com',\n",
       " 'juegosadn.eleconomista.es',\n",
       " 'khronoshistoria.com',\n",
       " 'ktelattikis.gr',\n",
       " 'l.eldiario.es',\n",
       " 'lacasadelabuelo.es',\n",
       " 'lacasatecno.com',\n",
       " 'lbunuel.blogspot.com',\n",
       " 'lens.google.com',\n",
       " 'lentillas.hawkersco.com',\n",
       " 'llevatilde-es.cdn.ampproject.org',\n",
       " 'locuraviajes-com.cdn.ampproject.org',\n",
       " 'login.live.com',\n",
       " 'los40.com',\n",
       " 'lp.marketingiant.com',\n",
       " 'm-eldiario-es.cdn.ampproject.org',\n",
       " 'm-publico-es.cdn.ampproject.org',\n",
       " 'm.aldia.cat',\n",
       " 'm.asivaespana.com',\n",
       " 'm.eldiario.es',\n",
       " 'm.es.aliexpress.com',\n",
       " 'm.facebook.com',\n",
       " 'm.filmaffinity.com',\n",
       " 'm.forocoches.com',\n",
       " 'm.guiadelocio.com',\n",
       " 'm.huffingtonpost.es',\n",
       " 'm.imdb.com',\n",
       " 'm.publico.es',\n",
       " 'm.thomann.de',\n",
       " 'm.twitch.tv',\n",
       " 'm.youtube.com',\n",
       " 'm1.caixabank.es',\n",
       " 'madridingles-net.cdn.ampproject.org',\n",
       " 'madridsecreto.co',\n",
       " 'mapasinteractivos.didactalia.net',\n",
       " 'masquevapor.com',\n",
       " 'meaww-com.cdn.ampproject.org',\n",
       " 'medcircle.com',\n",
       " 'media.adrcdn.com',\n",
       " 'menudeldia.com',\n",
       " 'menus.portbluehotels.com',\n",
       " 'minepi.com',\n",
       " 'mobile.bet365.es',\n",
       " 'mobile.twitter.com',\n",
       " 'motievi.com',\n",
       " 'motor-elpais-com.cdn.ampproject.org',\n",
       " 'multitrance.com',\n",
       " 'myactivity.google.com',\n",
       " 'mycook.es',\n",
       " 'n26.com',\n",
       " 'newtab',\n",
       " 'nymag-com.cdn.ampproject.org',\n",
       " 'okdiario-com.cdn.ampproject.org',\n",
       " 'okdiario.com',\n",
       " 'online.seterra.com',\n",
       " 'onlyfans.com',\n",
       " 'outlook.live.com',\n",
       " 'p.netund.com',\n",
       " 'pevgrow.com',\n",
       " 'play.acast.com',\n",
       " 'play.google.com',\n",
       " 'portal.uned.es',\n",
       " 'preplacrepe.com',\n",
       " 'profile.callofduty.com',\n",
       " 'promo.codere.es',\n",
       " 'promos.williamhill.es',\n",
       " 'proverbia.net',\n",
       " 'psicologiaymente.com',\n",
       " 'rad.live',\n",
       " 'randomsscripts.blogspot.com',\n",
       " 'recuperarnoviacom2.com',\n",
       " 'register.ubisoft.com',\n",
       " 'reparaciones.phonehouse.es',\n",
       " 'resultados.as.com',\n",
       " 'resultados.elpais.com',\n",
       " 'reviewadvisor.net',\n",
       " 's.activision.com',\n",
       " 'saborgourmet.com',\n",
       " 'salonalexsestelo.com',\n",
       " 'sas.redsys.es',\n",
       " 'sbmmwarzone.com',\n",
       " 'screenrant-com.cdn.ampproject.org',\n",
       " 'scufgaming.com',\n",
       " 'secretaria-virtual.uam.es',\n",
       " 'secure.fnac.es',\n",
       " 'sede.madrid.es',\n",
       " 'sede.sepe.gob.es',\n",
       " 'segoviaudaz.es',\n",
       " 'segurosdecoche.mapfre.es',\n",
       " 'sensiseeds.com',\n",
       " 'serhombrenoesdelito.org',\n",
       " 'shitmagazine.es',\n",
       " 'shop.explodingkittens.com',\n",
       " 'sibboventures.com',\n",
       " 'sis.redsys.es',\n",
       " 'sites.google.com',\n",
       " 'sonferrer.com',\n",
       " 'specialmemoriesphotography82.pixieset.com',\n",
       " 'steamcommunity.com',\n",
       " 'sticker.ly',\n",
       " 'store.google.com',\n",
       " 'store.playstation.com',\n",
       " 'store.steampowered.com',\n",
       " 'stranded-deep.fandom.com',\n",
       " 'support.google.com',\n",
       " 't.me',\n",
       " 'telefonosatencion.best',\n",
       " 'teuladamorairadigital.es',\n",
       " 'thedash.es',\n",
       " 'thespanishcuisine.com',\n",
       " 'thevore.com',\n",
       " 'todocomo.com',\n",
       " 'tododeedificios.es',\n",
       " 'tophotel.news',\n",
       " 'transparencia.madrid.es',\n",
       " 'travel.gov.gr',\n",
       " 'trc.taboola.com',\n",
       " 'trends.bibamagazine.fr',\n",
       " 'tuexilioenelcaribe.com.es',\n",
       " 'u.bicimad.com',\n",
       " 'us.as.com',\n",
       " 'usuarios.eldiario.es',\n",
       " 'venta.renfe.com',\n",
       " 'ver.movistarplus.es',\n",
       " 'verdesdigitales.com',\n",
       " 'verne-elpais-com.cdn.ampproject.org',\n",
       " 'versus.com',\n",
       " 'vertele.eldiario.es',\n",
       " 'vilaritson.com',\n",
       " 'vimeo.com',\n",
       " 'virgintelco.es',\n",
       " 'web.movistar.es',\n",
       " 'whyathens.com',\n",
       " 'www-abc-es.cdn.ampproject.org',\n",
       " 'www-adslzone-net.cdn.ampproject.org',\n",
       " 'www-aquariumcostadealmeria-com.cdn.ampproject.org',\n",
       " 'www-bbc-com.cdn.ampproject.org',\n",
       " 'www-bolsamania-com.cdn.ampproject.org',\n",
       " 'www-businessdaily-gr.cdn.ampproject.org',\n",
       " 'www-businessinsider-es.cdn.ampproject.org',\n",
       " 'www-cocinadelirante-com.cdn.ampproject.org',\n",
       " 'www-cope-es.cdn.ampproject.org',\n",
       " 'www-dexerto-com.cdn.ampproject.org',\n",
       " 'www-dexerto-es.cdn.ampproject.org',\n",
       " 'www-diariocordoba-com.cdn.ampproject.org',\n",
       " 'www-diariofemenino-com.cdn.ampproject.org',\n",
       " 'www-directoalpaladar-com.cdn.ampproject.org',\n",
       " 'www-egames-news.cdn.ampproject.org',\n",
       " 'www-elconfidencial-com.cdn.ampproject.org',\n",
       " 'www-elconfidencialdigital-com.cdn.ampproject.org',\n",
       " 'www-eldiario-es.cdn.ampproject.org',\n",
       " 'www-elespanol-com.cdn.ampproject.org',\n",
       " 'www-elindependiente-com.cdn.ampproject.org',\n",
       " 'www-elle-com.cdn.ampproject.org',\n",
       " 'www-elnortedecastilla-es.cdn.ampproject.org',\n",
       " 'www-elplural-com.cdn.ampproject.org',\n",
       " 'www-eonline-com.cdn.ampproject.org',\n",
       " 'www-espinof-com.cdn.ampproject.org',\n",
       " 'www-esquire-com.cdn.ampproject.org',\n",
       " 'www-fisioterapia--online-com.cdn.ampproject.org',\n",
       " 'www-fotogramas-es.cdn.ampproject.org',\n",
       " 'www-geeksforgeeks-org.cdn.ampproject.org',\n",
       " 'www-harpersbazaar-com.cdn.ampproject.org',\n",
       " 'www-hobbyconsolas-com.cdn.ampproject.org',\n",
       " 'www-idealista-com.cdn.ampproject.org',\n",
       " 'www-infobae-com.cdn.ampproject.org',\n",
       " 'www-infogate-cl.cdn.ampproject.org',\n",
       " 'www-irishmirror-ie.cdn.ampproject.org',\n",
       " 'www-latercera-com.cdn.ampproject.org',\n",
       " 'www-lavanguardia-com.cdn.ampproject.org',\n",
       " 'www-libertaddigital-com.cdn.ampproject.org',\n",
       " 'www-libremercado-com.cdn.ampproject.org',\n",
       " 'www-metropoliabierta-com.cdn.ampproject.org',\n",
       " 'www-millenium-gg.cdn.ampproject.org',\n",
       " 'www-movilzona-es.cdn.ampproject.org',\n",
       " 'www-mundodeportivo-com.cdn.ampproject.org',\n",
       " 'www-news--medical-net.cdn.ampproject.org',\n",
       " 'www-newtral-es.cdn.ampproject.org',\n",
       " 'www-nytimes-com.cdn.ampproject.org',\n",
       " 'www-pcgamesn-com.cdn.ampproject.org',\n",
       " 'www-pcworld-es.cdn.ampproject.org',\n",
       " 'www-periodistadigital-com.cdn.ampproject.org',\n",
       " 'www-pinterest-com.cdn.ampproject.org',\n",
       " 'www-pinterest-es.cdn.ampproject.org',\n",
       " 'www-polygon-com.cdn.ampproject.org',\n",
       " 'www-quever-news.cdn.ampproject.org',\n",
       " 'www-recetasderechupete-com.cdn.ampproject.org',\n",
       " 'www-sensacine-com.cdn.ampproject.org',\n",
       " 'www-solosequenosenada-com.cdn.ampproject.org',\n",
       " 'www-sportskeeda-com.cdn.ampproject.org',\n",
       " 'www-telemadrid-es.cdn.ampproject.org',\n",
       " 'www-tododisca-com.cdn.ampproject.org',\n",
       " 'www-tuexpertomovil-com.cdn.ampproject.org',\n",
       " 'www-turismoenextremadura-es.cdn.ampproject.org',\n",
       " 'www-uppers-es.cdn.ampproject.org',\n",
       " 'www-urbandictionary-com.cdn.ampproject.org',\n",
       " 'www-vademecum-es.cdn.ampproject.org',\n",
       " 'www-vanidades-com.cdn.ampproject.org',\n",
       " 'www-vice-com.cdn.ampproject.org',\n",
       " 'www-vidaextra-com.cdn.ampproject.org',\n",
       " 'www-vox-com.cdn.ampproject.org',\n",
       " 'www-xataka-com.cdn.ampproject.org',\n",
       " 'www-xatakamovil-com.cdn.ampproject.org',\n",
       " 'www-xatakandroid-com.cdn.ampproject.org',\n",
       " 'www-yasss-es.cdn.ampproject.org',\n",
       " 'www.20minutos.es',\n",
       " 'www.3djuegos.com',\n",
       " 'www.90min.com',\n",
       " 'www.abc.es',\n",
       " 'www.acueducto2.com',\n",
       " 'www.afiescueladefinanzas.es',\n",
       " 'www.aladinia.com',\n",
       " 'www.albertosoler.es',\n",
       " 'www.amazon.com',\n",
       " 'www.amazon.es',\n",
       " 'www.aobabogados.com',\n",
       " 'www.apple.com',\n",
       " 'www.atenas.net',\n",
       " 'www.atomicheritage.org',\n",
       " 'www.ausonia.es',\n",
       " 'www.backmarket.es',\n",
       " 'www.bbc.co.uk',\n",
       " 'www.bbc.com',\n",
       " 'www.bet365.com',\n",
       " 'www.bicimad.com',\n",
       " 'www.biginfinland.com',\n",
       " 'www.blablacar.es',\n",
       " 'www.booking.com',\n",
       " 'www.bricomart.es',\n",
       " 'www.britannica.com',\n",
       " 'www.businessinsider.es',\n",
       " 'www.caixabank.com',\n",
       " 'www.caixabank.es',\n",
       " 'www.callofduty.com',\n",
       " 'www.caninomag.es',\n",
       " 'www.carlsjr.es',\n",
       " 'www.carrefour.es',\n",
       " 'www.casadani.es',\n",
       " 'www.casamento.gr',\n",
       " 'www.ccma.cat',\n",
       " 'www.chdformacion.es',\n",
       " 'www.cinesa.es',\n",
       " 'www.cinesrenoir.com',\n",
       " 'www.citapreviadnie.es',\n",
       " 'www.citapreviapara.com',\n",
       " 'www.civitatis.com',\n",
       " 'www.clarin.com',\n",
       " 'www.clinicabaviera.com',\n",
       " 'www.clubpeugeot.es',\n",
       " 'www.cnet.com',\n",
       " 'www.cocacola.es',\n",
       " 'www.cocinacaserayfacil.net',\n",
       " 'www.cocinandoconcatman.com',\n",
       " 'www.com.org.mx',\n",
       " 'www.comiendopipas.com',\n",
       " 'www.comunidad.madrid',\n",
       " 'www.comunidades.com',\n",
       " 'www.consumer.es',\n",
       " 'www.consumoteca.com',\n",
       " 'www.cronicabalear.es',\n",
       " 'www.cronista.com',\n",
       " 'www.cuatro.com',\n",
       " 'www.dailyedge.ie',\n",
       " 'www.dailyforest.com',\n",
       " 'www.dailymotion.com',\n",
       " 'www.datadoghq.com',\n",
       " 'www.davidsuarezoficial.com',\n",
       " 'www.dazn.com',\n",
       " 'www.decathlon.es',\n",
       " 'www.definicionabc.com',\n",
       " 'www.deplace.es',\n",
       " 'www.diariodeavila.es',\n",
       " 'www.diccionariodedudas.com',\n",
       " 'www.dictionary.com',\n",
       " 'www.diosaplanta.com',\n",
       " 'www.directoalpaladar.com',\n",
       " 'www.divinacocina.es',\n",
       " 'www.doctoralia.es',\n",
       " 'www.doithouses.com',\n",
       " 'www.dolce-gusto.es',\n",
       " 'www.domestika.org',\n",
       " 'www.elconfidencial.com',\n",
       " 'www.elcorreo.com',\n",
       " 'www.elcorteingles.es',\n",
       " 'www.eldiario.es',\n",
       " 'www.elindependiente.com',\n",
       " 'www.elmundo.es',\n",
       " 'www.elmundotoday.com',\n",
       " 'www.elotrolado.net',\n",
       " 'www.elplural.com',\n",
       " 'www.enerjet.com.pe',\n",
       " 'www.enredando.info',\n",
       " 'www.enterat.com',\n",
       " 'www.escritores.org',\n",
       " 'www.esmadrid.com',\n",
       " 'www.factcheck.org',\n",
       " 'www.famosos.com',\n",
       " 'www.fnac.es',\n",
       " 'www.food.com',\n",
       " 'www.foodyt.com',\n",
       " 'www.formulatv.com',\n",
       " 'www.foxnews.com',\n",
       " 'www.ft.com',\n",
       " 'www.funda.nl',\n",
       " 'www.futbolfactory.es',\n",
       " 'www.gaes.es',\n",
       " 'www.game.es',\n",
       " 'www.gamesradar.com',\n",
       " 'www.gameyore.com',\n",
       " 'www.gfinityesports.com',\n",
       " 'www.ginx.tv',\n",
       " 'www.girlsbcn.net',\n",
       " 'www.gob.pe',\n",
       " 'www.goiko.com',\n",
       " 'www.google.com',\n",
       " 'www.guiadegrecia.com',\n",
       " 'www.hispanoteca.eu',\n",
       " 'www.huffingtonpost.es',\n",
       " 'www.iberia.com',\n",
       " 'www.iberley.es',\n",
       " 'www.ikea.com',\n",
       " 'www.imo.es',\n",
       " 'www.indifferentlanguages.com',\n",
       " 'www.infinityward.com',\n",
       " 'www.informando.es',\n",
       " 'www.inquirer.com',\n",
       " 'www.instagram.com',\n",
       " 'www.inter-rail.org',\n",
       " 'www.ironhack.com',\n",
       " 'www.jamieoliver.com',\n",
       " 'www.juegos-geograficos.com',\n",
       " 'www.juguetienda.es',\n",
       " 'www.just-eat.es',\n",
       " 'www.justwatch.com',\n",
       " 'www.laizquierdadiario.com',\n",
       " 'www.lamoncloa.gob.es',\n",
       " 'www.larazon.es',\n",
       " 'www.lariosgin.es',\n",
       " 'www.lasexta.com',\n",
       " 'www.lavanguardia.com',\n",
       " 'www.laverdad.es',\n",
       " 'www.lavozdetuperro.com',\n",
       " 'www.legalitas.com',\n",
       " 'www.libremercado.com',\n",
       " 'www.linguee.es',\n",
       " 'www.madrid.es',\n",
       " 'www.marca.com',\n",
       " 'www.masmovil.es',\n",
       " 'www.mayoclinic.org',\n",
       " 'www.mediamarkt.es',\n",
       " 'www.mitjans.es',\n",
       " 'www.mmoingame.com',\n",
       " 'www.mochileandoporelmundo.com',\n",
       " 'www.monicafuste.com',\n",
       " 'www.movistar.es',\n",
       " 'www.mscbs.gob.es',\n",
       " 'www.msn.com',\n",
       " 'www.nacex.es',\n",
       " 'www.newtral.es',\n",
       " 'www.nia.nih.gov',\n",
       " 'www.nooddle.es',\n",
       " 'www.ocu.org',\n",
       " 'www.oftalvist.es',\n",
       " 'www.ohmycut.com',\n",
       " 'www.ontheissues.org',\n",
       " 'www.orichalbaud.com',\n",
       " 'www.originscannabis.com',\n",
       " 'www.oscaro.es',\n",
       " 'www.panoramagriego.gr',\n",
       " 'www.pequerecetas.com',\n",
       " 'www.periodistadigital.com',\n",
       " 'www.pillalas.com',\n",
       " 'www.pinterest.de',\n",
       " 'www.pinterest.es',\n",
       " 'www.piraguaselvado.com',\n",
       " 'www.planetadelibros.com',\n",
       " 'www.plasticsurgerypractice.com',\n",
       " 'www.playstation.com',\n",
       " 'www.pokerstarscasino.es',\n",
       " 'www.pregunte.es',\n",
       " 'www.proyecto-kahlo.com',\n",
       " 'www.ps84.es',\n",
       " 'www.psicoglobal.com',\n",
       " 'www.psicologia-online.com',\n",
       " 'www.publico.es',\n",
       " 'www.realmadrid.com',\n",
       " 'www.realsimple.com',\n",
       " 'www.recetas.fitness',\n",
       " 'www.recetasderechupete.com',\n",
       " 'www.recetasdesbieta.com',\n",
       " 'www.reddit.com',\n",
       " 'www.renfe.com',\n",
       " 'www.rockpapershotgun.com',\n",
       " 'www.rtve.es',\n",
       " 'www.saberespractico.com',\n",
       " 'www.samsung.com',\n",
       " 'www.santander.com',\n",
       " 'www.sensacine.com',\n",
       " 'www.sepe.es',\n",
       " 'www.sevillainfo.es',\n",
       " 'www.sinonimosgratis.com',\n",
       " 'www.sonypictures.com',\n",
       " 'www.soolide.com',\n",
       " 'www.spth.gob.es',\n",
       " 'www.superdeporte.es',\n",
       " 'www.t-systems.com',\n",
       " 'www.takoaway.com',\n",
       " 'www.talquistina.com',\n",
       " 'www.tastydetails.com',\n",
       " 'www.teatroscanal.com',\n",
       " 'www.ted.com',\n",
       " 'www.telecinco.es',\n",
       " 'www.testeneagrama.com',\n",
       " 'www.thedarkimp.com',\n",
       " 'www.thejournal.ie',\n",
       " 'www.thermorecetas.com',\n",
       " 'www.thetrainline.com',\n",
       " 'www.tiempo.com',\n",
       " 'www.tiendeo.com',\n",
       " 'www.timeout.es',\n",
       " 'www.toyota.es',\n",
       " 'www.toysrus.es',\n",
       " 'www.tripadvisor.es',\n",
       " 'www.trt.net.tr',\n",
       " 'www.tuplaystation.es',\n",
       " 'www.uam.es',\n",
       " 'www.ultimahora.es',\n",
       " 'www.unamamanovata.com',\n",
       " 'www.universidadviu.es',\n",
       " 'www.unprofesor.com',\n",
       " 'www.uolala.com',\n",
       " 'www.urbandictionary.com',\n",
       " 'www.verdeesvida.es',\n",
       " 'www.versus.es',\n",
       " 'www.viajeroscallejeros.com',\n",
       " 'www.viajeselcorteingles.es',\n",
       " 'www.vidaextra.com',\n",
       " 'www.vips.es',\n",
       " 'www.viva.gr',\n",
       " 'www.vivapayments.com',\n",
       " 'www.vozpopuli.com',\n",
       " 'www.vrhelpnow.com',\n",
       " 'www.wikidex.net',\n",
       " 'www.wikirioja.com',\n",
       " 'www.wordreference.com',\n",
       " 'www.xatakandroid.com',\n",
       " 'www.xvideos.com',\n",
       " 'www.yorokobu.es',\n",
       " 'www.youtube.com',\n",
       " 'www.zankyou.es',\n",
       " 'www.zeelandnet.nl',\n",
       " 'www.zendalibros.com',\n",
       " 'www1.caixabank.es',\n",
       " 'www3.royalmail.com',\n",
       " 'xn--el10delbara-v9a.com',\n",
       " 'xn--ortopediaortoespaa-30b.es',\n",
       " 'yorecurro.es',\n",
       " 'yosoymas.masmovil.es',\n",
       " 'zacatrus.es',\n",
       " 'zhiqingchun.es'}"
      ]
     },
     "execution_count": 22,
     "metadata": {},
     "output_type": "execute_result"
    }
   ],
   "source": [
    "set(df.url)"
   ]
  },
  {
   "cell_type": "code",
   "execution_count": 23,
   "id": "54cc0918",
   "metadata": {},
   "outputs": [
    {
     "data": {
      "text/html": [
       "<div>\n",
       "<style scoped>\n",
       "    .dataframe tbody tr th:only-of-type {\n",
       "        vertical-align: middle;\n",
       "    }\n",
       "\n",
       "    .dataframe tbody tr th {\n",
       "        vertical-align: top;\n",
       "    }\n",
       "\n",
       "    .dataframe thead th {\n",
       "        text-align: right;\n",
       "    }\n",
       "</style>\n",
       "<table border=\"1\" class=\"dataframe\">\n",
       "  <thead>\n",
       "    <tr style=\"text-align: right;\">\n",
       "      <th></th>\n",
       "      <th>page_transition</th>\n",
       "      <th>title</th>\n",
       "      <th>client_id</th>\n",
       "      <th>time_usec</th>\n",
       "    </tr>\n",
       "    <tr>\n",
       "      <th>url</th>\n",
       "      <th></th>\n",
       "      <th></th>\n",
       "      <th></th>\n",
       "      <th></th>\n",
       "    </tr>\n",
       "  </thead>\n",
       "  <tbody>\n",
       "    <tr>\n",
       "      <th>as.com</th>\n",
       "      <td>2189</td>\n",
       "      <td>2189</td>\n",
       "      <td>2189</td>\n",
       "      <td>2189</td>\n",
       "    </tr>\n",
       "    <tr>\n",
       "      <th>www.eldiario.es</th>\n",
       "      <td>515</td>\n",
       "      <td>515</td>\n",
       "      <td>515</td>\n",
       "      <td>515</td>\n",
       "    </tr>\n",
       "    <tr>\n",
       "      <th>www.google.com</th>\n",
       "      <td>317</td>\n",
       "      <td>317</td>\n",
       "      <td>317</td>\n",
       "      <td>317</td>\n",
       "    </tr>\n",
       "    <tr>\n",
       "      <th>mobile.twitter.com</th>\n",
       "      <td>137</td>\n",
       "      <td>137</td>\n",
       "      <td>137</td>\n",
       "      <td>137</td>\n",
       "    </tr>\n",
       "    <tr>\n",
       "      <th>www.pinterest.es</th>\n",
       "      <td>109</td>\n",
       "      <td>109</td>\n",
       "      <td>109</td>\n",
       "      <td>109</td>\n",
       "    </tr>\n",
       "    <tr>\n",
       "      <th>...</th>\n",
       "      <td>...</td>\n",
       "      <td>...</td>\n",
       "      <td>...</td>\n",
       "      <td>...</td>\n",
       "    </tr>\n",
       "    <tr>\n",
       "      <th>www-adslzone-net.cdn.ampproject.org</th>\n",
       "      <td>1</td>\n",
       "      <td>1</td>\n",
       "      <td>1</td>\n",
       "      <td>1</td>\n",
       "    </tr>\n",
       "    <tr>\n",
       "      <th>web.movistar.es</th>\n",
       "      <td>1</td>\n",
       "      <td>1</td>\n",
       "      <td>1</td>\n",
       "      <td>1</td>\n",
       "    </tr>\n",
       "    <tr>\n",
       "      <th>virgintelco.es</th>\n",
       "      <td>1</td>\n",
       "      <td>1</td>\n",
       "      <td>1</td>\n",
       "      <td>1</td>\n",
       "    </tr>\n",
       "    <tr>\n",
       "      <th>vilaritson.com</th>\n",
       "      <td>1</td>\n",
       "      <td>1</td>\n",
       "      <td>1</td>\n",
       "      <td>1</td>\n",
       "    </tr>\n",
       "    <tr>\n",
       "      <th>www-idealista-com.cdn.ampproject.org</th>\n",
       "      <td>1</td>\n",
       "      <td>1</td>\n",
       "      <td>1</td>\n",
       "      <td>1</td>\n",
       "    </tr>\n",
       "  </tbody>\n",
       "</table>\n",
       "<p>592 rows × 4 columns</p>\n",
       "</div>"
      ],
      "text/plain": [
       "                                      page_transition  title  client_id  \\\n",
       "url                                                                       \n",
       "as.com                                           2189   2189       2189   \n",
       "www.eldiario.es                                   515    515        515   \n",
       "www.google.com                                    317    317        317   \n",
       "mobile.twitter.com                                137    137        137   \n",
       "www.pinterest.es                                  109    109        109   \n",
       "...                                               ...    ...        ...   \n",
       "www-adslzone-net.cdn.ampproject.org                 1      1          1   \n",
       "web.movistar.es                                     1      1          1   \n",
       "virgintelco.es                                      1      1          1   \n",
       "vilaritson.com                                      1      1          1   \n",
       "www-idealista-com.cdn.ampproject.org                1      1          1   \n",
       "\n",
       "                                      time_usec  \n",
       "url                                              \n",
       "as.com                                     2189  \n",
       "www.eldiario.es                             515  \n",
       "www.google.com                              317  \n",
       "mobile.twitter.com                          137  \n",
       "www.pinterest.es                            109  \n",
       "...                                         ...  \n",
       "www-adslzone-net.cdn.ampproject.org           1  \n",
       "web.movistar.es                               1  \n",
       "virgintelco.es                                1  \n",
       "vilaritson.com                                1  \n",
       "www-idealista-com.cdn.ampproject.org          1  \n",
       "\n",
       "[592 rows x 4 columns]"
      ]
     },
     "execution_count": 23,
     "metadata": {},
     "output_type": "execute_result"
    }
   ],
   "source": [
    "df.groupby('url').count().sort_values('title', ascending=False)"
   ]
  },
  {
   "cell_type": "code",
   "execution_count": 24,
   "id": "d6a49cd2",
   "metadata": {},
   "outputs": [],
   "source": [
    "Top10URL = df.url.value_counts()[0:10]"
   ]
  },
  {
   "cell_type": "code",
   "execution_count": 25,
   "id": "3a7fb6c1",
   "metadata": {},
   "outputs": [
    {
     "data": {
      "text/plain": [
       "as.com                2189\n",
       "www.eldiario.es        515\n",
       "www.google.com         317\n",
       "mobile.twitter.com     137\n",
       "www.pinterest.es       109\n",
       "aulavirtual.um.es       91\n",
       "resultados.as.com       87\n",
       "www.soolide.com         84\n",
       "www.xvideos.com         68\n",
       "es.m.wikipedia.org      53\n",
       "Name: url, dtype: int64"
      ]
     },
     "execution_count": 25,
     "metadata": {},
     "output_type": "execute_result"
    }
   ],
   "source": [
    "Top10URL"
   ]
  },
  {
   "cell_type": "code",
   "execution_count": 26,
   "id": "f4b4c686",
   "metadata": {},
   "outputs": [
    {
     "data": {
      "text/html": [
       "<div>\n",
       "<style scoped>\n",
       "    .dataframe tbody tr th:only-of-type {\n",
       "        vertical-align: middle;\n",
       "    }\n",
       "\n",
       "    .dataframe tbody tr th {\n",
       "        vertical-align: top;\n",
       "    }\n",
       "\n",
       "    .dataframe thead th {\n",
       "        text-align: right;\n",
       "    }\n",
       "</style>\n",
       "<table border=\"1\" class=\"dataframe\">\n",
       "  <thead>\n",
       "    <tr style=\"text-align: right;\">\n",
       "      <th></th>\n",
       "      <th>url</th>\n",
       "    </tr>\n",
       "  </thead>\n",
       "  <tbody>\n",
       "    <tr>\n",
       "      <th>as.com</th>\n",
       "      <td>2189</td>\n",
       "    </tr>\n",
       "    <tr>\n",
       "      <th>www.eldiario.es</th>\n",
       "      <td>515</td>\n",
       "    </tr>\n",
       "    <tr>\n",
       "      <th>www.google.com</th>\n",
       "      <td>317</td>\n",
       "    </tr>\n",
       "    <tr>\n",
       "      <th>mobile.twitter.com</th>\n",
       "      <td>137</td>\n",
       "    </tr>\n",
       "    <tr>\n",
       "      <th>www.pinterest.es</th>\n",
       "      <td>109</td>\n",
       "    </tr>\n",
       "    <tr>\n",
       "      <th>aulavirtual.um.es</th>\n",
       "      <td>91</td>\n",
       "    </tr>\n",
       "    <tr>\n",
       "      <th>resultados.as.com</th>\n",
       "      <td>87</td>\n",
       "    </tr>\n",
       "    <tr>\n",
       "      <th>www.soolide.com</th>\n",
       "      <td>84</td>\n",
       "    </tr>\n",
       "    <tr>\n",
       "      <th>www.xvideos.com</th>\n",
       "      <td>68</td>\n",
       "    </tr>\n",
       "    <tr>\n",
       "      <th>es.m.wikipedia.org</th>\n",
       "      <td>53</td>\n",
       "    </tr>\n",
       "  </tbody>\n",
       "</table>\n",
       "</div>"
      ],
      "text/plain": [
       "                     url\n",
       "as.com              2189\n",
       "www.eldiario.es      515\n",
       "www.google.com       317\n",
       "mobile.twitter.com   137\n",
       "www.pinterest.es     109\n",
       "aulavirtual.um.es     91\n",
       "resultados.as.com     87\n",
       "www.soolide.com       84\n",
       "www.xvideos.com       68\n",
       "es.m.wikipedia.org    53"
      ]
     },
     "execution_count": 26,
     "metadata": {},
     "output_type": "execute_result"
    }
   ],
   "source": [
    "Top10URL_df = pd.DataFrame(Top10URL)\n",
    "Top10URL_df "
   ]
  },
  {
   "cell_type": "code",
   "execution_count": 27,
   "id": "5aeb0a78",
   "metadata": {},
   "outputs": [
    {
     "data": {
      "text/html": [
       "<div>\n",
       "<style scoped>\n",
       "    .dataframe tbody tr th:only-of-type {\n",
       "        vertical-align: middle;\n",
       "    }\n",
       "\n",
       "    .dataframe tbody tr th {\n",
       "        vertical-align: top;\n",
       "    }\n",
       "\n",
       "    .dataframe thead th {\n",
       "        text-align: right;\n",
       "    }\n",
       "</style>\n",
       "<table border=\"1\" class=\"dataframe\">\n",
       "  <thead>\n",
       "    <tr style=\"text-align: right;\">\n",
       "      <th></th>\n",
       "      <th>index</th>\n",
       "      <th>url</th>\n",
       "    </tr>\n",
       "  </thead>\n",
       "  <tbody>\n",
       "    <tr>\n",
       "      <th>0</th>\n",
       "      <td>as.com</td>\n",
       "      <td>2189</td>\n",
       "    </tr>\n",
       "    <tr>\n",
       "      <th>1</th>\n",
       "      <td>www.eldiario.es</td>\n",
       "      <td>515</td>\n",
       "    </tr>\n",
       "    <tr>\n",
       "      <th>2</th>\n",
       "      <td>www.google.com</td>\n",
       "      <td>317</td>\n",
       "    </tr>\n",
       "    <tr>\n",
       "      <th>3</th>\n",
       "      <td>mobile.twitter.com</td>\n",
       "      <td>137</td>\n",
       "    </tr>\n",
       "    <tr>\n",
       "      <th>4</th>\n",
       "      <td>www.pinterest.es</td>\n",
       "      <td>109</td>\n",
       "    </tr>\n",
       "    <tr>\n",
       "      <th>5</th>\n",
       "      <td>aulavirtual.um.es</td>\n",
       "      <td>91</td>\n",
       "    </tr>\n",
       "    <tr>\n",
       "      <th>6</th>\n",
       "      <td>resultados.as.com</td>\n",
       "      <td>87</td>\n",
       "    </tr>\n",
       "    <tr>\n",
       "      <th>7</th>\n",
       "      <td>www.soolide.com</td>\n",
       "      <td>84</td>\n",
       "    </tr>\n",
       "    <tr>\n",
       "      <th>8</th>\n",
       "      <td>www.xvideos.com</td>\n",
       "      <td>68</td>\n",
       "    </tr>\n",
       "    <tr>\n",
       "      <th>9</th>\n",
       "      <td>es.m.wikipedia.org</td>\n",
       "      <td>53</td>\n",
       "    </tr>\n",
       "  </tbody>\n",
       "</table>\n",
       "</div>"
      ],
      "text/plain": [
       "                index   url\n",
       "0              as.com  2189\n",
       "1     www.eldiario.es   515\n",
       "2      www.google.com   317\n",
       "3  mobile.twitter.com   137\n",
       "4    www.pinterest.es   109\n",
       "5   aulavirtual.um.es    91\n",
       "6   resultados.as.com    87\n",
       "7     www.soolide.com    84\n",
       "8     www.xvideos.com    68\n",
       "9  es.m.wikipedia.org    53"
      ]
     },
     "execution_count": 27,
     "metadata": {},
     "output_type": "execute_result"
    }
   ],
   "source": [
    "Top10URL_df_i= Top10URL_df.reset_index()\n",
    "Top10URL_df_i"
   ]
  },
  {
   "cell_type": "code",
   "execution_count": 89,
   "id": "8ffcd467",
   "metadata": {},
   "outputs": [
    {
     "data": {
      "application/vnd.plotly.v1+json": {
       "config": {
        "linkText": "Export to plot.ly",
        "plotlyServerURL": "https://plot.ly",
        "showLink": true
       },
       "data": [
        {
         "marker": {
          "color": "rgba(255, 153, 51, 0.6)",
          "line": {
           "color": "rgba(255, 153, 51, 1.0)",
           "width": 1
          }
         },
         "name": "url",
         "orientation": "v",
         "text": "",
         "type": "bar",
         "x": [
          "as.com",
          "www.eldiario.es",
          "www.google.com",
          "mobile.twitter.com",
          "www.pinterest.es",
          "aulavirtual.um.es",
          "resultados.as.com",
          "www.soolide.com",
          "www.xvideos.com",
          "es.m.wikipedia.org"
         ],
         "y": [
          2189,
          515,
          317,
          137,
          109,
          91,
          87,
          84,
          68,
          53
         ]
        }
       ],
       "layout": {
        "legend": {
         "bgcolor": "#F5F6F9",
         "font": {
          "color": "#4D5663"
         }
        },
        "paper_bgcolor": "#F5F6F9",
        "plot_bgcolor": "#F5F6F9",
        "template": {
         "data": {
          "bar": [
           {
            "error_x": {
             "color": "#2a3f5f"
            },
            "error_y": {
             "color": "#2a3f5f"
            },
            "marker": {
             "line": {
              "color": "#E5ECF6",
              "width": 0.5
             }
            },
            "type": "bar"
           }
          ],
          "barpolar": [
           {
            "marker": {
             "line": {
              "color": "#E5ECF6",
              "width": 0.5
             }
            },
            "type": "barpolar"
           }
          ],
          "carpet": [
           {
            "aaxis": {
             "endlinecolor": "#2a3f5f",
             "gridcolor": "white",
             "linecolor": "white",
             "minorgridcolor": "white",
             "startlinecolor": "#2a3f5f"
            },
            "baxis": {
             "endlinecolor": "#2a3f5f",
             "gridcolor": "white",
             "linecolor": "white",
             "minorgridcolor": "white",
             "startlinecolor": "#2a3f5f"
            },
            "type": "carpet"
           }
          ],
          "choropleth": [
           {
            "colorbar": {
             "outlinewidth": 0,
             "ticks": ""
            },
            "type": "choropleth"
           }
          ],
          "contour": [
           {
            "colorbar": {
             "outlinewidth": 0,
             "ticks": ""
            },
            "colorscale": [
             [
              0,
              "#0d0887"
             ],
             [
              0.1111111111111111,
              "#46039f"
             ],
             [
              0.2222222222222222,
              "#7201a8"
             ],
             [
              0.3333333333333333,
              "#9c179e"
             ],
             [
              0.4444444444444444,
              "#bd3786"
             ],
             [
              0.5555555555555556,
              "#d8576b"
             ],
             [
              0.6666666666666666,
              "#ed7953"
             ],
             [
              0.7777777777777778,
              "#fb9f3a"
             ],
             [
              0.8888888888888888,
              "#fdca26"
             ],
             [
              1,
              "#f0f921"
             ]
            ],
            "type": "contour"
           }
          ],
          "contourcarpet": [
           {
            "colorbar": {
             "outlinewidth": 0,
             "ticks": ""
            },
            "type": "contourcarpet"
           }
          ],
          "heatmap": [
           {
            "colorbar": {
             "outlinewidth": 0,
             "ticks": ""
            },
            "colorscale": [
             [
              0,
              "#0d0887"
             ],
             [
              0.1111111111111111,
              "#46039f"
             ],
             [
              0.2222222222222222,
              "#7201a8"
             ],
             [
              0.3333333333333333,
              "#9c179e"
             ],
             [
              0.4444444444444444,
              "#bd3786"
             ],
             [
              0.5555555555555556,
              "#d8576b"
             ],
             [
              0.6666666666666666,
              "#ed7953"
             ],
             [
              0.7777777777777778,
              "#fb9f3a"
             ],
             [
              0.8888888888888888,
              "#fdca26"
             ],
             [
              1,
              "#f0f921"
             ]
            ],
            "type": "heatmap"
           }
          ],
          "heatmapgl": [
           {
            "colorbar": {
             "outlinewidth": 0,
             "ticks": ""
            },
            "colorscale": [
             [
              0,
              "#0d0887"
             ],
             [
              0.1111111111111111,
              "#46039f"
             ],
             [
              0.2222222222222222,
              "#7201a8"
             ],
             [
              0.3333333333333333,
              "#9c179e"
             ],
             [
              0.4444444444444444,
              "#bd3786"
             ],
             [
              0.5555555555555556,
              "#d8576b"
             ],
             [
              0.6666666666666666,
              "#ed7953"
             ],
             [
              0.7777777777777778,
              "#fb9f3a"
             ],
             [
              0.8888888888888888,
              "#fdca26"
             ],
             [
              1,
              "#f0f921"
             ]
            ],
            "type": "heatmapgl"
           }
          ],
          "histogram": [
           {
            "marker": {
             "colorbar": {
              "outlinewidth": 0,
              "ticks": ""
             }
            },
            "type": "histogram"
           }
          ],
          "histogram2d": [
           {
            "colorbar": {
             "outlinewidth": 0,
             "ticks": ""
            },
            "colorscale": [
             [
              0,
              "#0d0887"
             ],
             [
              0.1111111111111111,
              "#46039f"
             ],
             [
              0.2222222222222222,
              "#7201a8"
             ],
             [
              0.3333333333333333,
              "#9c179e"
             ],
             [
              0.4444444444444444,
              "#bd3786"
             ],
             [
              0.5555555555555556,
              "#d8576b"
             ],
             [
              0.6666666666666666,
              "#ed7953"
             ],
             [
              0.7777777777777778,
              "#fb9f3a"
             ],
             [
              0.8888888888888888,
              "#fdca26"
             ],
             [
              1,
              "#f0f921"
             ]
            ],
            "type": "histogram2d"
           }
          ],
          "histogram2dcontour": [
           {
            "colorbar": {
             "outlinewidth": 0,
             "ticks": ""
            },
            "colorscale": [
             [
              0,
              "#0d0887"
             ],
             [
              0.1111111111111111,
              "#46039f"
             ],
             [
              0.2222222222222222,
              "#7201a8"
             ],
             [
              0.3333333333333333,
              "#9c179e"
             ],
             [
              0.4444444444444444,
              "#bd3786"
             ],
             [
              0.5555555555555556,
              "#d8576b"
             ],
             [
              0.6666666666666666,
              "#ed7953"
             ],
             [
              0.7777777777777778,
              "#fb9f3a"
             ],
             [
              0.8888888888888888,
              "#fdca26"
             ],
             [
              1,
              "#f0f921"
             ]
            ],
            "type": "histogram2dcontour"
           }
          ],
          "mesh3d": [
           {
            "colorbar": {
             "outlinewidth": 0,
             "ticks": ""
            },
            "type": "mesh3d"
           }
          ],
          "parcoords": [
           {
            "line": {
             "colorbar": {
              "outlinewidth": 0,
              "ticks": ""
             }
            },
            "type": "parcoords"
           }
          ],
          "pie": [
           {
            "automargin": true,
            "type": "pie"
           }
          ],
          "scatter": [
           {
            "marker": {
             "colorbar": {
              "outlinewidth": 0,
              "ticks": ""
             }
            },
            "type": "scatter"
           }
          ],
          "scatter3d": [
           {
            "line": {
             "colorbar": {
              "outlinewidth": 0,
              "ticks": ""
             }
            },
            "marker": {
             "colorbar": {
              "outlinewidth": 0,
              "ticks": ""
             }
            },
            "type": "scatter3d"
           }
          ],
          "scattercarpet": [
           {
            "marker": {
             "colorbar": {
              "outlinewidth": 0,
              "ticks": ""
             }
            },
            "type": "scattercarpet"
           }
          ],
          "scattergeo": [
           {
            "marker": {
             "colorbar": {
              "outlinewidth": 0,
              "ticks": ""
             }
            },
            "type": "scattergeo"
           }
          ],
          "scattergl": [
           {
            "marker": {
             "colorbar": {
              "outlinewidth": 0,
              "ticks": ""
             }
            },
            "type": "scattergl"
           }
          ],
          "scattermapbox": [
           {
            "marker": {
             "colorbar": {
              "outlinewidth": 0,
              "ticks": ""
             }
            },
            "type": "scattermapbox"
           }
          ],
          "scatterpolar": [
           {
            "marker": {
             "colorbar": {
              "outlinewidth": 0,
              "ticks": ""
             }
            },
            "type": "scatterpolar"
           }
          ],
          "scatterpolargl": [
           {
            "marker": {
             "colorbar": {
              "outlinewidth": 0,
              "ticks": ""
             }
            },
            "type": "scatterpolargl"
           }
          ],
          "scatterternary": [
           {
            "marker": {
             "colorbar": {
              "outlinewidth": 0,
              "ticks": ""
             }
            },
            "type": "scatterternary"
           }
          ],
          "surface": [
           {
            "colorbar": {
             "outlinewidth": 0,
             "ticks": ""
            },
            "colorscale": [
             [
              0,
              "#0d0887"
             ],
             [
              0.1111111111111111,
              "#46039f"
             ],
             [
              0.2222222222222222,
              "#7201a8"
             ],
             [
              0.3333333333333333,
              "#9c179e"
             ],
             [
              0.4444444444444444,
              "#bd3786"
             ],
             [
              0.5555555555555556,
              "#d8576b"
             ],
             [
              0.6666666666666666,
              "#ed7953"
             ],
             [
              0.7777777777777778,
              "#fb9f3a"
             ],
             [
              0.8888888888888888,
              "#fdca26"
             ],
             [
              1,
              "#f0f921"
             ]
            ],
            "type": "surface"
           }
          ],
          "table": [
           {
            "cells": {
             "fill": {
              "color": "#EBF0F8"
             },
             "line": {
              "color": "white"
             }
            },
            "header": {
             "fill": {
              "color": "#C8D4E3"
             },
             "line": {
              "color": "white"
             }
            },
            "type": "table"
           }
          ]
         },
         "layout": {
          "annotationdefaults": {
           "arrowcolor": "#2a3f5f",
           "arrowhead": 0,
           "arrowwidth": 1
          },
          "autotypenumbers": "strict",
          "coloraxis": {
           "colorbar": {
            "outlinewidth": 0,
            "ticks": ""
           }
          },
          "colorscale": {
           "diverging": [
            [
             0,
             "#8e0152"
            ],
            [
             0.1,
             "#c51b7d"
            ],
            [
             0.2,
             "#de77ae"
            ],
            [
             0.3,
             "#f1b6da"
            ],
            [
             0.4,
             "#fde0ef"
            ],
            [
             0.5,
             "#f7f7f7"
            ],
            [
             0.6,
             "#e6f5d0"
            ],
            [
             0.7,
             "#b8e186"
            ],
            [
             0.8,
             "#7fbc41"
            ],
            [
             0.9,
             "#4d9221"
            ],
            [
             1,
             "#276419"
            ]
           ],
           "sequential": [
            [
             0,
             "#0d0887"
            ],
            [
             0.1111111111111111,
             "#46039f"
            ],
            [
             0.2222222222222222,
             "#7201a8"
            ],
            [
             0.3333333333333333,
             "#9c179e"
            ],
            [
             0.4444444444444444,
             "#bd3786"
            ],
            [
             0.5555555555555556,
             "#d8576b"
            ],
            [
             0.6666666666666666,
             "#ed7953"
            ],
            [
             0.7777777777777778,
             "#fb9f3a"
            ],
            [
             0.8888888888888888,
             "#fdca26"
            ],
            [
             1,
             "#f0f921"
            ]
           ],
           "sequentialminus": [
            [
             0,
             "#0d0887"
            ],
            [
             0.1111111111111111,
             "#46039f"
            ],
            [
             0.2222222222222222,
             "#7201a8"
            ],
            [
             0.3333333333333333,
             "#9c179e"
            ],
            [
             0.4444444444444444,
             "#bd3786"
            ],
            [
             0.5555555555555556,
             "#d8576b"
            ],
            [
             0.6666666666666666,
             "#ed7953"
            ],
            [
             0.7777777777777778,
             "#fb9f3a"
            ],
            [
             0.8888888888888888,
             "#fdca26"
            ],
            [
             1,
             "#f0f921"
            ]
           ]
          },
          "colorway": [
           "#636efa",
           "#EF553B",
           "#00cc96",
           "#ab63fa",
           "#FFA15A",
           "#19d3f3",
           "#FF6692",
           "#B6E880",
           "#FF97FF",
           "#FECB52"
          ],
          "font": {
           "color": "#2a3f5f"
          },
          "geo": {
           "bgcolor": "white",
           "lakecolor": "white",
           "landcolor": "#E5ECF6",
           "showlakes": true,
           "showland": true,
           "subunitcolor": "white"
          },
          "hoverlabel": {
           "align": "left"
          },
          "hovermode": "closest",
          "mapbox": {
           "style": "light"
          },
          "paper_bgcolor": "white",
          "plot_bgcolor": "#E5ECF6",
          "polar": {
           "angularaxis": {
            "gridcolor": "white",
            "linecolor": "white",
            "ticks": ""
           },
           "bgcolor": "#E5ECF6",
           "radialaxis": {
            "gridcolor": "white",
            "linecolor": "white",
            "ticks": ""
           }
          },
          "scene": {
           "xaxis": {
            "backgroundcolor": "#E5ECF6",
            "gridcolor": "white",
            "gridwidth": 2,
            "linecolor": "white",
            "showbackground": true,
            "ticks": "",
            "zerolinecolor": "white"
           },
           "yaxis": {
            "backgroundcolor": "#E5ECF6",
            "gridcolor": "white",
            "gridwidth": 2,
            "linecolor": "white",
            "showbackground": true,
            "ticks": "",
            "zerolinecolor": "white"
           },
           "zaxis": {
            "backgroundcolor": "#E5ECF6",
            "gridcolor": "white",
            "gridwidth": 2,
            "linecolor": "white",
            "showbackground": true,
            "ticks": "",
            "zerolinecolor": "white"
           }
          },
          "shapedefaults": {
           "line": {
            "color": "#2a3f5f"
           }
          },
          "ternary": {
           "aaxis": {
            "gridcolor": "white",
            "linecolor": "white",
            "ticks": ""
           },
           "baxis": {
            "gridcolor": "white",
            "linecolor": "white",
            "ticks": ""
           },
           "bgcolor": "#E5ECF6",
           "caxis": {
            "gridcolor": "white",
            "linecolor": "white",
            "ticks": ""
           }
          },
          "title": {
           "x": 0.05
          },
          "xaxis": {
           "automargin": true,
           "gridcolor": "white",
           "linecolor": "white",
           "ticks": "",
           "title": {
            "standoff": 15
           },
           "zerolinecolor": "white",
           "zerolinewidth": 2
          },
          "yaxis": {
           "automargin": true,
           "gridcolor": "white",
           "linecolor": "white",
           "ticks": "",
           "title": {
            "standoff": 15
           },
           "zerolinecolor": "white",
           "zerolinewidth": 2
          }
         }
        },
        "title": {
         "font": {
          "color": "#4D5663"
         },
         "text": "Páginas más visitadas"
        },
        "xaxis": {
         "gridcolor": "#E1E5ED",
         "showgrid": true,
         "tickfont": {
          "color": "#4D5663"
         },
         "title": {
          "font": {
           "color": "#4D5663"
          },
          "text": "Country"
         },
         "zerolinecolor": "#E1E5ED"
        },
        "yaxis": {
         "gridcolor": "#E1E5ED",
         "showgrid": true,
         "tickfont": {
          "color": "#4D5663"
         },
         "title": {
          "font": {
           "color": "#4D5663"
          },
          "text": ""
         },
         "zerolinecolor": "#E1E5ED"
        }
       }
      },
      "text/html": [
       "<div>                            <div id=\"5ea1a365-a579-4cb5-b28c-f1a4ce385e49\" class=\"plotly-graph-div\" style=\"height:525px; width:100%;\"></div>            <script type=\"text/javascript\">                require([\"plotly\"], function(Plotly) {                    window.PLOTLYENV=window.PLOTLYENV || {};\n",
       "                    window.PLOTLYENV.BASE_URL='https://plot.ly';                                    if (document.getElementById(\"5ea1a365-a579-4cb5-b28c-f1a4ce385e49\")) {                    Plotly.newPlot(                        \"5ea1a365-a579-4cb5-b28c-f1a4ce385e49\",                        [{\"marker\": {\"color\": \"rgba(255, 153, 51, 0.6)\", \"line\": {\"color\": \"rgba(255, 153, 51, 1.0)\", \"width\": 1}}, \"name\": \"url\", \"orientation\": \"v\", \"text\": \"\", \"type\": \"bar\", \"x\": [\"as.com\", \"www.eldiario.es\", \"www.google.com\", \"mobile.twitter.com\", \"www.pinterest.es\", \"aulavirtual.um.es\", \"resultados.as.com\", \"www.soolide.com\", \"www.xvideos.com\", \"es.m.wikipedia.org\"], \"y\": [2189, 515, 317, 137, 109, 91, 87, 84, 68, 53]}],                        {\"legend\": {\"bgcolor\": \"#F5F6F9\", \"font\": {\"color\": \"#4D5663\"}}, \"paper_bgcolor\": \"#F5F6F9\", \"plot_bgcolor\": \"#F5F6F9\", \"template\": {\"data\": {\"bar\": [{\"error_x\": {\"color\": \"#2a3f5f\"}, \"error_y\": {\"color\": \"#2a3f5f\"}, \"marker\": {\"line\": {\"color\": \"#E5ECF6\", \"width\": 0.5}}, \"type\": \"bar\"}], \"barpolar\": [{\"marker\": {\"line\": {\"color\": \"#E5ECF6\", \"width\": 0.5}}, \"type\": \"barpolar\"}], \"carpet\": [{\"aaxis\": {\"endlinecolor\": \"#2a3f5f\", \"gridcolor\": \"white\", \"linecolor\": \"white\", \"minorgridcolor\": \"white\", \"startlinecolor\": \"#2a3f5f\"}, \"baxis\": {\"endlinecolor\": \"#2a3f5f\", \"gridcolor\": \"white\", \"linecolor\": \"white\", \"minorgridcolor\": \"white\", \"startlinecolor\": \"#2a3f5f\"}, \"type\": \"carpet\"}], \"choropleth\": [{\"colorbar\": {\"outlinewidth\": 0, \"ticks\": \"\"}, \"type\": \"choropleth\"}], \"contour\": [{\"colorbar\": {\"outlinewidth\": 0, \"ticks\": \"\"}, \"colorscale\": [[0.0, \"#0d0887\"], [0.1111111111111111, \"#46039f\"], [0.2222222222222222, \"#7201a8\"], [0.3333333333333333, \"#9c179e\"], [0.4444444444444444, \"#bd3786\"], [0.5555555555555556, \"#d8576b\"], [0.6666666666666666, \"#ed7953\"], [0.7777777777777778, \"#fb9f3a\"], [0.8888888888888888, \"#fdca26\"], [1.0, \"#f0f921\"]], \"type\": \"contour\"}], \"contourcarpet\": [{\"colorbar\": {\"outlinewidth\": 0, \"ticks\": \"\"}, \"type\": \"contourcarpet\"}], \"heatmap\": [{\"colorbar\": {\"outlinewidth\": 0, \"ticks\": \"\"}, \"colorscale\": [[0.0, \"#0d0887\"], [0.1111111111111111, \"#46039f\"], [0.2222222222222222, \"#7201a8\"], [0.3333333333333333, \"#9c179e\"], [0.4444444444444444, \"#bd3786\"], [0.5555555555555556, \"#d8576b\"], [0.6666666666666666, \"#ed7953\"], [0.7777777777777778, \"#fb9f3a\"], [0.8888888888888888, \"#fdca26\"], [1.0, \"#f0f921\"]], \"type\": \"heatmap\"}], \"heatmapgl\": [{\"colorbar\": {\"outlinewidth\": 0, \"ticks\": \"\"}, \"colorscale\": [[0.0, \"#0d0887\"], [0.1111111111111111, \"#46039f\"], [0.2222222222222222, \"#7201a8\"], [0.3333333333333333, \"#9c179e\"], [0.4444444444444444, \"#bd3786\"], [0.5555555555555556, \"#d8576b\"], [0.6666666666666666, \"#ed7953\"], [0.7777777777777778, \"#fb9f3a\"], [0.8888888888888888, \"#fdca26\"], [1.0, \"#f0f921\"]], \"type\": \"heatmapgl\"}], \"histogram\": [{\"marker\": {\"colorbar\": {\"outlinewidth\": 0, \"ticks\": \"\"}}, \"type\": \"histogram\"}], \"histogram2d\": [{\"colorbar\": {\"outlinewidth\": 0, \"ticks\": \"\"}, \"colorscale\": [[0.0, \"#0d0887\"], [0.1111111111111111, \"#46039f\"], [0.2222222222222222, \"#7201a8\"], [0.3333333333333333, \"#9c179e\"], [0.4444444444444444, \"#bd3786\"], [0.5555555555555556, \"#d8576b\"], [0.6666666666666666, \"#ed7953\"], [0.7777777777777778, \"#fb9f3a\"], [0.8888888888888888, \"#fdca26\"], [1.0, \"#f0f921\"]], \"type\": \"histogram2d\"}], \"histogram2dcontour\": [{\"colorbar\": {\"outlinewidth\": 0, \"ticks\": \"\"}, \"colorscale\": [[0.0, \"#0d0887\"], [0.1111111111111111, \"#46039f\"], [0.2222222222222222, \"#7201a8\"], [0.3333333333333333, \"#9c179e\"], [0.4444444444444444, \"#bd3786\"], [0.5555555555555556, \"#d8576b\"], [0.6666666666666666, \"#ed7953\"], [0.7777777777777778, \"#fb9f3a\"], [0.8888888888888888, \"#fdca26\"], [1.0, \"#f0f921\"]], \"type\": \"histogram2dcontour\"}], \"mesh3d\": [{\"colorbar\": {\"outlinewidth\": 0, \"ticks\": \"\"}, \"type\": \"mesh3d\"}], \"parcoords\": [{\"line\": {\"colorbar\": {\"outlinewidth\": 0, \"ticks\": \"\"}}, \"type\": \"parcoords\"}], \"pie\": [{\"automargin\": true, \"type\": \"pie\"}], \"scatter\": [{\"marker\": {\"colorbar\": {\"outlinewidth\": 0, \"ticks\": \"\"}}, \"type\": \"scatter\"}], \"scatter3d\": [{\"line\": {\"colorbar\": {\"outlinewidth\": 0, \"ticks\": \"\"}}, \"marker\": {\"colorbar\": {\"outlinewidth\": 0, \"ticks\": \"\"}}, \"type\": \"scatter3d\"}], \"scattercarpet\": [{\"marker\": {\"colorbar\": {\"outlinewidth\": 0, \"ticks\": \"\"}}, \"type\": \"scattercarpet\"}], \"scattergeo\": [{\"marker\": {\"colorbar\": {\"outlinewidth\": 0, \"ticks\": \"\"}}, \"type\": \"scattergeo\"}], \"scattergl\": [{\"marker\": {\"colorbar\": {\"outlinewidth\": 0, \"ticks\": \"\"}}, \"type\": \"scattergl\"}], \"scattermapbox\": [{\"marker\": {\"colorbar\": {\"outlinewidth\": 0, \"ticks\": \"\"}}, \"type\": \"scattermapbox\"}], \"scatterpolar\": [{\"marker\": {\"colorbar\": {\"outlinewidth\": 0, \"ticks\": \"\"}}, \"type\": \"scatterpolar\"}], \"scatterpolargl\": [{\"marker\": {\"colorbar\": {\"outlinewidth\": 0, \"ticks\": \"\"}}, \"type\": \"scatterpolargl\"}], \"scatterternary\": [{\"marker\": {\"colorbar\": {\"outlinewidth\": 0, \"ticks\": \"\"}}, \"type\": \"scatterternary\"}], \"surface\": [{\"colorbar\": {\"outlinewidth\": 0, \"ticks\": \"\"}, \"colorscale\": [[0.0, \"#0d0887\"], [0.1111111111111111, \"#46039f\"], [0.2222222222222222, \"#7201a8\"], [0.3333333333333333, \"#9c179e\"], [0.4444444444444444, \"#bd3786\"], [0.5555555555555556, \"#d8576b\"], [0.6666666666666666, \"#ed7953\"], [0.7777777777777778, \"#fb9f3a\"], [0.8888888888888888, \"#fdca26\"], [1.0, \"#f0f921\"]], \"type\": \"surface\"}], \"table\": [{\"cells\": {\"fill\": {\"color\": \"#EBF0F8\"}, \"line\": {\"color\": \"white\"}}, \"header\": {\"fill\": {\"color\": \"#C8D4E3\"}, \"line\": {\"color\": \"white\"}}, \"type\": \"table\"}]}, \"layout\": {\"annotationdefaults\": {\"arrowcolor\": \"#2a3f5f\", \"arrowhead\": 0, \"arrowwidth\": 1}, \"autotypenumbers\": \"strict\", \"coloraxis\": {\"colorbar\": {\"outlinewidth\": 0, \"ticks\": \"\"}}, \"colorscale\": {\"diverging\": [[0, \"#8e0152\"], [0.1, \"#c51b7d\"], [0.2, \"#de77ae\"], [0.3, \"#f1b6da\"], [0.4, \"#fde0ef\"], [0.5, \"#f7f7f7\"], [0.6, \"#e6f5d0\"], [0.7, \"#b8e186\"], [0.8, \"#7fbc41\"], [0.9, \"#4d9221\"], [1, \"#276419\"]], \"sequential\": [[0.0, \"#0d0887\"], [0.1111111111111111, \"#46039f\"], [0.2222222222222222, \"#7201a8\"], [0.3333333333333333, \"#9c179e\"], [0.4444444444444444, \"#bd3786\"], [0.5555555555555556, \"#d8576b\"], [0.6666666666666666, \"#ed7953\"], [0.7777777777777778, \"#fb9f3a\"], [0.8888888888888888, \"#fdca26\"], [1.0, \"#f0f921\"]], \"sequentialminus\": [[0.0, \"#0d0887\"], [0.1111111111111111, \"#46039f\"], [0.2222222222222222, \"#7201a8\"], [0.3333333333333333, \"#9c179e\"], [0.4444444444444444, \"#bd3786\"], [0.5555555555555556, \"#d8576b\"], [0.6666666666666666, \"#ed7953\"], [0.7777777777777778, \"#fb9f3a\"], [0.8888888888888888, \"#fdca26\"], [1.0, \"#f0f921\"]]}, \"colorway\": [\"#636efa\", \"#EF553B\", \"#00cc96\", \"#ab63fa\", \"#FFA15A\", \"#19d3f3\", \"#FF6692\", \"#B6E880\", \"#FF97FF\", \"#FECB52\"], \"font\": {\"color\": \"#2a3f5f\"}, \"geo\": {\"bgcolor\": \"white\", \"lakecolor\": \"white\", \"landcolor\": \"#E5ECF6\", \"showlakes\": true, \"showland\": true, \"subunitcolor\": \"white\"}, \"hoverlabel\": {\"align\": \"left\"}, \"hovermode\": \"closest\", \"mapbox\": {\"style\": \"light\"}, \"paper_bgcolor\": \"white\", \"plot_bgcolor\": \"#E5ECF6\", \"polar\": {\"angularaxis\": {\"gridcolor\": \"white\", \"linecolor\": \"white\", \"ticks\": \"\"}, \"bgcolor\": \"#E5ECF6\", \"radialaxis\": {\"gridcolor\": \"white\", \"linecolor\": \"white\", \"ticks\": \"\"}}, \"scene\": {\"xaxis\": {\"backgroundcolor\": \"#E5ECF6\", \"gridcolor\": \"white\", \"gridwidth\": 2, \"linecolor\": \"white\", \"showbackground\": true, \"ticks\": \"\", \"zerolinecolor\": \"white\"}, \"yaxis\": {\"backgroundcolor\": \"#E5ECF6\", \"gridcolor\": \"white\", \"gridwidth\": 2, \"linecolor\": \"white\", \"showbackground\": true, \"ticks\": \"\", \"zerolinecolor\": \"white\"}, \"zaxis\": {\"backgroundcolor\": \"#E5ECF6\", \"gridcolor\": \"white\", \"gridwidth\": 2, \"linecolor\": \"white\", \"showbackground\": true, \"ticks\": \"\", \"zerolinecolor\": \"white\"}}, \"shapedefaults\": {\"line\": {\"color\": \"#2a3f5f\"}}, \"ternary\": {\"aaxis\": {\"gridcolor\": \"white\", \"linecolor\": \"white\", \"ticks\": \"\"}, \"baxis\": {\"gridcolor\": \"white\", \"linecolor\": \"white\", \"ticks\": \"\"}, \"bgcolor\": \"#E5ECF6\", \"caxis\": {\"gridcolor\": \"white\", \"linecolor\": \"white\", \"ticks\": \"\"}}, \"title\": {\"x\": 0.05}, \"xaxis\": {\"automargin\": true, \"gridcolor\": \"white\", \"linecolor\": \"white\", \"ticks\": \"\", \"title\": {\"standoff\": 15}, \"zerolinecolor\": \"white\", \"zerolinewidth\": 2}, \"yaxis\": {\"automargin\": true, \"gridcolor\": \"white\", \"linecolor\": \"white\", \"ticks\": \"\", \"title\": {\"standoff\": 15}, \"zerolinecolor\": \"white\", \"zerolinewidth\": 2}}}, \"title\": {\"font\": {\"color\": \"#4D5663\"}, \"text\": \"P\\u00e1ginas m\\u00e1s visitadas\"}, \"xaxis\": {\"gridcolor\": \"#E1E5ED\", \"showgrid\": true, \"tickfont\": {\"color\": \"#4D5663\"}, \"title\": {\"font\": {\"color\": \"#4D5663\"}, \"text\": \"Country\"}, \"zerolinecolor\": \"#E1E5ED\"}, \"yaxis\": {\"gridcolor\": \"#E1E5ED\", \"showgrid\": true, \"tickfont\": {\"color\": \"#4D5663\"}, \"title\": {\"font\": {\"color\": \"#4D5663\"}, \"text\": \"\"}, \"zerolinecolor\": \"#E1E5ED\"}},                        {\"showLink\": true, \"linkText\": \"Export to plot.ly\", \"plotlyServerURL\": \"https://plot.ly\", \"responsive\": true}                    ).then(function(){\n",
       "                            \n",
       "var gd = document.getElementById('5ea1a365-a579-4cb5-b28c-f1a4ce385e49');\n",
       "var x = new MutationObserver(function (mutations, observer) {{\n",
       "        var display = window.getComputedStyle(gd).display;\n",
       "        if (!display || display === 'none') {{\n",
       "            console.log([gd, 'removed!']);\n",
       "            Plotly.purge(gd);\n",
       "            observer.disconnect();\n",
       "        }}\n",
       "}});\n",
       "\n",
       "// Listen for the removal of the full notebook cells\n",
       "var notebookContainer = gd.closest('#notebook-container');\n",
       "if (notebookContainer) {{\n",
       "    x.observe(notebookContainer, {childList: true});\n",
       "}}\n",
       "\n",
       "// Listen for the clearing of the current output cell\n",
       "var outputEl = gd.closest('.output');\n",
       "if (outputEl) {{\n",
       "    x.observe(outputEl, {childList: true});\n",
       "}}\n",
       "\n",
       "                        })                };                });            </script>        </div>"
      ]
     },
     "metadata": {},
     "output_type": "display_data"
    }
   ],
   "source": [
    "#Top10URL_df.plot('index', 'url', type)\n",
    "#plt.hist(Top10URL_df, x= 'index', y= 'url')\n",
    "Top10URL.iplot(kind='bar', xTitle='Country', title='Páginas más visitadas')"
   ]
  },
  {
   "cell_type": "code",
   "execution_count": 29,
   "id": "15205c01",
   "metadata": {},
   "outputs": [],
   "source": [
    "os. chdir('Servicios de Juegos de Google Play/Juegos/')#cd Servicios de Juegos de Google Play/Juegos/"
   ]
  },
  {
   "cell_type": "code",
   "execution_count": 30,
   "id": "1bd06ac4",
   "metadata": {},
   "outputs": [
    {
     "name": "stdout",
     "output_type": "stream",
     "text": [
      "\u001b[0m\u001b[01;34m'Best Sniper Legacy_ Dino Hunt'\u001b[0m/  \u001b[01;34m'Jet Run_ City Defender'\u001b[0m/\r\n",
      "\u001b[01;34m'CATS_ Crash Arena Turbo Stars'\u001b[0m/  \u001b[01;34m'Linebound - Life On The Line'\u001b[0m/\r\n",
      "\u001b[01;34m'Cooking Fever'\u001b[0m/                  \u001b[01;34m'Madrid Zombi'\u001b[0m/\r\n",
      "\u001b[01;34m'DEAD TARGET_ Zombie Shooting'\u001b[0m/   \u001b[01;34m'Red Ball 4'\u001b[0m/\r\n",
      "\u001b[01;34m'Google Play Games'\u001b[0m/              \u001b[01;34m'Warlings_ Armageddon'\u001b[0m/\r\n",
      "\u001b[01;34m'Hero Wars'\u001b[0m/                       wordcloud.png\r\n"
     ]
    }
   ],
   "source": [
    "ls"
   ]
  },
  {
   "cell_type": "code",
   "execution_count": 31,
   "id": "a011daf3",
   "metadata": {},
   "outputs": [
    {
     "data": {
      "text/plain": [
       "['Jet Run_ City Defender',\n",
       " 'Red Ball 4',\n",
       " 'Madrid Zombi',\n",
       " 'DEAD TARGET_ Zombie Shooting',\n",
       " 'Google Play Games',\n",
       " 'Linebound - Life On The Line',\n",
       " 'wordcloud.png',\n",
       " 'CATS_ Crash Arena Turbo Stars',\n",
       " 'Warlings_ Armageddon',\n",
       " 'Hero Wars',\n",
       " 'Cooking Fever',\n",
       " 'Best Sniper Legacy_ Dino Hunt']"
      ]
     },
     "execution_count": 31,
     "metadata": {},
     "output_type": "execute_result"
    }
   ],
   "source": [
    "juegos = os.listdir()\n",
    "juegos"
   ]
  },
  {
   "cell_type": "code",
   "execution_count": 32,
   "id": "fb490d35",
   "metadata": {},
   "outputs": [
    {
     "data": {
      "text/html": [
       "<div>\n",
       "<style scoped>\n",
       "    .dataframe tbody tr th:only-of-type {\n",
       "        vertical-align: middle;\n",
       "    }\n",
       "\n",
       "    .dataframe tbody tr th {\n",
       "        vertical-align: top;\n",
       "    }\n",
       "\n",
       "    .dataframe thead th {\n",
       "        text-align: right;\n",
       "    }\n",
       "</style>\n",
       "<table border=\"1\" class=\"dataframe\">\n",
       "  <thead>\n",
       "    <tr style=\"text-align: right;\">\n",
       "      <th></th>\n",
       "      <th>0</th>\n",
       "      <th>limpio</th>\n",
       "    </tr>\n",
       "  </thead>\n",
       "  <tbody>\n",
       "    <tr>\n",
       "      <th>0</th>\n",
       "      <td>Jet Run_ City Defender</td>\n",
       "      <td>Jet_Run__City_Defender</td>\n",
       "    </tr>\n",
       "    <tr>\n",
       "      <th>1</th>\n",
       "      <td>Red Ball 4</td>\n",
       "      <td>Red_Ball_4</td>\n",
       "    </tr>\n",
       "    <tr>\n",
       "      <th>2</th>\n",
       "      <td>Madrid Zombi</td>\n",
       "      <td>Madrid_Zombi</td>\n",
       "    </tr>\n",
       "    <tr>\n",
       "      <th>3</th>\n",
       "      <td>DEAD TARGET_ Zombie Shooting</td>\n",
       "      <td>DEAD_TARGET__Zombie_Shooting</td>\n",
       "    </tr>\n",
       "    <tr>\n",
       "      <th>4</th>\n",
       "      <td>Google Play Games</td>\n",
       "      <td>Google_Play_Games</td>\n",
       "    </tr>\n",
       "    <tr>\n",
       "      <th>5</th>\n",
       "      <td>Linebound - Life On The Line</td>\n",
       "      <td>Linebound_-_Life_On_The_Line</td>\n",
       "    </tr>\n",
       "    <tr>\n",
       "      <th>6</th>\n",
       "      <td>wordcloud.png</td>\n",
       "      <td>wordcloud.png</td>\n",
       "    </tr>\n",
       "    <tr>\n",
       "      <th>7</th>\n",
       "      <td>CATS_ Crash Arena Turbo Stars</td>\n",
       "      <td>CATS__Crash_Arena_Turbo_Stars</td>\n",
       "    </tr>\n",
       "    <tr>\n",
       "      <th>8</th>\n",
       "      <td>Warlings_ Armageddon</td>\n",
       "      <td>Warlings__Armageddon</td>\n",
       "    </tr>\n",
       "    <tr>\n",
       "      <th>9</th>\n",
       "      <td>Hero Wars</td>\n",
       "      <td>Hero_Wars</td>\n",
       "    </tr>\n",
       "    <tr>\n",
       "      <th>10</th>\n",
       "      <td>Cooking Fever</td>\n",
       "      <td>Cooking_Fever</td>\n",
       "    </tr>\n",
       "    <tr>\n",
       "      <th>11</th>\n",
       "      <td>Best Sniper Legacy_ Dino Hunt</td>\n",
       "      <td>Best_Sniper_Legacy__Dino_Hunt</td>\n",
       "    </tr>\n",
       "  </tbody>\n",
       "</table>\n",
       "</div>"
      ],
      "text/plain": [
       "                                0                         limpio\n",
       "0          Jet Run_ City Defender         Jet_Run__City_Defender\n",
       "1                      Red Ball 4                     Red_Ball_4\n",
       "2                    Madrid Zombi                   Madrid_Zombi\n",
       "3    DEAD TARGET_ Zombie Shooting   DEAD_TARGET__Zombie_Shooting\n",
       "4               Google Play Games              Google_Play_Games\n",
       "5    Linebound - Life On The Line   Linebound_-_Life_On_The_Line\n",
       "6                   wordcloud.png                  wordcloud.png\n",
       "7   CATS_ Crash Arena Turbo Stars  CATS__Crash_Arena_Turbo_Stars\n",
       "8            Warlings_ Armageddon           Warlings__Armageddon\n",
       "9                       Hero Wars                      Hero_Wars\n",
       "10                  Cooking Fever                  Cooking_Fever\n",
       "11  Best Sniper Legacy_ Dino Hunt  Best_Sniper_Legacy__Dino_Hunt"
      ]
     },
     "execution_count": 32,
     "metadata": {},
     "output_type": "execute_result"
    }
   ],
   "source": [
    "juegos_df = pd.DataFrame(juegos)\n",
    "juegos_df\n",
    "juegos_df['limpio'] = juegos_df.apply(lambda x: x.replace(' ', '_'))\n",
    "juegos_df['limpio'] = juegos_df['limpio'].apply(lambda x: x.replace(' ', '_'))\n",
    "juegos_df"
   ]
  },
  {
   "cell_type": "code",
   "execution_count": 33,
   "id": "4fc3ca44",
   "metadata": {},
   "outputs": [
    {
     "data": {
      "image/png": "[encoded data removed]",
      "text/plain": [
       "<Figure size 1080x720 with 1 Axes>"
      ]
     },
     "metadata": {},
     "output_type": "display_data"
    }
   ],
   "source": [
    "wordcloud = WordCloud(width=1600,height=800, stopwords=juegos, repeat= False, collocations=False).generate(' '.join([e for e in juegos_df['limpio']]))\n",
    "\n",
    "plt.figure(figsize=(15, 10), facecolor='k')\n",
    "plt.imshow(wordcloud)\n",
    "plt.axis('off')\n",
    "plt.tight_layout(pad=0)\n",
    "plt.savefig('wordcloud.png', facecolor='k', bbox_inches='tight')\n",
    "plt.show();"
   ]
  },
  {
   "cell_type": "code",
   "execution_count": null,
   "id": "2bdb30a6",
   "metadata": {},
   "outputs": [],
   "source": []
  },
  {
   "cell_type": "code",
   "execution_count": 34,
   "id": "268edf8a",
   "metadata": {},
   "outputs": [],
   "source": [
    "df['sopa'] = df.url.apply(lambda x: x.replace('com', '').replace('www', '').replace('es', '')\n",
    "                           .replace('org', '').strip())"
   ]
  },
  {
   "cell_type": "code",
   "execution_count": 35,
   "id": "75c47075",
   "metadata": {},
   "outputs": [
    {
     "data": {
      "image/png": "[encoded data removed]",
      "text/plain": [
       "<Figure size 1080x720 with 1 Axes>"
      ]
     },
     "metadata": {},
     "output_type": "display_data"
    }
   ],
   "source": [
    "wordcloud = WordCloud(width=1600,height=800, stopwords=juegos, repeat= False, collocations=False).generate(' '.join([e for e in df.sopa]))\n",
    "\n",
    "plt.figure(figsize=(15, 10), facecolor='k')\n",
    "plt.imshow(wordcloud)\n",
    "plt.axis('off')\n",
    "plt.tight_layout(pad=0)\n",
    "plt.savefig('wordcloud.png', facecolor='k', bbox_inches='tight')\n",
    "plt.show();"
   ]
  },
  {
   "cell_type": "code",
   "execution_count": 36,
   "id": "d3d43fd0",
   "metadata": {},
   "outputs": [],
   "source": [
    "os. chdir(Takeout_dir)"
   ]
  },
  {
   "cell_type": "code",
   "execution_count": 37,
   "id": "ff8f432c",
   "metadata": {},
   "outputs": [],
   "source": [
    "r = open(Takeout_dir + '/' + 'Maps (Tus sitios)' +'/'+'Reseñas.json')"
   ]
  },
  {
   "cell_type": "code",
   "execution_count": 38,
   "id": "101ad0fa",
   "metadata": {},
   "outputs": [],
   "source": [
    "reseñas_json = json.load(r)"
   ]
  },
  {
   "cell_type": "code",
   "execution_count": 39,
   "id": "219af15f",
   "metadata": {},
   "outputs": [
    {
     "data": {
      "text/plain": [
       "[{'geometry': {'coordinates': [-3.6738487, 40.4248464], 'type': 'Point'},\n",
       "  'properties': {'Google Maps URL': 'https://www.google.com/maps/place//data=!4m2!3m1!1s0x0:0x5d92102d0ed91be8',\n",
       "   'Location': {'Address': 'Calle de Goya, 99 escalera A, 1D, 28009 Madrid, España',\n",
       "    'Business Name': 'Instituto Dental Espinassi & Happy Smile Clinic',\n",
       "    'Country Code': 'ES',\n",
       "    'Geo Coordinates': {'Latitude': '40.4248464', 'Longitude': '-3.6738487'}},\n",
       "   'Published': '2021-05-27T14:18:47.943834Z',\n",
       "   'Review Comment': 'Una experiencia estupenda. El sitio está muy bien, me trataron genial y el tratamiento de blancamiento es super efectivo. Muy recomendable :)',\n",
       "   'Star Rating': 5},\n",
       "  'type': 'Feature'},\n",
       " {'geometry': {'coordinates': [-3.7040303, 40.426999], 'type': 'Point'},\n",
       "  'properties': {'Google Maps URL': 'https://www.google.com/maps/place//data=!4m2!3m1!1s0x0:0x78bf2642005218b1',\n",
       "   'Location': {'Address': 'Plaza del Dos de Mayo, 28004 Madrid, España',\n",
       "    'Business Name': 'Plaza del Dos de Mayo',\n",
       "    'Country Code': 'ES',\n",
       "    'Geo Coordinates': {'Latitude': '40.4269990', 'Longitude': '-3.7040303'}},\n",
       "   'Published': '2021-02-14T12:08:37.717870Z',\n",
       "   'Star Rating': 5},\n",
       "  'type': 'Feature'},\n",
       " {'geometry': {'coordinates': [-3.708749, 40.416807], 'type': 'Point'},\n",
       "  'properties': {'Google Maps URL': 'https://www.google.com/maps/place//data=!4m2!3m1!1s0x0:0x660985eb8d9cede4',\n",
       "   'Location': {'Address': 'Calle de las Fuentes, 1, 28013 Madrid, España',\n",
       "    'Business Name': 'Ramen Kagura Ópera',\n",
       "    'Country Code': 'ES',\n",
       "    'Geo Coordinates': {'Latitude': '40.4168070', 'Longitude': '-3.7087490'}},\n",
       "   'Published': '2020-12-14T04:10:40.835201Z',\n",
       "   'Star Rating': 5},\n",
       "  'type': 'Feature'},\n",
       " {'geometry': {'coordinates': [-3.7026066, 40.4313091], 'type': 'Point'},\n",
       "  'properties': {'Google Maps URL': 'https://www.google.com/maps/place//data=!4m2!3m1!1s0x0:0x4033c309796d5207',\n",
       "   'Location': {'Address': 'Calle de Alburquerque, 5, 28010 Madrid, España',\n",
       "    'Business Name': 'Moti e Vi',\n",
       "    'Country Code': 'ES',\n",
       "    'Geo Coordinates': {'Latitude': '40.4313091', 'Longitude': '-3.7026066'}},\n",
       "   'Published': '2020-12-03T11:15:50.821144Z',\n",
       "   'Review Comment': 'Cocina de autor buenísima y super barata! Me encantó! Y el ambiente muy agradable.',\n",
       "   'Star Rating': 5},\n",
       "  'type': 'Feature'},\n",
       " {'geometry': {'coordinates': [23.728162, 37.9654788], 'type': 'Point'},\n",
       "  'properties': {'Google Maps URL': 'https://www.google.com/maps/place//data=!4m2!3m1!1s0x0:0x3fe412a82fc813ef',\n",
       "   'Location': {'Address': 'Leof. Andrea Siggrou 49, Athina 117 43, Grecia',\n",
       "    'Business Name': 'Europcar',\n",
       "    'Country Code': 'GR',\n",
       "    'Geo Coordinates': {'Latitude': '37.9654788', 'Longitude': '23.7281620'}},\n",
       "   'Published': '2020-08-07T12:35:17.480014Z',\n",
       "   'Review Comment': 'Horrible experiencia. Nos hicieron pagar un seguro a todo riesgo para poder coger el coche. Después de asegurarnos que nos habian dado un coche mejor, este se rompio a 100km de donde teníamos que devolver el coche. El de la grua dijo que tenía que llevarse el coche, al tiempo que por telefono una chica de Europcar nos decía que como ya habia pasado la hora de entrega, no nos daban coche de sustitución. Todo mal.',\n",
       "   'Star Rating': 1},\n",
       "  'type': 'Feature'},\n",
       " {'geometry': {'coordinates': [-3.59055, 40.4621018], 'type': 'Point'},\n",
       "  'properties': {'Google Maps URL': 'https://www.google.com/maps/place//data=!4m2!3m1!1s0x0:0xc29610f59fa49055',\n",
       "   'Location': {'Address': 'Av. de Logroño, 205, 28042 Madrid, España',\n",
       "    'Business Name': 'La Caña de Gonzalo',\n",
       "    'Country Code': 'ES',\n",
       "    'Geo Coordinates': {'Latitude': '40.4621018', 'Longitude': '-3.5905500'}},\n",
       "   'Published': '2020-07-12T14:25:06.184531Z',\n",
       "   'Review Comment': 'Delicioso! Tienen mi cerveza favorita de barril, la pilsen urquell, y las tapas están buenísimas, recomiendo la minihamburquesa de queso se cabra y cebolla caramelizada. Muy buen trato y muy buen ambiente.',\n",
       "   'Star Rating': 5},\n",
       "  'type': 'Feature'},\n",
       " {'geometry': {'coordinates': [-3.701479, 40.40255], 'type': 'Point'},\n",
       "  'properties': {'Google Maps URL': 'https://www.google.com/maps/place//data=!4m2!3m1!1s0x0:0xe7abde3e60aae0f9',\n",
       "   'Location': {'Address': 'Calle de Martín de Vargas, 23, 28005 Madrid, España',\n",
       "    'Business Name': 'GRUPO CDM (Madrid)',\n",
       "    'Geo Coordinates': {'Latitude': '40.4025500', 'Longitude': '-3.7014790'}},\n",
       "   'Published': '2020-01-21T19:14:14.092122Z',\n",
       "   'Star Rating': 5},\n",
       "  'type': 'Feature'},\n",
       " {'geometry': {'coordinates': [-3.6882448, 40.4257422], 'type': 'Point'},\n",
       "  'properties': {'Google Maps URL': 'https://www.google.com/maps/place//data=!4m2!3m1!1s0x0:0x17ecedb11082d9f',\n",
       "   'Location': {'Address': 'Calle de Goya, 11, 28001 Madrid, España',\n",
       "    'Business Name': 'Cafe & Tapas',\n",
       "    'Country Code': 'ES',\n",
       "    'Geo Coordinates': {'Latitude': '40.4257422', 'Longitude': '-3.6882448'}},\n",
       "   'Published': '2020-01-08T17:11:38.363955Z',\n",
       "   'Star Rating': 2},\n",
       "  'type': 'Feature'},\n",
       " {'geometry': {'coordinates': [-3.7011585, 40.4294192], 'type': 'Point'},\n",
       "  'properties': {'Google Maps URL': 'https://www.google.com/maps/place//data=!4m2!3m1!1s0x0:0x86645b98870d08f',\n",
       "   'Location': {'Address': 'Calle de Luchana, 6, 28010 Madrid, España',\n",
       "    'Business Name': 'LA CHOCITA SA',\n",
       "    'Country Code': 'ES',\n",
       "    'Geo Coordinates': {'Latitude': '40.4294192', 'Longitude': '-3.7011585'}},\n",
       "   'Published': '2019-02-09T18:24:40.423019Z',\n",
       "   'Star Rating': 1},\n",
       "  'type': 'Feature'},\n",
       " {'geometry': {'coordinates': [-3.7094052, 40.4205735], 'type': 'Point'},\n",
       "  'properties': {'Google Maps URL': 'https://www.google.com/maps/place//data=!4m2!3m1!1s0x0:0xd2817bc697d6de14',\n",
       "   'Location': {'Address': 'Calle de la Bola, 12, 28013 Madrid, España',\n",
       "    'Business Name': 'A Ri Rang',\n",
       "    'Country Code': 'ES',\n",
       "    'Geo Coordinates': {'Latitude': '40.4205735', 'Longitude': '-3.7094052'}},\n",
       "   'Published': '2019-01-13T13:57:58.404336Z',\n",
       "   'Review Comment': 'Muy recomendable. Tienen un plato q se llama bimbabap q suena muy gracioso bien pronunciado',\n",
       "   'Star Rating': 5},\n",
       "  'type': 'Feature'},\n",
       " {'geometry': {'coordinates': [-3.7130877, 40.4420227], 'type': 'Point'},\n",
       "  'properties': {'Google Maps URL': 'https://www.google.com/maps/place//data=!4m2!3m1!1s0x0:0x2b24b073edd5f7f',\n",
       "   'Location': {'Address': 'Paseo de S. Fco. de Sales, 36, 28003 Madrid, España',\n",
       "    'Business Name': 'Cervecería 100 Montaditos',\n",
       "    'Country Code': 'ES',\n",
       "    'Geo Coordinates': {'Latitude': '40.4420227', 'Longitude': '-3.7130877'}},\n",
       "   'Published': '2018-11-14T20:54:09.362419Z',\n",
       "   'Review Comment': 'Tenían Mahou, que aunque esté aguada, es mejor que la Cruzcampo...',\n",
       "   'Star Rating': 4},\n",
       "  'type': 'Feature'},\n",
       " {'geometry': {'coordinates': [-3.7166019, 40.4804702], 'type': 'Point'},\n",
       "  'properties': {'Google Maps URL': 'https://www.google.com/maps/place//data=!4m2!3m1!1s0x0:0x88dd1b5ee1f0dd21',\n",
       "   'Location': {'Address': 'Calle de Fermín Caballero, 80, 28035 Madrid, España',\n",
       "    'Business Name': 'Mesón Las Vegas',\n",
       "    'Country Code': 'ES',\n",
       "    'Geo Coordinates': {'Latitude': '40.4804702', 'Longitude': '-3.7166019'}},\n",
       "   'Published': '2018-09-21T13:13:12.413484Z',\n",
       "   'Star Rating': 5},\n",
       "  'type': 'Feature'}]"
      ]
     },
     "execution_count": 39,
     "metadata": {},
     "output_type": "execute_result"
    }
   ],
   "source": [
    "reseñas_json[\"features\"]"
   ]
  },
  {
   "cell_type": "code",
   "execution_count": 40,
   "id": "8afe9246",
   "metadata": {},
   "outputs": [
    {
     "data": {
      "text/html": [
       "<div>\n",
       "<style scoped>\n",
       "    .dataframe tbody tr th:only-of-type {\n",
       "        vertical-align: middle;\n",
       "    }\n",
       "\n",
       "    .dataframe tbody tr th {\n",
       "        vertical-align: top;\n",
       "    }\n",
       "\n",
       "    .dataframe thead th {\n",
       "        text-align: right;\n",
       "    }\n",
       "</style>\n",
       "<table border=\"1\" class=\"dataframe\">\n",
       "  <thead>\n",
       "    <tr style=\"text-align: right;\">\n",
       "      <th></th>\n",
       "      <th>geometry</th>\n",
       "      <th>properties</th>\n",
       "      <th>type</th>\n",
       "    </tr>\n",
       "  </thead>\n",
       "  <tbody>\n",
       "    <tr>\n",
       "      <th>0</th>\n",
       "      <td>{'coordinates': [-3.6738487, 40.4248464], 'typ...</td>\n",
       "      <td>{'Google Maps URL': 'https://www.google.com/ma...</td>\n",
       "      <td>Feature</td>\n",
       "    </tr>\n",
       "    <tr>\n",
       "      <th>1</th>\n",
       "      <td>{'coordinates': [-3.7040303, 40.426999], 'type...</td>\n",
       "      <td>{'Google Maps URL': 'https://www.google.com/ma...</td>\n",
       "      <td>Feature</td>\n",
       "    </tr>\n",
       "    <tr>\n",
       "      <th>2</th>\n",
       "      <td>{'coordinates': [-3.708749, 40.416807], 'type'...</td>\n",
       "      <td>{'Google Maps URL': 'https://www.google.com/ma...</td>\n",
       "      <td>Feature</td>\n",
       "    </tr>\n",
       "    <tr>\n",
       "      <th>3</th>\n",
       "      <td>{'coordinates': [-3.7026066, 40.4313091], 'typ...</td>\n",
       "      <td>{'Google Maps URL': 'https://www.google.com/ma...</td>\n",
       "      <td>Feature</td>\n",
       "    </tr>\n",
       "    <tr>\n",
       "      <th>4</th>\n",
       "      <td>{'coordinates': [23.728162, 37.9654788], 'type...</td>\n",
       "      <td>{'Google Maps URL': 'https://www.google.com/ma...</td>\n",
       "      <td>Feature</td>\n",
       "    </tr>\n",
       "    <tr>\n",
       "      <th>5</th>\n",
       "      <td>{'coordinates': [-3.59055, 40.4621018], 'type'...</td>\n",
       "      <td>{'Google Maps URL': 'https://www.google.com/ma...</td>\n",
       "      <td>Feature</td>\n",
       "    </tr>\n",
       "    <tr>\n",
       "      <th>6</th>\n",
       "      <td>{'coordinates': [-3.701479, 40.40255], 'type':...</td>\n",
       "      <td>{'Google Maps URL': 'https://www.google.com/ma...</td>\n",
       "      <td>Feature</td>\n",
       "    </tr>\n",
       "    <tr>\n",
       "      <th>7</th>\n",
       "      <td>{'coordinates': [-3.6882448, 40.4257422], 'typ...</td>\n",
       "      <td>{'Google Maps URL': 'https://www.google.com/ma...</td>\n",
       "      <td>Feature</td>\n",
       "    </tr>\n",
       "    <tr>\n",
       "      <th>8</th>\n",
       "      <td>{'coordinates': [-3.7011585, 40.4294192], 'typ...</td>\n",
       "      <td>{'Google Maps URL': 'https://www.google.com/ma...</td>\n",
       "      <td>Feature</td>\n",
       "    </tr>\n",
       "    <tr>\n",
       "      <th>9</th>\n",
       "      <td>{'coordinates': [-3.7094052, 40.4205735], 'typ...</td>\n",
       "      <td>{'Google Maps URL': 'https://www.google.com/ma...</td>\n",
       "      <td>Feature</td>\n",
       "    </tr>\n",
       "    <tr>\n",
       "      <th>10</th>\n",
       "      <td>{'coordinates': [-3.7130877, 40.4420227], 'typ...</td>\n",
       "      <td>{'Google Maps URL': 'https://www.google.com/ma...</td>\n",
       "      <td>Feature</td>\n",
       "    </tr>\n",
       "    <tr>\n",
       "      <th>11</th>\n",
       "      <td>{'coordinates': [-3.7166019, 40.4804702], 'typ...</td>\n",
       "      <td>{'Google Maps URL': 'https://www.google.com/ma...</td>\n",
       "      <td>Feature</td>\n",
       "    </tr>\n",
       "  </tbody>\n",
       "</table>\n",
       "</div>"
      ],
      "text/plain": [
       "                                             geometry  \\\n",
       "0   {'coordinates': [-3.6738487, 40.4248464], 'typ...   \n",
       "1   {'coordinates': [-3.7040303, 40.426999], 'type...   \n",
       "2   {'coordinates': [-3.708749, 40.416807], 'type'...   \n",
       "3   {'coordinates': [-3.7026066, 40.4313091], 'typ...   \n",
       "4   {'coordinates': [23.728162, 37.9654788], 'type...   \n",
       "5   {'coordinates': [-3.59055, 40.4621018], 'type'...   \n",
       "6   {'coordinates': [-3.701479, 40.40255], 'type':...   \n",
       "7   {'coordinates': [-3.6882448, 40.4257422], 'typ...   \n",
       "8   {'coordinates': [-3.7011585, 40.4294192], 'typ...   \n",
       "9   {'coordinates': [-3.7094052, 40.4205735], 'typ...   \n",
       "10  {'coordinates': [-3.7130877, 40.4420227], 'typ...   \n",
       "11  {'coordinates': [-3.7166019, 40.4804702], 'typ...   \n",
       "\n",
       "                                           properties     type  \n",
       "0   {'Google Maps URL': 'https://www.google.com/ma...  Feature  \n",
       "1   {'Google Maps URL': 'https://www.google.com/ma...  Feature  \n",
       "2   {'Google Maps URL': 'https://www.google.com/ma...  Feature  \n",
       "3   {'Google Maps URL': 'https://www.google.com/ma...  Feature  \n",
       "4   {'Google Maps URL': 'https://www.google.com/ma...  Feature  \n",
       "5   {'Google Maps URL': 'https://www.google.com/ma...  Feature  \n",
       "6   {'Google Maps URL': 'https://www.google.com/ma...  Feature  \n",
       "7   {'Google Maps URL': 'https://www.google.com/ma...  Feature  \n",
       "8   {'Google Maps URL': 'https://www.google.com/ma...  Feature  \n",
       "9   {'Google Maps URL': 'https://www.google.com/ma...  Feature  \n",
       "10  {'Google Maps URL': 'https://www.google.com/ma...  Feature  \n",
       "11  {'Google Maps URL': 'https://www.google.com/ma...  Feature  "
      ]
     },
     "execution_count": 40,
     "metadata": {},
     "output_type": "execute_result"
    }
   ],
   "source": [
    "df_reseñas = pd.DataFrame(reseñas_json[\"features\"])\n",
    "df_reseñas"
   ]
  },
  {
   "cell_type": "code",
   "execution_count": 41,
   "id": "7ddb571a",
   "metadata": {},
   "outputs": [
    {
     "data": {
      "text/plain": [
       "Google Maps URL                       object\n",
       "Published                             object\n",
       "Review Comment                        object\n",
       "Star Rating                            int64\n",
       "Location.Address                      object\n",
       "Location.Business Name                object\n",
       "Location.Country Code                 object\n",
       "Location.Geo Coordinates.Latitude     object\n",
       "Location.Geo Coordinates.Longitude    object\n",
       "dtype: object"
      ]
     },
     "execution_count": 41,
     "metadata": {},
     "output_type": "execute_result"
    }
   ],
   "source": [
    "df_reseñas1 = pd.json_normalize(df_reseñas['properties'])\n",
    "df_reseñas1.dtypes"
   ]
  },
  {
   "cell_type": "code",
   "execution_count": 42,
   "id": "904cddbd",
   "metadata": {},
   "outputs": [
    {
     "data": {
      "text/plain": [
       "Google Maps URL                       object\n",
       "Published                             object\n",
       "Review Comment                        object\n",
       "Star Rating                            int64\n",
       "Location.Address                      object\n",
       "Location.Business Name                object\n",
       "Location.Country Code                 object\n",
       "Location.Geo Coordinates.Latitude     object\n",
       "Location.Geo Coordinates.Longitude    object\n",
       "dtype: object"
      ]
     },
     "execution_count": 42,
     "metadata": {},
     "output_type": "execute_result"
    }
   ],
   "source": [
    "df_reseñas1.dtypes"
   ]
  },
  {
   "cell_type": "code",
   "execution_count": 43,
   "id": "d5c3effd",
   "metadata": {},
   "outputs": [
    {
     "data": {
      "text/html": [
       "<div>\n",
       "<style scoped>\n",
       "    .dataframe tbody tr th:only-of-type {\n",
       "        vertical-align: middle;\n",
       "    }\n",
       "\n",
       "    .dataframe tbody tr th {\n",
       "        vertical-align: top;\n",
       "    }\n",
       "\n",
       "    .dataframe thead th {\n",
       "        text-align: right;\n",
       "    }\n",
       "</style>\n",
       "<table border=\"1\" class=\"dataframe\">\n",
       "  <thead>\n",
       "    <tr style=\"text-align: right;\">\n",
       "      <th></th>\n",
       "      <th>Google Maps URL</th>\n",
       "      <th>Published</th>\n",
       "      <th>Review Comment</th>\n",
       "      <th>Star Rating</th>\n",
       "      <th>Location.Address</th>\n",
       "      <th>Location.Business Name</th>\n",
       "      <th>Location.Country Code</th>\n",
       "      <th>Location.Geo Coordinates.Latitude</th>\n",
       "      <th>Location.Geo Coordinates.Longitude</th>\n",
       "    </tr>\n",
       "  </thead>\n",
       "  <tbody>\n",
       "    <tr>\n",
       "      <th>0</th>\n",
       "      <td>https://www.google.com/maps/place//data=!4m2!3...</td>\n",
       "      <td>2021-05-27T14:18:47.943834Z</td>\n",
       "      <td>Una experiencia estupenda. El sitio está muy b...</td>\n",
       "      <td>5</td>\n",
       "      <td>Calle de Goya, 99 escalera A, 1D, 28009 Madrid...</td>\n",
       "      <td>Instituto Dental Espinassi &amp; Happy Smile Clinic</td>\n",
       "      <td>ES</td>\n",
       "      <td>40.424847</td>\n",
       "      <td>-3.673849</td>\n",
       "    </tr>\n",
       "    <tr>\n",
       "      <th>1</th>\n",
       "      <td>https://www.google.com/maps/place//data=!4m2!3...</td>\n",
       "      <td>2021-02-14T12:08:37.717870Z</td>\n",
       "      <td>NaN</td>\n",
       "      <td>5</td>\n",
       "      <td>Plaza del Dos de Mayo, 28004 Madrid, España</td>\n",
       "      <td>Plaza del Dos de Mayo</td>\n",
       "      <td>ES</td>\n",
       "      <td>40.426998</td>\n",
       "      <td>-3.704030</td>\n",
       "    </tr>\n",
       "    <tr>\n",
       "      <th>2</th>\n",
       "      <td>https://www.google.com/maps/place//data=!4m2!3...</td>\n",
       "      <td>2020-12-14T04:10:40.835201Z</td>\n",
       "      <td>NaN</td>\n",
       "      <td>5</td>\n",
       "      <td>Calle de las Fuentes, 1, 28013 Madrid, España</td>\n",
       "      <td>Ramen Kagura Ópera</td>\n",
       "      <td>ES</td>\n",
       "      <td>40.416805</td>\n",
       "      <td>-3.708749</td>\n",
       "    </tr>\n",
       "    <tr>\n",
       "      <th>3</th>\n",
       "      <td>https://www.google.com/maps/place//data=!4m2!3...</td>\n",
       "      <td>2020-12-03T11:15:50.821144Z</td>\n",
       "      <td>Cocina de autor buenísima y super barata! Me e...</td>\n",
       "      <td>5</td>\n",
       "      <td>Calle de Alburquerque, 5, 28010 Madrid, España</td>\n",
       "      <td>Moti e Vi</td>\n",
       "      <td>ES</td>\n",
       "      <td>40.431309</td>\n",
       "      <td>-3.702607</td>\n",
       "    </tr>\n",
       "    <tr>\n",
       "      <th>4</th>\n",
       "      <td>https://www.google.com/maps/place//data=!4m2!3...</td>\n",
       "      <td>2020-08-07T12:35:17.480014Z</td>\n",
       "      <td>Horrible experiencia. Nos hicieron pagar un se...</td>\n",
       "      <td>1</td>\n",
       "      <td>Leof. Andrea Siggrou 49, Athina 117 43, Grecia</td>\n",
       "      <td>Europcar</td>\n",
       "      <td>GR</td>\n",
       "      <td>37.965477</td>\n",
       "      <td>23.728163</td>\n",
       "    </tr>\n",
       "    <tr>\n",
       "      <th>5</th>\n",
       "      <td>https://www.google.com/maps/place//data=!4m2!3...</td>\n",
       "      <td>2020-07-12T14:25:06.184531Z</td>\n",
       "      <td>Delicioso! Tienen mi cerveza favorita de barri...</td>\n",
       "      <td>5</td>\n",
       "      <td>Av. de Logroño, 205, 28042 Madrid, España</td>\n",
       "      <td>La Caña de Gonzalo</td>\n",
       "      <td>ES</td>\n",
       "      <td>40.462101</td>\n",
       "      <td>-3.590550</td>\n",
       "    </tr>\n",
       "    <tr>\n",
       "      <th>6</th>\n",
       "      <td>https://www.google.com/maps/place//data=!4m2!3...</td>\n",
       "      <td>2020-01-21T19:14:14.092122Z</td>\n",
       "      <td>NaN</td>\n",
       "      <td>5</td>\n",
       "      <td>Calle de Martín de Vargas, 23, 28005 Madrid, E...</td>\n",
       "      <td>GRUPO CDM (Madrid)</td>\n",
       "      <td>NaN</td>\n",
       "      <td>40.402550</td>\n",
       "      <td>-3.701479</td>\n",
       "    </tr>\n",
       "    <tr>\n",
       "      <th>7</th>\n",
       "      <td>https://www.google.com/maps/place//data=!4m2!3...</td>\n",
       "      <td>2020-01-08T17:11:38.363955Z</td>\n",
       "      <td>NaN</td>\n",
       "      <td>2</td>\n",
       "      <td>Calle de Goya, 11, 28001 Madrid, España</td>\n",
       "      <td>Cafe &amp; Tapas</td>\n",
       "      <td>ES</td>\n",
       "      <td>40.425743</td>\n",
       "      <td>-3.688245</td>\n",
       "    </tr>\n",
       "    <tr>\n",
       "      <th>8</th>\n",
       "      <td>https://www.google.com/maps/place//data=!4m2!3...</td>\n",
       "      <td>2019-02-09T18:24:40.423019Z</td>\n",
       "      <td>NaN</td>\n",
       "      <td>1</td>\n",
       "      <td>Calle de Luchana, 6, 28010 Madrid, España</td>\n",
       "      <td>LA CHOCITA SA</td>\n",
       "      <td>ES</td>\n",
       "      <td>40.429420</td>\n",
       "      <td>-3.701159</td>\n",
       "    </tr>\n",
       "    <tr>\n",
       "      <th>9</th>\n",
       "      <td>https://www.google.com/maps/place//data=!4m2!3...</td>\n",
       "      <td>2019-01-13T13:57:58.404336Z</td>\n",
       "      <td>Muy recomendable. Tienen un plato q se llama b...</td>\n",
       "      <td>5</td>\n",
       "      <td>Calle de la Bola, 12, 28013 Madrid, España</td>\n",
       "      <td>A Ri Rang</td>\n",
       "      <td>ES</td>\n",
       "      <td>40.420574</td>\n",
       "      <td>-3.709405</td>\n",
       "    </tr>\n",
       "    <tr>\n",
       "      <th>10</th>\n",
       "      <td>https://www.google.com/maps/place//data=!4m2!3...</td>\n",
       "      <td>2018-11-14T20:54:09.362419Z</td>\n",
       "      <td>Tenían Mahou, que aunque esté aguada, es mejor...</td>\n",
       "      <td>4</td>\n",
       "      <td>Paseo de S. Fco. de Sales, 36, 28003 Madrid, E...</td>\n",
       "      <td>Cervecería 100 Montaditos</td>\n",
       "      <td>ES</td>\n",
       "      <td>40.442024</td>\n",
       "      <td>-3.713088</td>\n",
       "    </tr>\n",
       "    <tr>\n",
       "      <th>11</th>\n",
       "      <td>https://www.google.com/maps/place//data=!4m2!3...</td>\n",
       "      <td>2018-09-21T13:13:12.413484Z</td>\n",
       "      <td>NaN</td>\n",
       "      <td>5</td>\n",
       "      <td>Calle de Fermín Caballero, 80, 28035 Madrid, E...</td>\n",
       "      <td>Mesón Las Vegas</td>\n",
       "      <td>ES</td>\n",
       "      <td>40.480469</td>\n",
       "      <td>-3.716602</td>\n",
       "    </tr>\n",
       "  </tbody>\n",
       "</table>\n",
       "</div>"
      ],
      "text/plain": [
       "                                      Google Maps URL  \\\n",
       "0   https://www.google.com/maps/place//data=!4m2!3...   \n",
       "1   https://www.google.com/maps/place//data=!4m2!3...   \n",
       "2   https://www.google.com/maps/place//data=!4m2!3...   \n",
       "3   https://www.google.com/maps/place//data=!4m2!3...   \n",
       "4   https://www.google.com/maps/place//data=!4m2!3...   \n",
       "5   https://www.google.com/maps/place//data=!4m2!3...   \n",
       "6   https://www.google.com/maps/place//data=!4m2!3...   \n",
       "7   https://www.google.com/maps/place//data=!4m2!3...   \n",
       "8   https://www.google.com/maps/place//data=!4m2!3...   \n",
       "9   https://www.google.com/maps/place//data=!4m2!3...   \n",
       "10  https://www.google.com/maps/place//data=!4m2!3...   \n",
       "11  https://www.google.com/maps/place//data=!4m2!3...   \n",
       "\n",
       "                      Published  \\\n",
       "0   2021-05-27T14:18:47.943834Z   \n",
       "1   2021-02-14T12:08:37.717870Z   \n",
       "2   2020-12-14T04:10:40.835201Z   \n",
       "3   2020-12-03T11:15:50.821144Z   \n",
       "4   2020-08-07T12:35:17.480014Z   \n",
       "5   2020-07-12T14:25:06.184531Z   \n",
       "6   2020-01-21T19:14:14.092122Z   \n",
       "7   2020-01-08T17:11:38.363955Z   \n",
       "8   2019-02-09T18:24:40.423019Z   \n",
       "9   2019-01-13T13:57:58.404336Z   \n",
       "10  2018-11-14T20:54:09.362419Z   \n",
       "11  2018-09-21T13:13:12.413484Z   \n",
       "\n",
       "                                       Review Comment  Star Rating  \\\n",
       "0   Una experiencia estupenda. El sitio está muy b...            5   \n",
       "1                                                 NaN            5   \n",
       "2                                                 NaN            5   \n",
       "3   Cocina de autor buenísima y super barata! Me e...            5   \n",
       "4   Horrible experiencia. Nos hicieron pagar un se...            1   \n",
       "5   Delicioso! Tienen mi cerveza favorita de barri...            5   \n",
       "6                                                 NaN            5   \n",
       "7                                                 NaN            2   \n",
       "8                                                 NaN            1   \n",
       "9   Muy recomendable. Tienen un plato q se llama b...            5   \n",
       "10  Tenían Mahou, que aunque esté aguada, es mejor...            4   \n",
       "11                                                NaN            5   \n",
       "\n",
       "                                     Location.Address  \\\n",
       "0   Calle de Goya, 99 escalera A, 1D, 28009 Madrid...   \n",
       "1         Plaza del Dos de Mayo, 28004 Madrid, España   \n",
       "2       Calle de las Fuentes, 1, 28013 Madrid, España   \n",
       "3      Calle de Alburquerque, 5, 28010 Madrid, España   \n",
       "4      Leof. Andrea Siggrou 49, Athina 117 43, Grecia   \n",
       "5           Av. de Logroño, 205, 28042 Madrid, España   \n",
       "6   Calle de Martín de Vargas, 23, 28005 Madrid, E...   \n",
       "7             Calle de Goya, 11, 28001 Madrid, España   \n",
       "8           Calle de Luchana, 6, 28010 Madrid, España   \n",
       "9          Calle de la Bola, 12, 28013 Madrid, España   \n",
       "10  Paseo de S. Fco. de Sales, 36, 28003 Madrid, E...   \n",
       "11  Calle de Fermín Caballero, 80, 28035 Madrid, E...   \n",
       "\n",
       "                             Location.Business Name Location.Country Code  \\\n",
       "0   Instituto Dental Espinassi & Happy Smile Clinic                    ES   \n",
       "1                             Plaza del Dos de Mayo                    ES   \n",
       "2                                Ramen Kagura Ópera                    ES   \n",
       "3                                         Moti e Vi                    ES   \n",
       "4                                          Europcar                    GR   \n",
       "5                                La Caña de Gonzalo                    ES   \n",
       "6                                GRUPO CDM (Madrid)                   NaN   \n",
       "7                                      Cafe & Tapas                    ES   \n",
       "8                                     LA CHOCITA SA                    ES   \n",
       "9                                         A Ri Rang                    ES   \n",
       "10                        Cervecería 100 Montaditos                    ES   \n",
       "11                                  Mesón Las Vegas                    ES   \n",
       "\n",
       "    Location.Geo Coordinates.Latitude  Location.Geo Coordinates.Longitude  \n",
       "0                           40.424847                           -3.673849  \n",
       "1                           40.426998                           -3.704030  \n",
       "2                           40.416805                           -3.708749  \n",
       "3                           40.431309                           -3.702607  \n",
       "4                           37.965477                           23.728163  \n",
       "5                           40.462101                           -3.590550  \n",
       "6                           40.402550                           -3.701479  \n",
       "7                           40.425743                           -3.688245  \n",
       "8                           40.429420                           -3.701159  \n",
       "9                           40.420574                           -3.709405  \n",
       "10                          40.442024                           -3.713088  \n",
       "11                          40.480469                           -3.716602  "
      ]
     },
     "execution_count": 43,
     "metadata": {},
     "output_type": "execute_result"
    }
   ],
   "source": [
    "df_reseñas1[\"Location.Geo Coordinates.Latitude\"] = pd.to_numeric(df_reseñas1[\"Location.Geo Coordinates.Latitude\"], downcast=\"float\")\n",
    "df_reseñas1['Location.Geo Coordinates.Longitude'] = pd.to_numeric(df_reseñas1['Location.Geo Coordinates.Longitude'], downcast=\"float\")\n",
    "df_reseñas1"
   ]
  },
  {
   "cell_type": "code",
   "execution_count": 44,
   "id": "3bb36f14",
   "metadata": {},
   "outputs": [],
   "source": [
    "media_reseñas = df_reseñas1['Star Rating'].mean()"
   ]
  },
  {
   "cell_type": "code",
   "execution_count": 45,
   "id": "14c91c23",
   "metadata": {},
   "outputs": [
    {
     "data": {
      "text/plain": [
       "4.0"
      ]
     },
     "execution_count": 45,
     "metadata": {},
     "output_type": "execute_result"
    }
   ],
   "source": [
    "media_reseñas"
   ]
  },
  {
   "cell_type": "code",
   "execution_count": 46,
   "id": "1e7a3896",
   "metadata": {},
   "outputs": [
    {
     "name": "stderr",
     "output_type": "stream",
     "text": [
      "<ipython-input-46-2bcb6d4c3d76>:1: UserWarning:\n",
      "\n",
      "Pandas doesn't allow columns to be created via a new attribute name - see https://pandas.pydata.org/pandas-docs/stable/indexing.html#attribute-access\n",
      "\n"
     ]
    },
    {
     "data": {
      "text/plain": [
       "array([[40.424847 , -3.6738486],\n",
       "       [40.427    , -3.7040303],\n",
       "       [40.416805 , -3.708749 ],\n",
       "       [40.43131  , -3.7026067],\n",
       "       [37.965477 , 23.728163 ],\n",
       "       [40.4621   , -3.59055  ],\n",
       "       [40.40255  , -3.701479 ],\n",
       "       [40.425743 , -3.6882448],\n",
       "       [40.42942  , -3.7011585],\n",
       "       [40.420574 , -3.7094052],\n",
       "       [40.442024 , -3.7130878],\n",
       "       [40.48047  , -3.7166018]], dtype=float32)"
      ]
     },
     "execution_count": 46,
     "metadata": {},
     "output_type": "execute_result"
    }
   ],
   "source": [
    "df_reseñas1.ubica=df_reseñas1[['Location.Geo Coordinates.Latitude', 'Location.Geo Coordinates.Longitude']].values\n",
    "df_reseñas1.ubica"
   ]
  },
  {
   "cell_type": "code",
   "execution_count": 47,
   "id": "923c16e8",
   "metadata": {},
   "outputs": [
    {
     "data": {
      "text/html": [
       "<div style=\"width:100%;\"><div style=\"position:relative;width:100%;height:0;padding-bottom:60%;\"><span style=\"color:#565656\">Make this Notebook Trusted to load map: File -> Trust Notebook</span><iframe src=\"about:blank\" style=\"position:absolute;width:100%;height:100%;left:0;top:0;border:none !important;\" data-html=%3C%21DOCTYPE%20html%3E%0A%3Chead%3E%20%20%20%20%0A%20%20%20%20%3Cmeta%20http-equiv%3D%22content-type%22%20content%3D%22text/html%3B%20charset%3DUTF-8%22%20/%3E%0A%20%20%20%20%0A%20%20%20%20%20%20%20%20%3Cscript%3E%0A%20%20%20%20%20%20%20%20%20%20%20%20L_NO_TOUCH%20%3D%20false%3B%0A%20%20%20%20%20%20%20%20%20%20%20%20L_DISABLE_3D%20%3D%20false%3B%0A%20%20%20%20%20%20%20%20%3C/script%3E%0A%20%20%20%20%0A%20%20%20%20%3Cstyle%3Ehtml%2C%20body%20%7Bwidth%3A%20100%25%3Bheight%3A%20100%25%3Bmargin%3A%200%3Bpadding%3A%200%3B%7D%3C/style%3E%0A%20%20%20%20%3Cstyle%3E%23map%20%7Bposition%3Aabsolute%3Btop%3A0%3Bbottom%3A0%3Bright%3A0%3Bleft%3A0%3B%7D%3C/style%3E%0A%20%20%20%20%3Cscript%20src%3D%22https%3A//cdn.jsdelivr.net/npm/leaflet%401.6.0/dist/leaflet.js%22%3E%3C/script%3E%0A%20%20%20%20%3Cscript%20src%3D%22https%3A//code.jquery.com/jquery-1.12.4.min.js%22%3E%3C/script%3E%0A%20%20%20%20%3Cscript%20src%3D%22https%3A//maxcdn.bootstrapcdn.com/bootstrap/3.2.0/js/bootstrap.min.js%22%3E%3C/script%3E%0A%20%20%20%20%3Cscript%20src%3D%22https%3A//cdnjs.cloudflare.com/ajax/libs/Leaflet.awesome-markers/2.0.2/leaflet.awesome-markers.js%22%3E%3C/script%3E%0A%20%20%20%20%3Clink%20rel%3D%22stylesheet%22%20href%3D%22https%3A//cdn.jsdelivr.net/npm/leaflet%401.6.0/dist/leaflet.css%22/%3E%0A%20%20%20%20%3Clink%20rel%3D%22stylesheet%22%20href%3D%22https%3A//maxcdn.bootstrapcdn.com/bootstrap/3.2.0/css/bootstrap.min.css%22/%3E%0A%20%20%20%20%3Clink%20rel%3D%22stylesheet%22%20href%3D%22https%3A//maxcdn.bootstrapcdn.com/bootstrap/3.2.0/css/bootstrap-theme.min.css%22/%3E%0A%20%20%20%20%3Clink%20rel%3D%22stylesheet%22%20href%3D%22https%3A//maxcdn.bootstrapcdn.com/font-awesome/4.6.3/css/font-awesome.min.css%22/%3E%0A%20%20%20%20%3Clink%20rel%3D%22stylesheet%22%20href%3D%22https%3A//cdnjs.cloudflare.com/ajax/libs/Leaflet.awesome-markers/2.0.2/leaflet.awesome-markers.css%22/%3E%0A%20%20%20%20%3Clink%20rel%3D%22stylesheet%22%20href%3D%22https%3A//cdn.jsdelivr.net/gh/python-visualization/folium/folium/templates/leaflet.awesome.rotate.min.css%22/%3E%0A%20%20%20%20%0A%20%20%20%20%20%20%20%20%20%20%20%20%3Cmeta%20name%3D%22viewport%22%20content%3D%22width%3Ddevice-width%2C%0A%20%20%20%20%20%20%20%20%20%20%20%20%20%20%20%20initial-scale%3D1.0%2C%20maximum-scale%3D1.0%2C%20user-scalable%3Dno%22%20/%3E%0A%20%20%20%20%20%20%20%20%20%20%20%20%3Cstyle%3E%0A%20%20%20%20%20%20%20%20%20%20%20%20%20%20%20%20%23map_fd0ba713feb24a238fecddc4f2c1255a%20%7B%0A%20%20%20%20%20%20%20%20%20%20%20%20%20%20%20%20%20%20%20%20position%3A%20relative%3B%0A%20%20%20%20%20%20%20%20%20%20%20%20%20%20%20%20%20%20%20%20width%3A%20100.0%25%3B%0A%20%20%20%20%20%20%20%20%20%20%20%20%20%20%20%20%20%20%20%20height%3A%20100.0%25%3B%0A%20%20%20%20%20%20%20%20%20%20%20%20%20%20%20%20%20%20%20%20left%3A%200.0%25%3B%0A%20%20%20%20%20%20%20%20%20%20%20%20%20%20%20%20%20%20%20%20top%3A%200.0%25%3B%0A%20%20%20%20%20%20%20%20%20%20%20%20%20%20%20%20%7D%0A%20%20%20%20%20%20%20%20%20%20%20%20%3C/style%3E%0A%20%20%20%20%20%20%20%20%0A%3C/head%3E%0A%3Cbody%3E%20%20%20%20%0A%20%20%20%20%0A%20%20%20%20%20%20%20%20%20%20%20%20%3Cdiv%20class%3D%22folium-map%22%20id%3D%22map_fd0ba713feb24a238fecddc4f2c1255a%22%20%3E%3C/div%3E%0A%20%20%20%20%20%20%20%20%0A%3C/body%3E%0A%3Cscript%3E%20%20%20%20%0A%20%20%20%20%0A%20%20%20%20%20%20%20%20%20%20%20%20var%20map_fd0ba713feb24a238fecddc4f2c1255a%20%3D%20L.map%28%0A%20%20%20%20%20%20%20%20%20%20%20%20%20%20%20%20%22map_fd0ba713feb24a238fecddc4f2c1255a%22%2C%0A%20%20%20%20%20%20%20%20%20%20%20%20%20%20%20%20%7B%0A%20%20%20%20%20%20%20%20%20%20%20%20%20%20%20%20%20%20%20%20center%3A%20%5B40.42484664916992%2C%20-3.6738486289978027%5D%2C%0A%20%20%20%20%20%20%20%20%20%20%20%20%20%20%20%20%20%20%20%20crs%3A%20L.CRS.EPSG3857%2C%0A%20%20%20%20%20%20%20%20%20%20%20%20%20%20%20%20%20%20%20%20zoom%3A%2012%2C%0A%20%20%20%20%20%20%20%20%20%20%20%20%20%20%20%20%20%20%20%20zoomControl%3A%20true%2C%0A%20%20%20%20%20%20%20%20%20%20%20%20%20%20%20%20%20%20%20%20preferCanvas%3A%20false%2C%0A%20%20%20%20%20%20%20%20%20%20%20%20%20%20%20%20%7D%0A%20%20%20%20%20%20%20%20%20%20%20%20%29%3B%0A%0A%20%20%20%20%20%20%20%20%20%20%20%20%0A%0A%20%20%20%20%20%20%20%20%0A%20%20%20%20%0A%20%20%20%20%20%20%20%20%20%20%20%20var%20tile_layer_884f1a048c7644cfa309dc7211b38845%20%3D%20L.tileLayer%28%0A%20%20%20%20%20%20%20%20%20%20%20%20%20%20%20%20%22https%3A//stamen-tiles-%7Bs%7D.a.ssl.fastly.net/terrain/%7Bz%7D/%7Bx%7D/%7By%7D.jpg%22%2C%0A%20%20%20%20%20%20%20%20%20%20%20%20%20%20%20%20%7B%22attribution%22%3A%20%22Map%20tiles%20by%20%5Cu003ca%20href%3D%5C%22http%3A//stamen.com%5C%22%5Cu003eStamen%20Design%5Cu003c/a%5Cu003e%2C%20under%20%5Cu003ca%20href%3D%5C%22http%3A//creativecommons.org/licenses/by/3.0%5C%22%5Cu003eCC%20BY%203.0%5Cu003c/a%5Cu003e.%20Data%20by%20%5Cu0026copy%3B%20%5Cu003ca%20href%3D%5C%22http%3A//openstreetmap.org%5C%22%5Cu003eOpenStreetMap%5Cu003c/a%5Cu003e%2C%20under%20%5Cu003ca%20href%3D%5C%22http%3A//creativecommons.org/licenses/by-sa/3.0%5C%22%5Cu003eCC%20BY%20SA%5Cu003c/a%5Cu003e.%22%2C%20%22detectRetina%22%3A%20false%2C%20%22maxNativeZoom%22%3A%2018%2C%20%22maxZoom%22%3A%2018%2C%20%22minZoom%22%3A%200%2C%20%22noWrap%22%3A%20false%2C%20%22opacity%22%3A%201%2C%20%22subdomains%22%3A%20%22abc%22%2C%20%22tms%22%3A%20false%7D%0A%20%20%20%20%20%20%20%20%20%20%20%20%29.addTo%28map_fd0ba713feb24a238fecddc4f2c1255a%29%3B%0A%20%20%20%20%20%20%20%20%0A%20%20%20%20%0A%20%20%20%20%20%20%20%20%20%20%20%20var%20marker_31c3d45e2a794a58822b027f8fd5ee57%20%3D%20L.marker%28%0A%20%20%20%20%20%20%20%20%20%20%20%20%20%20%20%20%5B40.42484664916992%2C%20-3.6738486289978027%5D%2C%0A%20%20%20%20%20%20%20%20%20%20%20%20%20%20%20%20%7B%7D%0A%20%20%20%20%20%20%20%20%20%20%20%20%29.addTo%28map_fd0ba713feb24a238fecddc4f2c1255a%29%3B%0A%20%20%20%20%20%20%20%20%0A%20%20%20%20%0A%20%20%20%20%20%20%20%20%20%20%20%20var%20icon_ec6e4566a198403c829c161e09f9c0bb%20%3D%20L.AwesomeMarkers.icon%28%0A%20%20%20%20%20%20%20%20%20%20%20%20%20%20%20%20%7B%22extraClasses%22%3A%20%22fa-rotate-0%22%2C%20%22icon%22%3A%20%22check%22%2C%20%22iconColor%22%3A%20%22white%22%2C%20%22markerColor%22%3A%20%22green%22%2C%20%22prefix%22%3A%20%22fa%22%7D%0A%20%20%20%20%20%20%20%20%20%20%20%20%29%3B%0A%20%20%20%20%20%20%20%20%20%20%20%20marker_31c3d45e2a794a58822b027f8fd5ee57.setIcon%28icon_ec6e4566a198403c829c161e09f9c0bb%29%3B%0A%20%20%20%20%20%20%20%20%0A%20%20%20%20%0A%20%20%20%20%20%20%20%20var%20popup_f0b5bc7b8743408ea077f70d3f5d6028%20%3D%20L.popup%28%7B%22maxWidth%22%3A%20%22100%25%22%7D%29%3B%0A%0A%20%20%20%20%20%20%20%20%0A%20%20%20%20%20%20%20%20%20%20%20%20var%20html_ec64b43870b04e619ede4827b836c707%20%3D%20%24%28%60%3Cdiv%20id%3D%22html_ec64b43870b04e619ede4827b836c707%22%20style%3D%22width%3A%20100.0%25%3B%20height%3A%20100.0%25%3B%22%3EInstituto%20Dental%20Espinassi%20%26%20Happy%20Smile%20Clinic%20%285%29%3C/div%3E%60%29%5B0%5D%3B%0A%20%20%20%20%20%20%20%20%20%20%20%20popup_f0b5bc7b8743408ea077f70d3f5d6028.setContent%28html_ec64b43870b04e619ede4827b836c707%29%3B%0A%20%20%20%20%20%20%20%20%0A%0A%20%20%20%20%20%20%20%20marker_31c3d45e2a794a58822b027f8fd5ee57.bindPopup%28popup_f0b5bc7b8743408ea077f70d3f5d6028%29%0A%20%20%20%20%20%20%20%20%3B%0A%0A%20%20%20%20%20%20%20%20%0A%20%20%20%20%0A%20%20%20%20%0A%20%20%20%20%20%20%20%20%20%20%20%20var%20marker_fb92740c58504f21af1a0f65f85a244e%20%3D%20L.marker%28%0A%20%20%20%20%20%20%20%20%20%20%20%20%20%20%20%20%5B40.426998138427734%2C%20-3.7040302753448486%5D%2C%0A%20%20%20%20%20%20%20%20%20%20%20%20%20%20%20%20%7B%7D%0A%20%20%20%20%20%20%20%20%20%20%20%20%29.addTo%28map_fd0ba713feb24a238fecddc4f2c1255a%29%3B%0A%20%20%20%20%20%20%20%20%0A%20%20%20%20%0A%20%20%20%20%20%20%20%20%20%20%20%20var%20icon_7035483a4a224f5da763463d31833455%20%3D%20L.AwesomeMarkers.icon%28%0A%20%20%20%20%20%20%20%20%20%20%20%20%20%20%20%20%7B%22extraClasses%22%3A%20%22fa-rotate-0%22%2C%20%22icon%22%3A%20%22check%22%2C%20%22iconColor%22%3A%20%22white%22%2C%20%22markerColor%22%3A%20%22green%22%2C%20%22prefix%22%3A%20%22fa%22%7D%0A%20%20%20%20%20%20%20%20%20%20%20%20%29%3B%0A%20%20%20%20%20%20%20%20%20%20%20%20marker_fb92740c58504f21af1a0f65f85a244e.setIcon%28icon_7035483a4a224f5da763463d31833455%29%3B%0A%20%20%20%20%20%20%20%20%0A%20%20%20%20%0A%20%20%20%20%20%20%20%20var%20popup_073b0d066b5a4131adadd90b1e33f0f2%20%3D%20L.popup%28%7B%22maxWidth%22%3A%20%22100%25%22%7D%29%3B%0A%0A%20%20%20%20%20%20%20%20%0A%20%20%20%20%20%20%20%20%20%20%20%20var%20html_bf868abed61e44a29ce859f16fb400e8%20%3D%20%24%28%60%3Cdiv%20id%3D%22html_bf868abed61e44a29ce859f16fb400e8%22%20style%3D%22width%3A%20100.0%25%3B%20height%3A%20100.0%25%3B%22%3EPlaza%20del%20Dos%20de%20Mayo%20%285%29%3C/div%3E%60%29%5B0%5D%3B%0A%20%20%20%20%20%20%20%20%20%20%20%20popup_073b0d066b5a4131adadd90b1e33f0f2.setContent%28html_bf868abed61e44a29ce859f16fb400e8%29%3B%0A%20%20%20%20%20%20%20%20%0A%0A%20%20%20%20%20%20%20%20marker_fb92740c58504f21af1a0f65f85a244e.bindPopup%28popup_073b0d066b5a4131adadd90b1e33f0f2%29%0A%20%20%20%20%20%20%20%20%3B%0A%0A%20%20%20%20%20%20%20%20%0A%20%20%20%20%0A%20%20%20%20%0A%20%20%20%20%20%20%20%20%20%20%20%20var%20marker_7a87d7e9e32d4ae4a834bc4ffbe8cc03%20%3D%20L.marker%28%0A%20%20%20%20%20%20%20%20%20%20%20%20%20%20%20%20%5B40.416805267333984%2C%20-3.7087490558624268%5D%2C%0A%20%20%20%20%20%20%20%20%20%20%20%20%20%20%20%20%7B%7D%0A%20%20%20%20%20%20%20%20%20%20%20%20%29.addTo%28map_fd0ba713feb24a238fecddc4f2c1255a%29%3B%0A%20%20%20%20%20%20%20%20%0A%20%20%20%20%0A%20%20%20%20%20%20%20%20%20%20%20%20var%20icon_9ca2224f4da747768f412f6e202e330d%20%3D%20L.AwesomeMarkers.icon%28%0A%20%20%20%20%20%20%20%20%20%20%20%20%20%20%20%20%7B%22extraClasses%22%3A%20%22fa-rotate-0%22%2C%20%22icon%22%3A%20%22check%22%2C%20%22iconColor%22%3A%20%22white%22%2C%20%22markerColor%22%3A%20%22green%22%2C%20%22prefix%22%3A%20%22fa%22%7D%0A%20%20%20%20%20%20%20%20%20%20%20%20%29%3B%0A%20%20%20%20%20%20%20%20%20%20%20%20marker_7a87d7e9e32d4ae4a834bc4ffbe8cc03.setIcon%28icon_9ca2224f4da747768f412f6e202e330d%29%3B%0A%20%20%20%20%20%20%20%20%0A%20%20%20%20%0A%20%20%20%20%20%20%20%20var%20popup_feda7efe158e46f0a015a9c0d22a7686%20%3D%20L.popup%28%7B%22maxWidth%22%3A%20%22100%25%22%7D%29%3B%0A%0A%20%20%20%20%20%20%20%20%0A%20%20%20%20%20%20%20%20%20%20%20%20var%20html_dd3af7c54c57442a98e6bab0905f815d%20%3D%20%24%28%60%3Cdiv%20id%3D%22html_dd3af7c54c57442a98e6bab0905f815d%22%20style%3D%22width%3A%20100.0%25%3B%20height%3A%20100.0%25%3B%22%3ERamen%20Kagura%20%C3%93pera%20%285%29%3C/div%3E%60%29%5B0%5D%3B%0A%20%20%20%20%20%20%20%20%20%20%20%20popup_feda7efe158e46f0a015a9c0d22a7686.setContent%28html_dd3af7c54c57442a98e6bab0905f815d%29%3B%0A%20%20%20%20%20%20%20%20%0A%0A%20%20%20%20%20%20%20%20marker_7a87d7e9e32d4ae4a834bc4ffbe8cc03.bindPopup%28popup_feda7efe158e46f0a015a9c0d22a7686%29%0A%20%20%20%20%20%20%20%20%3B%0A%0A%20%20%20%20%20%20%20%20%0A%20%20%20%20%0A%20%20%20%20%0A%20%20%20%20%20%20%20%20%20%20%20%20var%20marker_8ea5b01fc858477bae99d245e4d70b0c%20%3D%20L.marker%28%0A%20%20%20%20%20%20%20%20%20%20%20%20%20%20%20%20%5B40.43130874633789%2C%20-3.702606678009033%5D%2C%0A%20%20%20%20%20%20%20%20%20%20%20%20%20%20%20%20%7B%7D%0A%20%20%20%20%20%20%20%20%20%20%20%20%29.addTo%28map_fd0ba713feb24a238fecddc4f2c1255a%29%3B%0A%20%20%20%20%20%20%20%20%0A%20%20%20%20%0A%20%20%20%20%20%20%20%20%20%20%20%20var%20icon_7de8c01536394c569be3c82bef32e152%20%3D%20L.AwesomeMarkers.icon%28%0A%20%20%20%20%20%20%20%20%20%20%20%20%20%20%20%20%7B%22extraClasses%22%3A%20%22fa-rotate-0%22%2C%20%22icon%22%3A%20%22check%22%2C%20%22iconColor%22%3A%20%22white%22%2C%20%22markerColor%22%3A%20%22green%22%2C%20%22prefix%22%3A%20%22fa%22%7D%0A%20%20%20%20%20%20%20%20%20%20%20%20%29%3B%0A%20%20%20%20%20%20%20%20%20%20%20%20marker_8ea5b01fc858477bae99d245e4d70b0c.setIcon%28icon_7de8c01536394c569be3c82bef32e152%29%3B%0A%20%20%20%20%20%20%20%20%0A%20%20%20%20%0A%20%20%20%20%20%20%20%20var%20popup_56b1c93fe900439a9fc2864869190d6f%20%3D%20L.popup%28%7B%22maxWidth%22%3A%20%22100%25%22%7D%29%3B%0A%0A%20%20%20%20%20%20%20%20%0A%20%20%20%20%20%20%20%20%20%20%20%20var%20html_1bac6dfd137c445bb8e192b1cefaebec%20%3D%20%24%28%60%3Cdiv%20id%3D%22html_1bac6dfd137c445bb8e192b1cefaebec%22%20style%3D%22width%3A%20100.0%25%3B%20height%3A%20100.0%25%3B%22%3EMoti%20e%20Vi%20%285%29%3C/div%3E%60%29%5B0%5D%3B%0A%20%20%20%20%20%20%20%20%20%20%20%20popup_56b1c93fe900439a9fc2864869190d6f.setContent%28html_1bac6dfd137c445bb8e192b1cefaebec%29%3B%0A%20%20%20%20%20%20%20%20%0A%0A%20%20%20%20%20%20%20%20marker_8ea5b01fc858477bae99d245e4d70b0c.bindPopup%28popup_56b1c93fe900439a9fc2864869190d6f%29%0A%20%20%20%20%20%20%20%20%3B%0A%0A%20%20%20%20%20%20%20%20%0A%20%20%20%20%0A%20%20%20%20%0A%20%20%20%20%20%20%20%20%20%20%20%20var%20marker_0c4c89964b334ea78bcc285bfabae5a9%20%3D%20L.marker%28%0A%20%20%20%20%20%20%20%20%20%20%20%20%20%20%20%20%5B37.965476989746094%2C%2023.72816276550293%5D%2C%0A%20%20%20%20%20%20%20%20%20%20%20%20%20%20%20%20%7B%7D%0A%20%20%20%20%20%20%20%20%20%20%20%20%29.addTo%28map_fd0ba713feb24a238fecddc4f2c1255a%29%3B%0A%20%20%20%20%20%20%20%20%0A%20%20%20%20%0A%20%20%20%20%20%20%20%20%20%20%20%20var%20icon_5bf80b8004c04b2dab3c1865bef8c153%20%3D%20L.AwesomeMarkers.icon%28%0A%20%20%20%20%20%20%20%20%20%20%20%20%20%20%20%20%7B%22extraClasses%22%3A%20%22fa-rotate-0%22%2C%20%22icon%22%3A%20%22check%22%2C%20%22iconColor%22%3A%20%22white%22%2C%20%22markerColor%22%3A%20%22red%22%2C%20%22prefix%22%3A%20%22fa%22%7D%0A%20%20%20%20%20%20%20%20%20%20%20%20%29%3B%0A%20%20%20%20%20%20%20%20%20%20%20%20marker_0c4c89964b334ea78bcc285bfabae5a9.setIcon%28icon_5bf80b8004c04b2dab3c1865bef8c153%29%3B%0A%20%20%20%20%20%20%20%20%0A%20%20%20%20%0A%20%20%20%20%20%20%20%20var%20popup_a16217e54b474ba4bab263aa58465dee%20%3D%20L.popup%28%7B%22maxWidth%22%3A%20%22100%25%22%7D%29%3B%0A%0A%20%20%20%20%20%20%20%20%0A%20%20%20%20%20%20%20%20%20%20%20%20var%20html_9fed888eb0c44e098aadf9e33c76eda8%20%3D%20%24%28%60%3Cdiv%20id%3D%22html_9fed888eb0c44e098aadf9e33c76eda8%22%20style%3D%22width%3A%20100.0%25%3B%20height%3A%20100.0%25%3B%22%3EEuropcar%20%281%29%3C/div%3E%60%29%5B0%5D%3B%0A%20%20%20%20%20%20%20%20%20%20%20%20popup_a16217e54b474ba4bab263aa58465dee.setContent%28html_9fed888eb0c44e098aadf9e33c76eda8%29%3B%0A%20%20%20%20%20%20%20%20%0A%0A%20%20%20%20%20%20%20%20marker_0c4c89964b334ea78bcc285bfabae5a9.bindPopup%28popup_a16217e54b474ba4bab263aa58465dee%29%0A%20%20%20%20%20%20%20%20%3B%0A%0A%20%20%20%20%20%20%20%20%0A%20%20%20%20%0A%20%20%20%20%0A%20%20%20%20%20%20%20%20%20%20%20%20var%20marker_7d73c51021b74397b68b0ffb2aa4193d%20%3D%20L.marker%28%0A%20%20%20%20%20%20%20%20%20%20%20%20%20%20%20%20%5B40.462100982666016%2C%20-3.590549945831299%5D%2C%0A%20%20%20%20%20%20%20%20%20%20%20%20%20%20%20%20%7B%7D%0A%20%20%20%20%20%20%20%20%20%20%20%20%29.addTo%28map_fd0ba713feb24a238fecddc4f2c1255a%29%3B%0A%20%20%20%20%20%20%20%20%0A%20%20%20%20%0A%20%20%20%20%20%20%20%20%20%20%20%20var%20icon_cdcf9b052279439d8cb368e418bbe023%20%3D%20L.AwesomeMarkers.icon%28%0A%20%20%20%20%20%20%20%20%20%20%20%20%20%20%20%20%7B%22extraClasses%22%3A%20%22fa-rotate-0%22%2C%20%22icon%22%3A%20%22check%22%2C%20%22iconColor%22%3A%20%22white%22%2C%20%22markerColor%22%3A%20%22green%22%2C%20%22prefix%22%3A%20%22fa%22%7D%0A%20%20%20%20%20%20%20%20%20%20%20%20%29%3B%0A%20%20%20%20%20%20%20%20%20%20%20%20marker_7d73c51021b74397b68b0ffb2aa4193d.setIcon%28icon_cdcf9b052279439d8cb368e418bbe023%29%3B%0A%20%20%20%20%20%20%20%20%0A%20%20%20%20%0A%20%20%20%20%20%20%20%20var%20popup_9908a7997cee487698b48a18b9e343f5%20%3D%20L.popup%28%7B%22maxWidth%22%3A%20%22100%25%22%7D%29%3B%0A%0A%20%20%20%20%20%20%20%20%0A%20%20%20%20%20%20%20%20%20%20%20%20var%20html_052275de817c46e7bfaab4ee02c27b35%20%3D%20%24%28%60%3Cdiv%20id%3D%22html_052275de817c46e7bfaab4ee02c27b35%22%20style%3D%22width%3A%20100.0%25%3B%20height%3A%20100.0%25%3B%22%3ELa%20Ca%C3%B1a%20de%20Gonzalo%20%285%29%3C/div%3E%60%29%5B0%5D%3B%0A%20%20%20%20%20%20%20%20%20%20%20%20popup_9908a7997cee487698b48a18b9e343f5.setContent%28html_052275de817c46e7bfaab4ee02c27b35%29%3B%0A%20%20%20%20%20%20%20%20%0A%0A%20%20%20%20%20%20%20%20marker_7d73c51021b74397b68b0ffb2aa4193d.bindPopup%28popup_9908a7997cee487698b48a18b9e343f5%29%0A%20%20%20%20%20%20%20%20%3B%0A%0A%20%20%20%20%20%20%20%20%0A%20%20%20%20%0A%20%20%20%20%0A%20%20%20%20%20%20%20%20%20%20%20%20var%20marker_7ff39b48514340f3b3ee050f00ab47fe%20%3D%20L.marker%28%0A%20%20%20%20%20%20%20%20%20%20%20%20%20%20%20%20%5B40.402549743652344%2C%20-3.701478958129883%5D%2C%0A%20%20%20%20%20%20%20%20%20%20%20%20%20%20%20%20%7B%7D%0A%20%20%20%20%20%20%20%20%20%20%20%20%29.addTo%28map_fd0ba713feb24a238fecddc4f2c1255a%29%3B%0A%20%20%20%20%20%20%20%20%0A%20%20%20%20%0A%20%20%20%20%20%20%20%20%20%20%20%20var%20icon_71042515e22246f8a592256c7f272d2b%20%3D%20L.AwesomeMarkers.icon%28%0A%20%20%20%20%20%20%20%20%20%20%20%20%20%20%20%20%7B%22extraClasses%22%3A%20%22fa-rotate-0%22%2C%20%22icon%22%3A%20%22check%22%2C%20%22iconColor%22%3A%20%22white%22%2C%20%22markerColor%22%3A%20%22green%22%2C%20%22prefix%22%3A%20%22fa%22%7D%0A%20%20%20%20%20%20%20%20%20%20%20%20%29%3B%0A%20%20%20%20%20%20%20%20%20%20%20%20marker_7ff39b48514340f3b3ee050f00ab47fe.setIcon%28icon_71042515e22246f8a592256c7f272d2b%29%3B%0A%20%20%20%20%20%20%20%20%0A%20%20%20%20%0A%20%20%20%20%20%20%20%20var%20popup_057f297f050f4cb4bbb58ad82fc21a33%20%3D%20L.popup%28%7B%22maxWidth%22%3A%20%22100%25%22%7D%29%3B%0A%0A%20%20%20%20%20%20%20%20%0A%20%20%20%20%20%20%20%20%20%20%20%20var%20html_225e42e3861a4969b99bb5e897dc65f5%20%3D%20%24%28%60%3Cdiv%20id%3D%22html_225e42e3861a4969b99bb5e897dc65f5%22%20style%3D%22width%3A%20100.0%25%3B%20height%3A%20100.0%25%3B%22%3EGRUPO%20CDM%20%28Madrid%29%20%285%29%3C/div%3E%60%29%5B0%5D%3B%0A%20%20%20%20%20%20%20%20%20%20%20%20popup_057f297f050f4cb4bbb58ad82fc21a33.setContent%28html_225e42e3861a4969b99bb5e897dc65f5%29%3B%0A%20%20%20%20%20%20%20%20%0A%0A%20%20%20%20%20%20%20%20marker_7ff39b48514340f3b3ee050f00ab47fe.bindPopup%28popup_057f297f050f4cb4bbb58ad82fc21a33%29%0A%20%20%20%20%20%20%20%20%3B%0A%0A%20%20%20%20%20%20%20%20%0A%20%20%20%20%0A%20%20%20%20%0A%20%20%20%20%20%20%20%20%20%20%20%20var%20marker_71c3bcbe150b4d81b48000ff4204f642%20%3D%20L.marker%28%0A%20%20%20%20%20%20%20%20%20%20%20%20%20%20%20%20%5B40.425743103027344%2C%20-3.6882448196411133%5D%2C%0A%20%20%20%20%20%20%20%20%20%20%20%20%20%20%20%20%7B%7D%0A%20%20%20%20%20%20%20%20%20%20%20%20%29.addTo%28map_fd0ba713feb24a238fecddc4f2c1255a%29%3B%0A%20%20%20%20%20%20%20%20%0A%20%20%20%20%0A%20%20%20%20%20%20%20%20%20%20%20%20var%20icon_4d079565aee045bab2f68e0683fdebb5%20%3D%20L.AwesomeMarkers.icon%28%0A%20%20%20%20%20%20%20%20%20%20%20%20%20%20%20%20%7B%22extraClasses%22%3A%20%22fa-rotate-0%22%2C%20%22icon%22%3A%20%22check%22%2C%20%22iconColor%22%3A%20%22white%22%2C%20%22markerColor%22%3A%20%22orange%22%2C%20%22prefix%22%3A%20%22fa%22%7D%0A%20%20%20%20%20%20%20%20%20%20%20%20%29%3B%0A%20%20%20%20%20%20%20%20%20%20%20%20marker_71c3bcbe150b4d81b48000ff4204f642.setIcon%28icon_4d079565aee045bab2f68e0683fdebb5%29%3B%0A%20%20%20%20%20%20%20%20%0A%20%20%20%20%0A%20%20%20%20%20%20%20%20var%20popup_175abe106bd54848acef90cf507557d7%20%3D%20L.popup%28%7B%22maxWidth%22%3A%20%22100%25%22%7D%29%3B%0A%0A%20%20%20%20%20%20%20%20%0A%20%20%20%20%20%20%20%20%20%20%20%20var%20html_93ed69ebe5ae4c488d4c80ae3f1efed5%20%3D%20%24%28%60%3Cdiv%20id%3D%22html_93ed69ebe5ae4c488d4c80ae3f1efed5%22%20style%3D%22width%3A%20100.0%25%3B%20height%3A%20100.0%25%3B%22%3ECafe%20%26%20Tapas%20%282%29%3C/div%3E%60%29%5B0%5D%3B%0A%20%20%20%20%20%20%20%20%20%20%20%20popup_175abe106bd54848acef90cf507557d7.setContent%28html_93ed69ebe5ae4c488d4c80ae3f1efed5%29%3B%0A%20%20%20%20%20%20%20%20%0A%0A%20%20%20%20%20%20%20%20marker_71c3bcbe150b4d81b48000ff4204f642.bindPopup%28popup_175abe106bd54848acef90cf507557d7%29%0A%20%20%20%20%20%20%20%20%3B%0A%0A%20%20%20%20%20%20%20%20%0A%20%20%20%20%0A%20%20%20%20%0A%20%20%20%20%20%20%20%20%20%20%20%20var%20marker_93a0089d6e0f4acca4b572b704e35af9%20%3D%20L.marker%28%0A%20%20%20%20%20%20%20%20%20%20%20%20%20%20%20%20%5B40.429420471191406%2C%20-3.7011585235595703%5D%2C%0A%20%20%20%20%20%20%20%20%20%20%20%20%20%20%20%20%7B%7D%0A%20%20%20%20%20%20%20%20%20%20%20%20%29.addTo%28map_fd0ba713feb24a238fecddc4f2c1255a%29%3B%0A%20%20%20%20%20%20%20%20%0A%20%20%20%20%0A%20%20%20%20%20%20%20%20%20%20%20%20var%20icon_725d1d653ba84972b9a5ca21a552d9bb%20%3D%20L.AwesomeMarkers.icon%28%0A%20%20%20%20%20%20%20%20%20%20%20%20%20%20%20%20%7B%22extraClasses%22%3A%20%22fa-rotate-0%22%2C%20%22icon%22%3A%20%22check%22%2C%20%22iconColor%22%3A%20%22white%22%2C%20%22markerColor%22%3A%20%22red%22%2C%20%22prefix%22%3A%20%22fa%22%7D%0A%20%20%20%20%20%20%20%20%20%20%20%20%29%3B%0A%20%20%20%20%20%20%20%20%20%20%20%20marker_93a0089d6e0f4acca4b572b704e35af9.setIcon%28icon_725d1d653ba84972b9a5ca21a552d9bb%29%3B%0A%20%20%20%20%20%20%20%20%0A%20%20%20%20%0A%20%20%20%20%20%20%20%20var%20popup_b566abb2bf9c4778bb1e743d7381cfee%20%3D%20L.popup%28%7B%22maxWidth%22%3A%20%22100%25%22%7D%29%3B%0A%0A%20%20%20%20%20%20%20%20%0A%20%20%20%20%20%20%20%20%20%20%20%20var%20html_cbffd2fe631548fa8bee90a66b8e2987%20%3D%20%24%28%60%3Cdiv%20id%3D%22html_cbffd2fe631548fa8bee90a66b8e2987%22%20style%3D%22width%3A%20100.0%25%3B%20height%3A%20100.0%25%3B%22%3ELA%20CHOCITA%20SA%20%281%29%3C/div%3E%60%29%5B0%5D%3B%0A%20%20%20%20%20%20%20%20%20%20%20%20popup_b566abb2bf9c4778bb1e743d7381cfee.setContent%28html_cbffd2fe631548fa8bee90a66b8e2987%29%3B%0A%20%20%20%20%20%20%20%20%0A%0A%20%20%20%20%20%20%20%20marker_93a0089d6e0f4acca4b572b704e35af9.bindPopup%28popup_b566abb2bf9c4778bb1e743d7381cfee%29%0A%20%20%20%20%20%20%20%20%3B%0A%0A%20%20%20%20%20%20%20%20%0A%20%20%20%20%0A%20%20%20%20%0A%20%20%20%20%20%20%20%20%20%20%20%20var%20marker_c75b9c3b0e8f441286525ae6f474b054%20%3D%20L.marker%28%0A%20%20%20%20%20%20%20%20%20%20%20%20%20%20%20%20%5B40.42057418823242%2C%20-3.7094051837921143%5D%2C%0A%20%20%20%20%20%20%20%20%20%20%20%20%20%20%20%20%7B%7D%0A%20%20%20%20%20%20%20%20%20%20%20%20%29.addTo%28map_fd0ba713feb24a238fecddc4f2c1255a%29%3B%0A%20%20%20%20%20%20%20%20%0A%20%20%20%20%0A%20%20%20%20%20%20%20%20%20%20%20%20var%20icon_be99f73098b74c209d810c2d313c8185%20%3D%20L.AwesomeMarkers.icon%28%0A%20%20%20%20%20%20%20%20%20%20%20%20%20%20%20%20%7B%22extraClasses%22%3A%20%22fa-rotate-0%22%2C%20%22icon%22%3A%20%22check%22%2C%20%22iconColor%22%3A%20%22white%22%2C%20%22markerColor%22%3A%20%22green%22%2C%20%22prefix%22%3A%20%22fa%22%7D%0A%20%20%20%20%20%20%20%20%20%20%20%20%29%3B%0A%20%20%20%20%20%20%20%20%20%20%20%20marker_c75b9c3b0e8f441286525ae6f474b054.setIcon%28icon_be99f73098b74c209d810c2d313c8185%29%3B%0A%20%20%20%20%20%20%20%20%0A%20%20%20%20%0A%20%20%20%20%20%20%20%20var%20popup_64a0e86f33a84310b7ed3ed40e9be15e%20%3D%20L.popup%28%7B%22maxWidth%22%3A%20%22100%25%22%7D%29%3B%0A%0A%20%20%20%20%20%20%20%20%0A%20%20%20%20%20%20%20%20%20%20%20%20var%20html_58bc030ccd9c442aac8c651d3796ce19%20%3D%20%24%28%60%3Cdiv%20id%3D%22html_58bc030ccd9c442aac8c651d3796ce19%22%20style%3D%22width%3A%20100.0%25%3B%20height%3A%20100.0%25%3B%22%3EA%20Ri%20Rang%20%285%29%3C/div%3E%60%29%5B0%5D%3B%0A%20%20%20%20%20%20%20%20%20%20%20%20popup_64a0e86f33a84310b7ed3ed40e9be15e.setContent%28html_58bc030ccd9c442aac8c651d3796ce19%29%3B%0A%20%20%20%20%20%20%20%20%0A%0A%20%20%20%20%20%20%20%20marker_c75b9c3b0e8f441286525ae6f474b054.bindPopup%28popup_64a0e86f33a84310b7ed3ed40e9be15e%29%0A%20%20%20%20%20%20%20%20%3B%0A%0A%20%20%20%20%20%20%20%20%0A%20%20%20%20%0A%20%20%20%20%0A%20%20%20%20%20%20%20%20%20%20%20%20var%20marker_a6dab8c65b044c9a964a03b2ef8c2bfd%20%3D%20L.marker%28%0A%20%20%20%20%20%20%20%20%20%20%20%20%20%20%20%20%5B40.44202423095703%2C%20-3.713087797164917%5D%2C%0A%20%20%20%20%20%20%20%20%20%20%20%20%20%20%20%20%7B%7D%0A%20%20%20%20%20%20%20%20%20%20%20%20%29.addTo%28map_fd0ba713feb24a238fecddc4f2c1255a%29%3B%0A%20%20%20%20%20%20%20%20%0A%20%20%20%20%0A%20%20%20%20%20%20%20%20%20%20%20%20var%20icon_7b364c34eb5444e396f4edeb3eec813a%20%3D%20L.AwesomeMarkers.icon%28%0A%20%20%20%20%20%20%20%20%20%20%20%20%20%20%20%20%7B%22extraClasses%22%3A%20%22fa-rotate-0%22%2C%20%22icon%22%3A%20%22check%22%2C%20%22iconColor%22%3A%20%22white%22%2C%20%22markerColor%22%3A%20%22darkgreen%22%2C%20%22prefix%22%3A%20%22fa%22%7D%0A%20%20%20%20%20%20%20%20%20%20%20%20%29%3B%0A%20%20%20%20%20%20%20%20%20%20%20%20marker_a6dab8c65b044c9a964a03b2ef8c2bfd.setIcon%28icon_7b364c34eb5444e396f4edeb3eec813a%29%3B%0A%20%20%20%20%20%20%20%20%0A%20%20%20%20%0A%20%20%20%20%20%20%20%20var%20popup_0fb7298fc5304e9aaf9ae1077a0f7cbb%20%3D%20L.popup%28%7B%22maxWidth%22%3A%20%22100%25%22%7D%29%3B%0A%0A%20%20%20%20%20%20%20%20%0A%20%20%20%20%20%20%20%20%20%20%20%20var%20html_5a13d303c9c24465af7a529b2929a109%20%3D%20%24%28%60%3Cdiv%20id%3D%22html_5a13d303c9c24465af7a529b2929a109%22%20style%3D%22width%3A%20100.0%25%3B%20height%3A%20100.0%25%3B%22%3ECervecer%C3%ADa%20100%20Montaditos%20%284%29%3C/div%3E%60%29%5B0%5D%3B%0A%20%20%20%20%20%20%20%20%20%20%20%20popup_0fb7298fc5304e9aaf9ae1077a0f7cbb.setContent%28html_5a13d303c9c24465af7a529b2929a109%29%3B%0A%20%20%20%20%20%20%20%20%0A%0A%20%20%20%20%20%20%20%20marker_a6dab8c65b044c9a964a03b2ef8c2bfd.bindPopup%28popup_0fb7298fc5304e9aaf9ae1077a0f7cbb%29%0A%20%20%20%20%20%20%20%20%3B%0A%0A%20%20%20%20%20%20%20%20%0A%20%20%20%20%0A%20%20%20%20%0A%20%20%20%20%20%20%20%20%20%20%20%20var%20marker_99618c9ef31644e6acc56fa545eb8bdf%20%3D%20L.marker%28%0A%20%20%20%20%20%20%20%20%20%20%20%20%20%20%20%20%5B40.48046875%2C%20-3.716601848602295%5D%2C%0A%20%20%20%20%20%20%20%20%20%20%20%20%20%20%20%20%7B%7D%0A%20%20%20%20%20%20%20%20%20%20%20%20%29.addTo%28map_fd0ba713feb24a238fecddc4f2c1255a%29%3B%0A%20%20%20%20%20%20%20%20%0A%20%20%20%20%0A%20%20%20%20%20%20%20%20%20%20%20%20var%20icon_76e9dc05cd444457bd8addc635e0e76f%20%3D%20L.AwesomeMarkers.icon%28%0A%20%20%20%20%20%20%20%20%20%20%20%20%20%20%20%20%7B%22extraClasses%22%3A%20%22fa-rotate-0%22%2C%20%22icon%22%3A%20%22check%22%2C%20%22iconColor%22%3A%20%22white%22%2C%20%22markerColor%22%3A%20%22green%22%2C%20%22prefix%22%3A%20%22fa%22%7D%0A%20%20%20%20%20%20%20%20%20%20%20%20%29%3B%0A%20%20%20%20%20%20%20%20%20%20%20%20marker_99618c9ef31644e6acc56fa545eb8bdf.setIcon%28icon_76e9dc05cd444457bd8addc635e0e76f%29%3B%0A%20%20%20%20%20%20%20%20%0A%20%20%20%20%0A%20%20%20%20%20%20%20%20var%20popup_215ba11f89614c5dbe5bfd8e7568d431%20%3D%20L.popup%28%7B%22maxWidth%22%3A%20%22100%25%22%7D%29%3B%0A%0A%20%20%20%20%20%20%20%20%0A%20%20%20%20%20%20%20%20%20%20%20%20var%20html_ff9062880d4e4f57b212da34eace1f4b%20%3D%20%24%28%60%3Cdiv%20id%3D%22html_ff9062880d4e4f57b212da34eace1f4b%22%20style%3D%22width%3A%20100.0%25%3B%20height%3A%20100.0%25%3B%22%3EMes%C3%B3n%20Las%20Vegas%20%285%29%3C/div%3E%60%29%5B0%5D%3B%0A%20%20%20%20%20%20%20%20%20%20%20%20popup_215ba11f89614c5dbe5bfd8e7568d431.setContent%28html_ff9062880d4e4f57b212da34eace1f4b%29%3B%0A%20%20%20%20%20%20%20%20%0A%0A%20%20%20%20%20%20%20%20marker_99618c9ef31644e6acc56fa545eb8bdf.bindPopup%28popup_215ba11f89614c5dbe5bfd8e7568d431%29%0A%20%20%20%20%20%20%20%20%3B%0A%0A%20%20%20%20%20%20%20%20%0A%20%20%20%20%0A%3C/script%3E onload=\"this.contentDocument.open();this.contentDocument.write(    decodeURIComponent(this.getAttribute('data-html')));this.contentDocument.close();\" allowfullscreen webkitallowfullscreen mozallowfullscreen></iframe></div></div>"
      ],
      "text/plain": [
       "<folium.folium.Map at 0x7fef42780f10>"
      ]
     },
     "execution_count": 47,
     "metadata": {},
     "output_type": "execute_result"
    }
   ],
   "source": [
    "m = folium.Map(location=df_reseñas1.ubica[0], zoom_start=12, tiles=\"Stamen Terrain\")\n",
    "colores = {1:'red', 2:'orange', 3:'yellow', 4:'darkgreen', 5:'green' }\n",
    "for i in range(len(df_reseñas1)):\n",
    "    folium.Marker(\n",
    "        location= [df_reseñas1.ubica[i][0], df_reseñas1.ubica[i][1]],\n",
    "        popup=df_reseñas1['Location.Business Name'][i] +' (' + str(df_reseñas1['Star Rating'][i]) + ')',\n",
    "        icon=folium.Icon(color=colores[df_reseñas1['Star Rating'][i]], icon='check', prefix='fa'),\n",
    "    ).add_to(m)\n",
    "\n",
    "#https://stackoverflow.com/questions/46400769/numbers-in-map-marker-in-folium\n",
    "m\n",
    "\n"
   ]
  },
  {
   "cell_type": "code",
   "execution_count": null,
   "id": "1215ee5e",
   "metadata": {},
   "outputs": [],
   "source": []
  },
  {
   "cell_type": "code",
   "execution_count": null,
   "id": "b04271b8",
   "metadata": {},
   "outputs": [],
   "source": []
  },
  {
   "cell_type": "code",
   "execution_count": 48,
   "id": "45c62019",
   "metadata": {},
   "outputs": [],
   "source": [
    "os. chdir('Google Play Libros')\n",
    "libros = os.listdir()\n",
    "os. chdir(Takeout_dir)"
   ]
  },
  {
   "cell_type": "code",
   "execution_count": 49,
   "id": "19fda6ed",
   "metadata": {},
   "outputs": [
    {
     "data": {
      "text/plain": [
       "['Don Quijote de la Mancha', 'La Celestina']"
      ]
     },
     "execution_count": 49,
     "metadata": {},
     "output_type": "execute_result"
    }
   ],
   "source": [
    "libros"
   ]
  },
  {
   "cell_type": "code",
   "execution_count": 50,
   "id": "ab3dc851",
   "metadata": {},
   "outputs": [],
   "source": [
    "p = open(Takeout_dir + '/' + 'Google Play Películas' +'/'+'Puntuaciones.json')"
   ]
  },
  {
   "cell_type": "code",
   "execution_count": 51,
   "id": "b11ca32a",
   "metadata": {},
   "outputs": [],
   "source": [
    "peliculas_json = json.load(p)"
   ]
  },
  {
   "cell_type": "code",
   "execution_count": 52,
   "id": "d36c8055",
   "metadata": {},
   "outputs": [
    {
     "data": {
      "text/plain": [
       "{'ratings': [{'title': 'Dumbo (Doblaje clásico)', 'rating': 'No me gusta'},\n",
       "  {'title': 'Dumbo', 'rating': 'No me gusta'}]}"
      ]
     },
     "execution_count": 52,
     "metadata": {},
     "output_type": "execute_result"
    }
   ],
   "source": [
    "peliculas_json"
   ]
  },
  {
   "cell_type": "code",
   "execution_count": 53,
   "id": "3bdb68e7",
   "metadata": {},
   "outputs": [
    {
     "data": {
      "text/html": [
       "<div>\n",
       "<style scoped>\n",
       "    .dataframe tbody tr th:only-of-type {\n",
       "        vertical-align: middle;\n",
       "    }\n",
       "\n",
       "    .dataframe tbody tr th {\n",
       "        vertical-align: top;\n",
       "    }\n",
       "\n",
       "    .dataframe thead th {\n",
       "        text-align: right;\n",
       "    }\n",
       "</style>\n",
       "<table border=\"1\" class=\"dataframe\">\n",
       "  <thead>\n",
       "    <tr style=\"text-align: right;\">\n",
       "      <th></th>\n",
       "      <th>title</th>\n",
       "      <th>rating</th>\n",
       "    </tr>\n",
       "  </thead>\n",
       "  <tbody>\n",
       "    <tr>\n",
       "      <th>0</th>\n",
       "      <td>Dumbo (Doblaje clásico)</td>\n",
       "      <td>No me gusta</td>\n",
       "    </tr>\n",
       "    <tr>\n",
       "      <th>1</th>\n",
       "      <td>Dumbo</td>\n",
       "      <td>No me gusta</td>\n",
       "    </tr>\n",
       "  </tbody>\n",
       "</table>\n",
       "</div>"
      ],
      "text/plain": [
       "                     title       rating\n",
       "0  Dumbo (Doblaje clásico)  No me gusta\n",
       "1                    Dumbo  No me gusta"
      ]
     },
     "execution_count": 53,
     "metadata": {},
     "output_type": "execute_result"
    }
   ],
   "source": [
    "df_peliculas = pd.DataFrame(peliculas_json['ratings'])\n",
    "df_peliculas\n"
   ]
  },
  {
   "cell_type": "code",
   "execution_count": 54,
   "id": "f4d1dd33",
   "metadata": {},
   "outputs": [
    {
     "name": "stdout",
     "output_type": "stream",
     "text": [
      "Defaulting to user installation because normal site-packages is not writeable\n",
      "Requirement already satisfied: pyquery in /home/jbloch3/.local/lib/python3.8/site-packages (1.4.3)\n",
      "Requirement already satisfied: lxml>=2.1 in /home/jbloch3/.local/lib/python3.8/site-packages (from pyquery) (4.6.3)\n",
      "Requirement already satisfied: cssselect>0.7.9 in /home/jbloch3/.local/lib/python3.8/site-packages (from pyquery) (1.1.0)\n"
     ]
    }
   ],
   "source": [
    "!pip install pyquery"
   ]
  },
  {
   "cell_type": "code",
   "execution_count": 55,
   "id": "94f4569c",
   "metadata": {},
   "outputs": [],
   "source": [
    "from pyquery import PyQuery\n",
    "\n",
    "html = open(Takeout_dir + '/YouTube y YouTube Music/historial/historial-de-reproducciones.html', 'r').read() # local html\n",
    "\n",
    "query = PyQuery(html)\n",
    "lst= []\n",
    "for i in range(2000):\n",
    "    try:\n",
    "        lst.append(query(\"a\").eq(i).text())\n",
    "    except: \n",
    "        break"
   ]
  },
  {
   "cell_type": "code",
   "execution_count": 56,
   "id": "a32a9888",
   "metadata": {},
   "outputs": [
    {
     "data": {
      "text/plain": [
       "[]"
      ]
     },
     "execution_count": 56,
     "metadata": {},
     "output_type": "execute_result"
    }
   ],
   "source": [
    "per = query('#text')\n",
    "per"
   ]
  },
  {
   "cell_type": "code",
   "execution_count": 84,
   "id": "e9e8f510",
   "metadata": {},
   "outputs": [
    {
     "data": {
      "text/html": [
       "<div>\n",
       "<style scoped>\n",
       "    .dataframe tbody tr th:only-of-type {\n",
       "        vertical-align: middle;\n",
       "    }\n",
       "\n",
       "    .dataframe tbody tr th {\n",
       "        vertical-align: top;\n",
       "    }\n",
       "\n",
       "    .dataframe thead th {\n",
       "        text-align: right;\n",
       "    }\n",
       "</style>\n",
       "<table border=\"1\" class=\"dataframe\">\n",
       "  <thead>\n",
       "    <tr style=\"text-align: right;\">\n",
       "      <th></th>\n",
       "      <th>0</th>\n",
       "    </tr>\n",
       "  </thead>\n",
       "  <tbody>\n",
       "    <tr>\n",
       "      <th>0</th>\n",
       "      <td>Informativo_matinal_exprs_(14/06/21)</td>\n",
       "    </tr>\n",
       "    <tr>\n",
       "      <th>1</th>\n",
       "      <td>Soloedia</td>\n",
       "    </tr>\n",
       "    <tr>\n",
       "      <th>2</th>\n",
       "      <td>Order_Delivery_on_Uber_Eats_|_Uber_Eats</td>\n",
       "    </tr>\n",
       "    <tr>\n",
       "      <th>3</th>\n",
       "      <td>Hola_Isabella_:D</td>\n",
       "    </tr>\n",
       "    <tr>\n",
       "      <th>4</th>\n",
       "      <td>El_Rabos</td>\n",
       "    </tr>\n",
       "    <tr>\n",
       "      <th>...</th>\n",
       "      <td>...</td>\n",
       "    </tr>\n",
       "    <tr>\n",
       "      <th>1995</th>\n",
       "      <td>Skills421</td>\n",
       "    </tr>\n",
       "    <tr>\n",
       "      <th>1996</th>\n",
       "      <td>Linux_&amp;_Windows,_Instalación_Dual_Boot</td>\n",
       "    </tr>\n",
       "    <tr>\n",
       "      <th>1997</th>\n",
       "      <td>Fazt</td>\n",
       "    </tr>\n",
       "    <tr>\n",
       "      <th>1998</th>\n",
       "      <td>¿Qué__Linux?</td>\n",
       "    </tr>\n",
       "    <tr>\n",
       "      <th>1999</th>\n",
       "      <td>EDteam</td>\n",
       "    </tr>\n",
       "  </tbody>\n",
       "</table>\n",
       "<p>2000 rows × 1 columns</p>\n",
       "</div>"
      ],
      "text/plain": [
       "                                            0\n",
       "0        Informativo_matinal_exprs_(14/06/21)\n",
       "1                                    Soloedia\n",
       "2     Order_Delivery_on_Uber_Eats_|_Uber_Eats\n",
       "3                            Hola_Isabella_:D\n",
       "4                                    El_Rabos\n",
       "...                                       ...\n",
       "1995                                Skills421\n",
       "1996   Linux_&_Windows,_Instalación_Dual_Boot\n",
       "1997                                     Fazt\n",
       "1998                             ¿Qué__Linux?\n",
       "1999                                   EDteam\n",
       "\n",
       "[2000 rows x 1 columns]"
      ]
     },
     "execution_count": 84,
     "metadata": {},
     "output_type": "execute_result"
    }
   ],
   "source": [
    "youtube = pd.DataFrame(lst)\n",
    "youtube\n",
    "youtube[0] = youtube[0].apply(lambda x: x.replace(' ', '_').replace('com', '').replace('www', '').replace('es', '')\n",
    "                           .replace('org', '').replace('https', '').strip())\n",
    "youtube"
   ]
  },
  {
   "cell_type": "code",
   "execution_count": 85,
   "id": "3628a86d",
   "metadata": {},
   "outputs": [
    {
     "data": {
      "text/plain": [
       "La_Ristencia_en_Movistar+    74\n",
       "Cloakzy                      72\n",
       "Soloedia                     34\n",
       "Symfuhny                     33\n",
       "BennyCentral                 28\n",
       "Aydan                        22\n",
       "Mundo_Maldini                20\n",
       "Inmagic                      19\n",
       "I_Love_Golfing               18\n",
       "Peter_DelaG                  16\n",
       "dtype: int64"
      ]
     },
     "execution_count": 85,
     "metadata": {},
     "output_type": "execute_result"
    }
   ],
   "source": [
    "canales = youtube.value_counts()[0:10]\n",
    "canales"
   ]
  },
  {
   "cell_type": "code",
   "execution_count": 91,
   "id": "54c6402b",
   "metadata": {},
   "outputs": [
    {
     "data": {
      "application/vnd.plotly.v1+json": {
       "config": {
        "linkText": "Export to plot.ly",
        "plotlyServerURL": "https://plot.ly",
        "showLink": true
       },
       "data": [
        {
         "marker": {
          "color": "rgba(255, 153, 51, 0.6)",
          "line": {
           "color": "rgba(255, 153, 51, 1.0)",
           "width": 1
          }
         },
         "name": "None",
         "orientation": "v",
         "text": "",
         "type": "bar",
         "x": [
          "(La_Ristencia_en_Movistar+)",
          "(Cloakzy)",
          "(Soloedia)",
          "(Symfuhny)",
          "(BennyCentral)",
          "(Aydan)",
          "(Mundo_Maldini)",
          "(Inmagic)",
          "(I_Love_Golfing)",
          "(Peter_DelaG)"
         ],
         "y": [
          74,
          72,
          34,
          33,
          28,
          22,
          20,
          19,
          18,
          16
         ]
        }
       ],
       "layout": {
        "legend": {
         "bgcolor": "#F5F6F9",
         "font": {
          "color": "#4D5663"
         }
        },
        "paper_bgcolor": "#F5F6F9",
        "plot_bgcolor": "#F5F6F9",
        "template": {
         "data": {
          "bar": [
           {
            "error_x": {
             "color": "#2a3f5f"
            },
            "error_y": {
             "color": "#2a3f5f"
            },
            "marker": {
             "line": {
              "color": "#E5ECF6",
              "width": 0.5
             }
            },
            "type": "bar"
           }
          ],
          "barpolar": [
           {
            "marker": {
             "line": {
              "color": "#E5ECF6",
              "width": 0.5
             }
            },
            "type": "barpolar"
           }
          ],
          "carpet": [
           {
            "aaxis": {
             "endlinecolor": "#2a3f5f",
             "gridcolor": "white",
             "linecolor": "white",
             "minorgridcolor": "white",
             "startlinecolor": "#2a3f5f"
            },
            "baxis": {
             "endlinecolor": "#2a3f5f",
             "gridcolor": "white",
             "linecolor": "white",
             "minorgridcolor": "white",
             "startlinecolor": "#2a3f5f"
            },
            "type": "carpet"
           }
          ],
          "choropleth": [
           {
            "colorbar": {
             "outlinewidth": 0,
             "ticks": ""
            },
            "type": "choropleth"
           }
          ],
          "contour": [
           {
            "colorbar": {
             "outlinewidth": 0,
             "ticks": ""
            },
            "colorscale": [
             [
              0,
              "#0d0887"
             ],
             [
              0.1111111111111111,
              "#46039f"
             ],
             [
              0.2222222222222222,
              "#7201a8"
             ],
             [
              0.3333333333333333,
              "#9c179e"
             ],
             [
              0.4444444444444444,
              "#bd3786"
             ],
             [
              0.5555555555555556,
              "#d8576b"
             ],
             [
              0.6666666666666666,
              "#ed7953"
             ],
             [
              0.7777777777777778,
              "#fb9f3a"
             ],
             [
              0.8888888888888888,
              "#fdca26"
             ],
             [
              1,
              "#f0f921"
             ]
            ],
            "type": "contour"
           }
          ],
          "contourcarpet": [
           {
            "colorbar": {
             "outlinewidth": 0,
             "ticks": ""
            },
            "type": "contourcarpet"
           }
          ],
          "heatmap": [
           {
            "colorbar": {
             "outlinewidth": 0,
             "ticks": ""
            },
            "colorscale": [
             [
              0,
              "#0d0887"
             ],
             [
              0.1111111111111111,
              "#46039f"
             ],
             [
              0.2222222222222222,
              "#7201a8"
             ],
             [
              0.3333333333333333,
              "#9c179e"
             ],
             [
              0.4444444444444444,
              "#bd3786"
             ],
             [
              0.5555555555555556,
              "#d8576b"
             ],
             [
              0.6666666666666666,
              "#ed7953"
             ],
             [
              0.7777777777777778,
              "#fb9f3a"
             ],
             [
              0.8888888888888888,
              "#fdca26"
             ],
             [
              1,
              "#f0f921"
             ]
            ],
            "type": "heatmap"
           }
          ],
          "heatmapgl": [
           {
            "colorbar": {
             "outlinewidth": 0,
             "ticks": ""
            },
            "colorscale": [
             [
              0,
              "#0d0887"
             ],
             [
              0.1111111111111111,
              "#46039f"
             ],
             [
              0.2222222222222222,
              "#7201a8"
             ],
             [
              0.3333333333333333,
              "#9c179e"
             ],
             [
              0.4444444444444444,
              "#bd3786"
             ],
             [
              0.5555555555555556,
              "#d8576b"
             ],
             [
              0.6666666666666666,
              "#ed7953"
             ],
             [
              0.7777777777777778,
              "#fb9f3a"
             ],
             [
              0.8888888888888888,
              "#fdca26"
             ],
             [
              1,
              "#f0f921"
             ]
            ],
            "type": "heatmapgl"
           }
          ],
          "histogram": [
           {
            "marker": {
             "colorbar": {
              "outlinewidth": 0,
              "ticks": ""
             }
            },
            "type": "histogram"
           }
          ],
          "histogram2d": [
           {
            "colorbar": {
             "outlinewidth": 0,
             "ticks": ""
            },
            "colorscale": [
             [
              0,
              "#0d0887"
             ],
             [
              0.1111111111111111,
              "#46039f"
             ],
             [
              0.2222222222222222,
              "#7201a8"
             ],
             [
              0.3333333333333333,
              "#9c179e"
             ],
             [
              0.4444444444444444,
              "#bd3786"
             ],
             [
              0.5555555555555556,
              "#d8576b"
             ],
             [
              0.6666666666666666,
              "#ed7953"
             ],
             [
              0.7777777777777778,
              "#fb9f3a"
             ],
             [
              0.8888888888888888,
              "#fdca26"
             ],
             [
              1,
              "#f0f921"
             ]
            ],
            "type": "histogram2d"
           }
          ],
          "histogram2dcontour": [
           {
            "colorbar": {
             "outlinewidth": 0,
             "ticks": ""
            },
            "colorscale": [
             [
              0,
              "#0d0887"
             ],
             [
              0.1111111111111111,
              "#46039f"
             ],
             [
              0.2222222222222222,
              "#7201a8"
             ],
             [
              0.3333333333333333,
              "#9c179e"
             ],
             [
              0.4444444444444444,
              "#bd3786"
             ],
             [
              0.5555555555555556,
              "#d8576b"
             ],
             [
              0.6666666666666666,
              "#ed7953"
             ],
             [
              0.7777777777777778,
              "#fb9f3a"
             ],
             [
              0.8888888888888888,
              "#fdca26"
             ],
             [
              1,
              "#f0f921"
             ]
            ],
            "type": "histogram2dcontour"
           }
          ],
          "mesh3d": [
           {
            "colorbar": {
             "outlinewidth": 0,
             "ticks": ""
            },
            "type": "mesh3d"
           }
          ],
          "parcoords": [
           {
            "line": {
             "colorbar": {
              "outlinewidth": 0,
              "ticks": ""
             }
            },
            "type": "parcoords"
           }
          ],
          "pie": [
           {
            "automargin": true,
            "type": "pie"
           }
          ],
          "scatter": [
           {
            "marker": {
             "colorbar": {
              "outlinewidth": 0,
              "ticks": ""
             }
            },
            "type": "scatter"
           }
          ],
          "scatter3d": [
           {
            "line": {
             "colorbar": {
              "outlinewidth": 0,
              "ticks": ""
             }
            },
            "marker": {
             "colorbar": {
              "outlinewidth": 0,
              "ticks": ""
             }
            },
            "type": "scatter3d"
           }
          ],
          "scattercarpet": [
           {
            "marker": {
             "colorbar": {
              "outlinewidth": 0,
              "ticks": ""
             }
            },
            "type": "scattercarpet"
           }
          ],
          "scattergeo": [
           {
            "marker": {
             "colorbar": {
              "outlinewidth": 0,
              "ticks": ""
             }
            },
            "type": "scattergeo"
           }
          ],
          "scattergl": [
           {
            "marker": {
             "colorbar": {
              "outlinewidth": 0,
              "ticks": ""
             }
            },
            "type": "scattergl"
           }
          ],
          "scattermapbox": [
           {
            "marker": {
             "colorbar": {
              "outlinewidth": 0,
              "ticks": ""
             }
            },
            "type": "scattermapbox"
           }
          ],
          "scatterpolar": [
           {
            "marker": {
             "colorbar": {
              "outlinewidth": 0,
              "ticks": ""
             }
            },
            "type": "scatterpolar"
           }
          ],
          "scatterpolargl": [
           {
            "marker": {
             "colorbar": {
              "outlinewidth": 0,
              "ticks": ""
             }
            },
            "type": "scatterpolargl"
           }
          ],
          "scatterternary": [
           {
            "marker": {
             "colorbar": {
              "outlinewidth": 0,
              "ticks": ""
             }
            },
            "type": "scatterternary"
           }
          ],
          "surface": [
           {
            "colorbar": {
             "outlinewidth": 0,
             "ticks": ""
            },
            "colorscale": [
             [
              0,
              "#0d0887"
             ],
             [
              0.1111111111111111,
              "#46039f"
             ],
             [
              0.2222222222222222,
              "#7201a8"
             ],
             [
              0.3333333333333333,
              "#9c179e"
             ],
             [
              0.4444444444444444,
              "#bd3786"
             ],
             [
              0.5555555555555556,
              "#d8576b"
             ],
             [
              0.6666666666666666,
              "#ed7953"
             ],
             [
              0.7777777777777778,
              "#fb9f3a"
             ],
             [
              0.8888888888888888,
              "#fdca26"
             ],
             [
              1,
              "#f0f921"
             ]
            ],
            "type": "surface"
           }
          ],
          "table": [
           {
            "cells": {
             "fill": {
              "color": "#EBF0F8"
             },
             "line": {
              "color": "white"
             }
            },
            "header": {
             "fill": {
              "color": "#C8D4E3"
             },
             "line": {
              "color": "white"
             }
            },
            "type": "table"
           }
          ]
         },
         "layout": {
          "annotationdefaults": {
           "arrowcolor": "#2a3f5f",
           "arrowhead": 0,
           "arrowwidth": 1
          },
          "autotypenumbers": "strict",
          "coloraxis": {
           "colorbar": {
            "outlinewidth": 0,
            "ticks": ""
           }
          },
          "colorscale": {
           "diverging": [
            [
             0,
             "#8e0152"
            ],
            [
             0.1,
             "#c51b7d"
            ],
            [
             0.2,
             "#de77ae"
            ],
            [
             0.3,
             "#f1b6da"
            ],
            [
             0.4,
             "#fde0ef"
            ],
            [
             0.5,
             "#f7f7f7"
            ],
            [
             0.6,
             "#e6f5d0"
            ],
            [
             0.7,
             "#b8e186"
            ],
            [
             0.8,
             "#7fbc41"
            ],
            [
             0.9,
             "#4d9221"
            ],
            [
             1,
             "#276419"
            ]
           ],
           "sequential": [
            [
             0,
             "#0d0887"
            ],
            [
             0.1111111111111111,
             "#46039f"
            ],
            [
             0.2222222222222222,
             "#7201a8"
            ],
            [
             0.3333333333333333,
             "#9c179e"
            ],
            [
             0.4444444444444444,
             "#bd3786"
            ],
            [
             0.5555555555555556,
             "#d8576b"
            ],
            [
             0.6666666666666666,
             "#ed7953"
            ],
            [
             0.7777777777777778,
             "#fb9f3a"
            ],
            [
             0.8888888888888888,
             "#fdca26"
            ],
            [
             1,
             "#f0f921"
            ]
           ],
           "sequentialminus": [
            [
             0,
             "#0d0887"
            ],
            [
             0.1111111111111111,
             "#46039f"
            ],
            [
             0.2222222222222222,
             "#7201a8"
            ],
            [
             0.3333333333333333,
             "#9c179e"
            ],
            [
             0.4444444444444444,
             "#bd3786"
            ],
            [
             0.5555555555555556,
             "#d8576b"
            ],
            [
             0.6666666666666666,
             "#ed7953"
            ],
            [
             0.7777777777777778,
             "#fb9f3a"
            ],
            [
             0.8888888888888888,
             "#fdca26"
            ],
            [
             1,
             "#f0f921"
            ]
           ]
          },
          "colorway": [
           "#636efa",
           "#EF553B",
           "#00cc96",
           "#ab63fa",
           "#FFA15A",
           "#19d3f3",
           "#FF6692",
           "#B6E880",
           "#FF97FF",
           "#FECB52"
          ],
          "font": {
           "color": "#2a3f5f"
          },
          "geo": {
           "bgcolor": "white",
           "lakecolor": "white",
           "landcolor": "#E5ECF6",
           "showlakes": true,
           "showland": true,
           "subunitcolor": "white"
          },
          "hoverlabel": {
           "align": "left"
          },
          "hovermode": "closest",
          "mapbox": {
           "style": "light"
          },
          "paper_bgcolor": "white",
          "plot_bgcolor": "#E5ECF6",
          "polar": {
           "angularaxis": {
            "gridcolor": "white",
            "linecolor": "white",
            "ticks": ""
           },
           "bgcolor": "#E5ECF6",
           "radialaxis": {
            "gridcolor": "white",
            "linecolor": "white",
            "ticks": ""
           }
          },
          "scene": {
           "xaxis": {
            "backgroundcolor": "#E5ECF6",
            "gridcolor": "white",
            "gridwidth": 2,
            "linecolor": "white",
            "showbackground": true,
            "ticks": "",
            "zerolinecolor": "white"
           },
           "yaxis": {
            "backgroundcolor": "#E5ECF6",
            "gridcolor": "white",
            "gridwidth": 2,
            "linecolor": "white",
            "showbackground": true,
            "ticks": "",
            "zerolinecolor": "white"
           },
           "zaxis": {
            "backgroundcolor": "#E5ECF6",
            "gridcolor": "white",
            "gridwidth": 2,
            "linecolor": "white",
            "showbackground": true,
            "ticks": "",
            "zerolinecolor": "white"
           }
          },
          "shapedefaults": {
           "line": {
            "color": "#2a3f5f"
           }
          },
          "ternary": {
           "aaxis": {
            "gridcolor": "white",
            "linecolor": "white",
            "ticks": ""
           },
           "baxis": {
            "gridcolor": "white",
            "linecolor": "white",
            "ticks": ""
           },
           "bgcolor": "#E5ECF6",
           "caxis": {
            "gridcolor": "white",
            "linecolor": "white",
            "ticks": ""
           }
          },
          "title": {
           "x": 0.05
          },
          "xaxis": {
           "automargin": true,
           "gridcolor": "white",
           "linecolor": "white",
           "ticks": "",
           "title": {
            "standoff": 15
           },
           "zerolinecolor": "white",
           "zerolinewidth": 2
          },
          "yaxis": {
           "automargin": true,
           "gridcolor": "white",
           "linecolor": "white",
           "ticks": "",
           "title": {
            "standoff": 15
           },
           "zerolinecolor": "white",
           "zerolinewidth": 2
          }
         }
        },
        "title": {
         "font": {
          "color": "#4D5663"
         },
         "text": "Canales de Youtube más visitadas"
        },
        "xaxis": {
         "gridcolor": "#E1E5ED",
         "showgrid": true,
         "tickfont": {
          "color": "#4D5663"
         },
         "title": {
          "font": {
           "color": "#4D5663"
          },
          "text": "Canales Youtube"
         },
         "zerolinecolor": "#E1E5ED"
        },
        "yaxis": {
         "gridcolor": "#E1E5ED",
         "showgrid": true,
         "tickfont": {
          "color": "#4D5663"
         },
         "title": {
          "font": {
           "color": "#4D5663"
          },
          "text": ""
         },
         "zerolinecolor": "#E1E5ED"
        }
       }
      },
      "text/html": [
       "<div>                            <div id=\"a388d11a-478c-4016-8ad0-1edd44acf386\" class=\"plotly-graph-div\" style=\"height:525px; width:100%;\"></div>            <script type=\"text/javascript\">                require([\"plotly\"], function(Plotly) {                    window.PLOTLYENV=window.PLOTLYENV || {};\n",
       "                    window.PLOTLYENV.BASE_URL='https://plot.ly';                                    if (document.getElementById(\"a388d11a-478c-4016-8ad0-1edd44acf386\")) {                    Plotly.newPlot(                        \"a388d11a-478c-4016-8ad0-1edd44acf386\",                        [{\"marker\": {\"color\": \"rgba(255, 153, 51, 0.6)\", \"line\": {\"color\": \"rgba(255, 153, 51, 1.0)\", \"width\": 1}}, \"name\": \"None\", \"orientation\": \"v\", \"text\": \"\", \"type\": \"bar\", \"x\": [\"(La_Ristencia_en_Movistar+)\", \"(Cloakzy)\", \"(Soloedia)\", \"(Symfuhny)\", \"(BennyCentral)\", \"(Aydan)\", \"(Mundo_Maldini)\", \"(Inmagic)\", \"(I_Love_Golfing)\", \"(Peter_DelaG)\"], \"y\": [74, 72, 34, 33, 28, 22, 20, 19, 18, 16]}],                        {\"legend\": {\"bgcolor\": \"#F5F6F9\", \"font\": {\"color\": \"#4D5663\"}}, \"paper_bgcolor\": \"#F5F6F9\", \"plot_bgcolor\": \"#F5F6F9\", \"template\": {\"data\": {\"bar\": [{\"error_x\": {\"color\": \"#2a3f5f\"}, \"error_y\": {\"color\": \"#2a3f5f\"}, \"marker\": {\"line\": {\"color\": \"#E5ECF6\", \"width\": 0.5}}, \"type\": \"bar\"}], \"barpolar\": [{\"marker\": {\"line\": {\"color\": \"#E5ECF6\", \"width\": 0.5}}, \"type\": \"barpolar\"}], \"carpet\": [{\"aaxis\": {\"endlinecolor\": \"#2a3f5f\", \"gridcolor\": \"white\", \"linecolor\": \"white\", \"minorgridcolor\": \"white\", \"startlinecolor\": \"#2a3f5f\"}, \"baxis\": {\"endlinecolor\": \"#2a3f5f\", \"gridcolor\": \"white\", \"linecolor\": \"white\", \"minorgridcolor\": \"white\", \"startlinecolor\": \"#2a3f5f\"}, \"type\": \"carpet\"}], \"choropleth\": [{\"colorbar\": {\"outlinewidth\": 0, \"ticks\": \"\"}, \"type\": \"choropleth\"}], \"contour\": [{\"colorbar\": {\"outlinewidth\": 0, \"ticks\": \"\"}, \"colorscale\": [[0.0, \"#0d0887\"], [0.1111111111111111, \"#46039f\"], [0.2222222222222222, \"#7201a8\"], [0.3333333333333333, \"#9c179e\"], [0.4444444444444444, \"#bd3786\"], [0.5555555555555556, \"#d8576b\"], [0.6666666666666666, \"#ed7953\"], [0.7777777777777778, \"#fb9f3a\"], [0.8888888888888888, \"#fdca26\"], [1.0, \"#f0f921\"]], \"type\": \"contour\"}], \"contourcarpet\": [{\"colorbar\": {\"outlinewidth\": 0, \"ticks\": \"\"}, \"type\": \"contourcarpet\"}], \"heatmap\": [{\"colorbar\": {\"outlinewidth\": 0, \"ticks\": \"\"}, \"colorscale\": [[0.0, \"#0d0887\"], [0.1111111111111111, \"#46039f\"], [0.2222222222222222, \"#7201a8\"], [0.3333333333333333, \"#9c179e\"], [0.4444444444444444, \"#bd3786\"], [0.5555555555555556, \"#d8576b\"], [0.6666666666666666, \"#ed7953\"], [0.7777777777777778, \"#fb9f3a\"], [0.8888888888888888, \"#fdca26\"], [1.0, \"#f0f921\"]], \"type\": \"heatmap\"}], \"heatmapgl\": [{\"colorbar\": {\"outlinewidth\": 0, \"ticks\": \"\"}, \"colorscale\": [[0.0, \"#0d0887\"], [0.1111111111111111, \"#46039f\"], [0.2222222222222222, \"#7201a8\"], [0.3333333333333333, \"#9c179e\"], [0.4444444444444444, \"#bd3786\"], [0.5555555555555556, \"#d8576b\"], [0.6666666666666666, \"#ed7953\"], [0.7777777777777778, \"#fb9f3a\"], [0.8888888888888888, \"#fdca26\"], [1.0, \"#f0f921\"]], \"type\": \"heatmapgl\"}], \"histogram\": [{\"marker\": {\"colorbar\": {\"outlinewidth\": 0, \"ticks\": \"\"}}, \"type\": \"histogram\"}], \"histogram2d\": [{\"colorbar\": {\"outlinewidth\": 0, \"ticks\": \"\"}, \"colorscale\": [[0.0, \"#0d0887\"], [0.1111111111111111, \"#46039f\"], [0.2222222222222222, \"#7201a8\"], [0.3333333333333333, \"#9c179e\"], [0.4444444444444444, \"#bd3786\"], [0.5555555555555556, \"#d8576b\"], [0.6666666666666666, \"#ed7953\"], [0.7777777777777778, \"#fb9f3a\"], [0.8888888888888888, \"#fdca26\"], [1.0, \"#f0f921\"]], \"type\": \"histogram2d\"}], \"histogram2dcontour\": [{\"colorbar\": {\"outlinewidth\": 0, \"ticks\": \"\"}, \"colorscale\": [[0.0, \"#0d0887\"], [0.1111111111111111, \"#46039f\"], [0.2222222222222222, \"#7201a8\"], [0.3333333333333333, \"#9c179e\"], [0.4444444444444444, \"#bd3786\"], [0.5555555555555556, \"#d8576b\"], [0.6666666666666666, \"#ed7953\"], [0.7777777777777778, \"#fb9f3a\"], [0.8888888888888888, \"#fdca26\"], [1.0, \"#f0f921\"]], \"type\": \"histogram2dcontour\"}], \"mesh3d\": [{\"colorbar\": {\"outlinewidth\": 0, \"ticks\": \"\"}, \"type\": \"mesh3d\"}], \"parcoords\": [{\"line\": {\"colorbar\": {\"outlinewidth\": 0, \"ticks\": \"\"}}, \"type\": \"parcoords\"}], \"pie\": [{\"automargin\": true, \"type\": \"pie\"}], \"scatter\": [{\"marker\": {\"colorbar\": {\"outlinewidth\": 0, \"ticks\": \"\"}}, \"type\": \"scatter\"}], \"scatter3d\": [{\"line\": {\"colorbar\": {\"outlinewidth\": 0, \"ticks\": \"\"}}, \"marker\": {\"colorbar\": {\"outlinewidth\": 0, \"ticks\": \"\"}}, \"type\": \"scatter3d\"}], \"scattercarpet\": [{\"marker\": {\"colorbar\": {\"outlinewidth\": 0, \"ticks\": \"\"}}, \"type\": \"scattercarpet\"}], \"scattergeo\": [{\"marker\": {\"colorbar\": {\"outlinewidth\": 0, \"ticks\": \"\"}}, \"type\": \"scattergeo\"}], \"scattergl\": [{\"marker\": {\"colorbar\": {\"outlinewidth\": 0, \"ticks\": \"\"}}, \"type\": \"scattergl\"}], \"scattermapbox\": [{\"marker\": {\"colorbar\": {\"outlinewidth\": 0, \"ticks\": \"\"}}, \"type\": \"scattermapbox\"}], \"scatterpolar\": [{\"marker\": {\"colorbar\": {\"outlinewidth\": 0, \"ticks\": \"\"}}, \"type\": \"scatterpolar\"}], \"scatterpolargl\": [{\"marker\": {\"colorbar\": {\"outlinewidth\": 0, \"ticks\": \"\"}}, \"type\": \"scatterpolargl\"}], \"scatterternary\": [{\"marker\": {\"colorbar\": {\"outlinewidth\": 0, \"ticks\": \"\"}}, \"type\": \"scatterternary\"}], \"surface\": [{\"colorbar\": {\"outlinewidth\": 0, \"ticks\": \"\"}, \"colorscale\": [[0.0, \"#0d0887\"], [0.1111111111111111, \"#46039f\"], [0.2222222222222222, \"#7201a8\"], [0.3333333333333333, \"#9c179e\"], [0.4444444444444444, \"#bd3786\"], [0.5555555555555556, \"#d8576b\"], [0.6666666666666666, \"#ed7953\"], [0.7777777777777778, \"#fb9f3a\"], [0.8888888888888888, \"#fdca26\"], [1.0, \"#f0f921\"]], \"type\": \"surface\"}], \"table\": [{\"cells\": {\"fill\": {\"color\": \"#EBF0F8\"}, \"line\": {\"color\": \"white\"}}, \"header\": {\"fill\": {\"color\": \"#C8D4E3\"}, \"line\": {\"color\": \"white\"}}, \"type\": \"table\"}]}, \"layout\": {\"annotationdefaults\": {\"arrowcolor\": \"#2a3f5f\", \"arrowhead\": 0, \"arrowwidth\": 1}, \"autotypenumbers\": \"strict\", \"coloraxis\": {\"colorbar\": {\"outlinewidth\": 0, \"ticks\": \"\"}}, \"colorscale\": {\"diverging\": [[0, \"#8e0152\"], [0.1, \"#c51b7d\"], [0.2, \"#de77ae\"], [0.3, \"#f1b6da\"], [0.4, \"#fde0ef\"], [0.5, \"#f7f7f7\"], [0.6, \"#e6f5d0\"], [0.7, \"#b8e186\"], [0.8, \"#7fbc41\"], [0.9, \"#4d9221\"], [1, \"#276419\"]], \"sequential\": [[0.0, \"#0d0887\"], [0.1111111111111111, \"#46039f\"], [0.2222222222222222, \"#7201a8\"], [0.3333333333333333, \"#9c179e\"], [0.4444444444444444, \"#bd3786\"], [0.5555555555555556, \"#d8576b\"], [0.6666666666666666, \"#ed7953\"], [0.7777777777777778, \"#fb9f3a\"], [0.8888888888888888, \"#fdca26\"], [1.0, \"#f0f921\"]], \"sequentialminus\": [[0.0, \"#0d0887\"], [0.1111111111111111, \"#46039f\"], [0.2222222222222222, \"#7201a8\"], [0.3333333333333333, \"#9c179e\"], [0.4444444444444444, \"#bd3786\"], [0.5555555555555556, \"#d8576b\"], [0.6666666666666666, \"#ed7953\"], [0.7777777777777778, \"#fb9f3a\"], [0.8888888888888888, \"#fdca26\"], [1.0, \"#f0f921\"]]}, \"colorway\": [\"#636efa\", \"#EF553B\", \"#00cc96\", \"#ab63fa\", \"#FFA15A\", \"#19d3f3\", \"#FF6692\", \"#B6E880\", \"#FF97FF\", \"#FECB52\"], \"font\": {\"color\": \"#2a3f5f\"}, \"geo\": {\"bgcolor\": \"white\", \"lakecolor\": \"white\", \"landcolor\": \"#E5ECF6\", \"showlakes\": true, \"showland\": true, \"subunitcolor\": \"white\"}, \"hoverlabel\": {\"align\": \"left\"}, \"hovermode\": \"closest\", \"mapbox\": {\"style\": \"light\"}, \"paper_bgcolor\": \"white\", \"plot_bgcolor\": \"#E5ECF6\", \"polar\": {\"angularaxis\": {\"gridcolor\": \"white\", \"linecolor\": \"white\", \"ticks\": \"\"}, \"bgcolor\": \"#E5ECF6\", \"radialaxis\": {\"gridcolor\": \"white\", \"linecolor\": \"white\", \"ticks\": \"\"}}, \"scene\": {\"xaxis\": {\"backgroundcolor\": \"#E5ECF6\", \"gridcolor\": \"white\", \"gridwidth\": 2, \"linecolor\": \"white\", \"showbackground\": true, \"ticks\": \"\", \"zerolinecolor\": \"white\"}, \"yaxis\": {\"backgroundcolor\": \"#E5ECF6\", \"gridcolor\": \"white\", \"gridwidth\": 2, \"linecolor\": \"white\", \"showbackground\": true, \"ticks\": \"\", \"zerolinecolor\": \"white\"}, \"zaxis\": {\"backgroundcolor\": \"#E5ECF6\", \"gridcolor\": \"white\", \"gridwidth\": 2, \"linecolor\": \"white\", \"showbackground\": true, \"ticks\": \"\", \"zerolinecolor\": \"white\"}}, \"shapedefaults\": {\"line\": {\"color\": \"#2a3f5f\"}}, \"ternary\": {\"aaxis\": {\"gridcolor\": \"white\", \"linecolor\": \"white\", \"ticks\": \"\"}, \"baxis\": {\"gridcolor\": \"white\", \"linecolor\": \"white\", \"ticks\": \"\"}, \"bgcolor\": \"#E5ECF6\", \"caxis\": {\"gridcolor\": \"white\", \"linecolor\": \"white\", \"ticks\": \"\"}}, \"title\": {\"x\": 0.05}, \"xaxis\": {\"automargin\": true, \"gridcolor\": \"white\", \"linecolor\": \"white\", \"ticks\": \"\", \"title\": {\"standoff\": 15}, \"zerolinecolor\": \"white\", \"zerolinewidth\": 2}, \"yaxis\": {\"automargin\": true, \"gridcolor\": \"white\", \"linecolor\": \"white\", \"ticks\": \"\", \"title\": {\"standoff\": 15}, \"zerolinecolor\": \"white\", \"zerolinewidth\": 2}}}, \"title\": {\"font\": {\"color\": \"#4D5663\"}, \"text\": \"Canales de Youtube m\\u00e1s visitadas\"}, \"xaxis\": {\"gridcolor\": \"#E1E5ED\", \"showgrid\": true, \"tickfont\": {\"color\": \"#4D5663\"}, \"title\": {\"font\": {\"color\": \"#4D5663\"}, \"text\": \"Canales Youtube\"}, \"zerolinecolor\": \"#E1E5ED\"}, \"yaxis\": {\"gridcolor\": \"#E1E5ED\", \"showgrid\": true, \"tickfont\": {\"color\": \"#4D5663\"}, \"title\": {\"font\": {\"color\": \"#4D5663\"}, \"text\": \"\"}, \"zerolinecolor\": \"#E1E5ED\"}},                        {\"showLink\": true, \"linkText\": \"Export to plot.ly\", \"plotlyServerURL\": \"https://plot.ly\", \"responsive\": true}                    ).then(function(){\n",
       "                            \n",
       "var gd = document.getElementById('a388d11a-478c-4016-8ad0-1edd44acf386');\n",
       "var x = new MutationObserver(function (mutations, observer) {{\n",
       "        var display = window.getComputedStyle(gd).display;\n",
       "        if (!display || display === 'none') {{\n",
       "            console.log([gd, 'removed!']);\n",
       "            Plotly.purge(gd);\n",
       "            observer.disconnect();\n",
       "        }}\n",
       "}});\n",
       "\n",
       "// Listen for the removal of the full notebook cells\n",
       "var notebookContainer = gd.closest('#notebook-container');\n",
       "if (notebookContainer) {{\n",
       "    x.observe(notebookContainer, {childList: true});\n",
       "}}\n",
       "\n",
       "// Listen for the clearing of the current output cell\n",
       "var outputEl = gd.closest('.output');\n",
       "if (outputEl) {{\n",
       "    x.observe(outputEl, {childList: true});\n",
       "}}\n",
       "\n",
       "                        })                };                });            </script>        </div>"
      ]
     },
     "metadata": {},
     "output_type": "display_data"
    }
   ],
   "source": [
    "canales.iplot(kind='bar', xTitle='Canales Youtube', title='Canales de Youtube más visitados (Últimos 1000)')"
   ]
  },
  {
   "cell_type": "code",
   "execution_count": 62,
   "id": "8e87cccb",
   "metadata": {},
   "outputs": [],
   "source": [
    "m = open(Takeout_dir + '/' + 'Maps (Tus sitios)' +'/'+'Reseñas.json')\n",
    "valoraciones_json = json.load(m)"
   ]
  },
  {
   "cell_type": "code",
   "execution_count": 63,
   "id": "b1831a3d",
   "metadata": {},
   "outputs": [
    {
     "data": {
      "text/plain": [
       "{'type': 'FeatureCollection',\n",
       " 'features': [{'geometry': {'coordinates': [-3.6738487, 40.4248464],\n",
       "    'type': 'Point'},\n",
       "   'properties': {'Google Maps URL': 'https://www.google.com/maps/place//data=!4m2!3m1!1s0x0:0x5d92102d0ed91be8',\n",
       "    'Location': {'Address': 'Calle de Goya, 99 escalera A, 1D, 28009 Madrid, España',\n",
       "     'Business Name': 'Instituto Dental Espinassi & Happy Smile Clinic',\n",
       "     'Country Code': 'ES',\n",
       "     'Geo Coordinates': {'Latitude': '40.4248464', 'Longitude': '-3.6738487'}},\n",
       "    'Published': '2021-05-27T14:18:47.943834Z',\n",
       "    'Review Comment': 'Una experiencia estupenda. El sitio está muy bien, me trataron genial y el tratamiento de blancamiento es super efectivo. Muy recomendable :)',\n",
       "    'Star Rating': 5},\n",
       "   'type': 'Feature'},\n",
       "  {'geometry': {'coordinates': [-3.7040303, 40.426999], 'type': 'Point'},\n",
       "   'properties': {'Google Maps URL': 'https://www.google.com/maps/place//data=!4m2!3m1!1s0x0:0x78bf2642005218b1',\n",
       "    'Location': {'Address': 'Plaza del Dos de Mayo, 28004 Madrid, España',\n",
       "     'Business Name': 'Plaza del Dos de Mayo',\n",
       "     'Country Code': 'ES',\n",
       "     'Geo Coordinates': {'Latitude': '40.4269990', 'Longitude': '-3.7040303'}},\n",
       "    'Published': '2021-02-14T12:08:37.717870Z',\n",
       "    'Star Rating': 5},\n",
       "   'type': 'Feature'},\n",
       "  {'geometry': {'coordinates': [-3.708749, 40.416807], 'type': 'Point'},\n",
       "   'properties': {'Google Maps URL': 'https://www.google.com/maps/place//data=!4m2!3m1!1s0x0:0x660985eb8d9cede4',\n",
       "    'Location': {'Address': 'Calle de las Fuentes, 1, 28013 Madrid, España',\n",
       "     'Business Name': 'Ramen Kagura Ópera',\n",
       "     'Country Code': 'ES',\n",
       "     'Geo Coordinates': {'Latitude': '40.4168070', 'Longitude': '-3.7087490'}},\n",
       "    'Published': '2020-12-14T04:10:40.835201Z',\n",
       "    'Star Rating': 5},\n",
       "   'type': 'Feature'},\n",
       "  {'geometry': {'coordinates': [-3.7026066, 40.4313091], 'type': 'Point'},\n",
       "   'properties': {'Google Maps URL': 'https://www.google.com/maps/place//data=!4m2!3m1!1s0x0:0x4033c309796d5207',\n",
       "    'Location': {'Address': 'Calle de Alburquerque, 5, 28010 Madrid, España',\n",
       "     'Business Name': 'Moti e Vi',\n",
       "     'Country Code': 'ES',\n",
       "     'Geo Coordinates': {'Latitude': '40.4313091', 'Longitude': '-3.7026066'}},\n",
       "    'Published': '2020-12-03T11:15:50.821144Z',\n",
       "    'Review Comment': 'Cocina de autor buenísima y super barata! Me encantó! Y el ambiente muy agradable.',\n",
       "    'Star Rating': 5},\n",
       "   'type': 'Feature'},\n",
       "  {'geometry': {'coordinates': [23.728162, 37.9654788], 'type': 'Point'},\n",
       "   'properties': {'Google Maps URL': 'https://www.google.com/maps/place//data=!4m2!3m1!1s0x0:0x3fe412a82fc813ef',\n",
       "    'Location': {'Address': 'Leof. Andrea Siggrou 49, Athina 117 43, Grecia',\n",
       "     'Business Name': 'Europcar',\n",
       "     'Country Code': 'GR',\n",
       "     'Geo Coordinates': {'Latitude': '37.9654788', 'Longitude': '23.7281620'}},\n",
       "    'Published': '2020-08-07T12:35:17.480014Z',\n",
       "    'Review Comment': 'Horrible experiencia. Nos hicieron pagar un seguro a todo riesgo para poder coger el coche. Después de asegurarnos que nos habian dado un coche mejor, este se rompio a 100km de donde teníamos que devolver el coche. El de la grua dijo que tenía que llevarse el coche, al tiempo que por telefono una chica de Europcar nos decía que como ya habia pasado la hora de entrega, no nos daban coche de sustitución. Todo mal.',\n",
       "    'Star Rating': 1},\n",
       "   'type': 'Feature'},\n",
       "  {'geometry': {'coordinates': [-3.59055, 40.4621018], 'type': 'Point'},\n",
       "   'properties': {'Google Maps URL': 'https://www.google.com/maps/place//data=!4m2!3m1!1s0x0:0xc29610f59fa49055',\n",
       "    'Location': {'Address': 'Av. de Logroño, 205, 28042 Madrid, España',\n",
       "     'Business Name': 'La Caña de Gonzalo',\n",
       "     'Country Code': 'ES',\n",
       "     'Geo Coordinates': {'Latitude': '40.4621018', 'Longitude': '-3.5905500'}},\n",
       "    'Published': '2020-07-12T14:25:06.184531Z',\n",
       "    'Review Comment': 'Delicioso! Tienen mi cerveza favorita de barril, la pilsen urquell, y las tapas están buenísimas, recomiendo la minihamburquesa de queso se cabra y cebolla caramelizada. Muy buen trato y muy buen ambiente.',\n",
       "    'Star Rating': 5},\n",
       "   'type': 'Feature'},\n",
       "  {'geometry': {'coordinates': [-3.701479, 40.40255], 'type': 'Point'},\n",
       "   'properties': {'Google Maps URL': 'https://www.google.com/maps/place//data=!4m2!3m1!1s0x0:0xe7abde3e60aae0f9',\n",
       "    'Location': {'Address': 'Calle de Martín de Vargas, 23, 28005 Madrid, España',\n",
       "     'Business Name': 'GRUPO CDM (Madrid)',\n",
       "     'Geo Coordinates': {'Latitude': '40.4025500', 'Longitude': '-3.7014790'}},\n",
       "    'Published': '2020-01-21T19:14:14.092122Z',\n",
       "    'Star Rating': 5},\n",
       "   'type': 'Feature'},\n",
       "  {'geometry': {'coordinates': [-3.6882448, 40.4257422], 'type': 'Point'},\n",
       "   'properties': {'Google Maps URL': 'https://www.google.com/maps/place//data=!4m2!3m1!1s0x0:0x17ecedb11082d9f',\n",
       "    'Location': {'Address': 'Calle de Goya, 11, 28001 Madrid, España',\n",
       "     'Business Name': 'Cafe & Tapas',\n",
       "     'Country Code': 'ES',\n",
       "     'Geo Coordinates': {'Latitude': '40.4257422', 'Longitude': '-3.6882448'}},\n",
       "    'Published': '2020-01-08T17:11:38.363955Z',\n",
       "    'Star Rating': 2},\n",
       "   'type': 'Feature'},\n",
       "  {'geometry': {'coordinates': [-3.7011585, 40.4294192], 'type': 'Point'},\n",
       "   'properties': {'Google Maps URL': 'https://www.google.com/maps/place//data=!4m2!3m1!1s0x0:0x86645b98870d08f',\n",
       "    'Location': {'Address': 'Calle de Luchana, 6, 28010 Madrid, España',\n",
       "     'Business Name': 'LA CHOCITA SA',\n",
       "     'Country Code': 'ES',\n",
       "     'Geo Coordinates': {'Latitude': '40.4294192', 'Longitude': '-3.7011585'}},\n",
       "    'Published': '2019-02-09T18:24:40.423019Z',\n",
       "    'Star Rating': 1},\n",
       "   'type': 'Feature'},\n",
       "  {'geometry': {'coordinates': [-3.7094052, 40.4205735], 'type': 'Point'},\n",
       "   'properties': {'Google Maps URL': 'https://www.google.com/maps/place//data=!4m2!3m1!1s0x0:0xd2817bc697d6de14',\n",
       "    'Location': {'Address': 'Calle de la Bola, 12, 28013 Madrid, España',\n",
       "     'Business Name': 'A Ri Rang',\n",
       "     'Country Code': 'ES',\n",
       "     'Geo Coordinates': {'Latitude': '40.4205735', 'Longitude': '-3.7094052'}},\n",
       "    'Published': '2019-01-13T13:57:58.404336Z',\n",
       "    'Review Comment': 'Muy recomendable. Tienen un plato q se llama bimbabap q suena muy gracioso bien pronunciado',\n",
       "    'Star Rating': 5},\n",
       "   'type': 'Feature'},\n",
       "  {'geometry': {'coordinates': [-3.7130877, 40.4420227], 'type': 'Point'},\n",
       "   'properties': {'Google Maps URL': 'https://www.google.com/maps/place//data=!4m2!3m1!1s0x0:0x2b24b073edd5f7f',\n",
       "    'Location': {'Address': 'Paseo de S. Fco. de Sales, 36, 28003 Madrid, España',\n",
       "     'Business Name': 'Cervecería 100 Montaditos',\n",
       "     'Country Code': 'ES',\n",
       "     'Geo Coordinates': {'Latitude': '40.4420227', 'Longitude': '-3.7130877'}},\n",
       "    'Published': '2018-11-14T20:54:09.362419Z',\n",
       "    'Review Comment': 'Tenían Mahou, que aunque esté aguada, es mejor que la Cruzcampo...',\n",
       "    'Star Rating': 4},\n",
       "   'type': 'Feature'},\n",
       "  {'geometry': {'coordinates': [-3.7166019, 40.4804702], 'type': 'Point'},\n",
       "   'properties': {'Google Maps URL': 'https://www.google.com/maps/place//data=!4m2!3m1!1s0x0:0x88dd1b5ee1f0dd21',\n",
       "    'Location': {'Address': 'Calle de Fermín Caballero, 80, 28035 Madrid, España',\n",
       "     'Business Name': 'Mesón Las Vegas',\n",
       "     'Country Code': 'ES',\n",
       "     'Geo Coordinates': {'Latitude': '40.4804702', 'Longitude': '-3.7166019'}},\n",
       "    'Published': '2018-09-21T13:13:12.413484Z',\n",
       "    'Star Rating': 5},\n",
       "   'type': 'Feature'}]}"
      ]
     },
     "execution_count": 63,
     "metadata": {},
     "output_type": "execute_result"
    }
   ],
   "source": [
    "valoraciones_json"
   ]
  },
  {
   "cell_type": "code",
   "execution_count": 92,
   "id": "fad2b2e4",
   "metadata": {
    "scrolled": true
   },
   "outputs": [
    {
     "data": {
      "text/html": [
       "<div>\n",
       "<style scoped>\n",
       "    .dataframe tbody tr th:only-of-type {\n",
       "        vertical-align: middle;\n",
       "    }\n",
       "\n",
       "    .dataframe tbody tr th {\n",
       "        vertical-align: top;\n",
       "    }\n",
       "\n",
       "    .dataframe thead th {\n",
       "        text-align: right;\n",
       "    }\n",
       "</style>\n",
       "<table border=\"1\" class=\"dataframe\">\n",
       "  <thead>\n",
       "    <tr style=\"text-align: right;\">\n",
       "      <th></th>\n",
       "      <th>geometry</th>\n",
       "      <th>properties</th>\n",
       "      <th>type</th>\n",
       "    </tr>\n",
       "  </thead>\n",
       "  <tbody>\n",
       "    <tr>\n",
       "      <th>0</th>\n",
       "      <td>{'coordinates': [-3.6738487, 40.4248464], 'typ...</td>\n",
       "      <td>{'Google Maps URL': 'https://www.google.com/ma...</td>\n",
       "      <td>Feature</td>\n",
       "    </tr>\n",
       "    <tr>\n",
       "      <th>1</th>\n",
       "      <td>{'coordinates': [-3.7040303, 40.426999], 'type...</td>\n",
       "      <td>{'Google Maps URL': 'https://www.google.com/ma...</td>\n",
       "      <td>Feature</td>\n",
       "    </tr>\n",
       "    <tr>\n",
       "      <th>2</th>\n",
       "      <td>{'coordinates': [-3.708749, 40.416807], 'type'...</td>\n",
       "      <td>{'Google Maps URL': 'https://www.google.com/ma...</td>\n",
       "      <td>Feature</td>\n",
       "    </tr>\n",
       "    <tr>\n",
       "      <th>3</th>\n",
       "      <td>{'coordinates': [-3.7026066, 40.4313091], 'typ...</td>\n",
       "      <td>{'Google Maps URL': 'https://www.google.com/ma...</td>\n",
       "      <td>Feature</td>\n",
       "    </tr>\n",
       "    <tr>\n",
       "      <th>4</th>\n",
       "      <td>{'coordinates': [23.728162, 37.9654788], 'type...</td>\n",
       "      <td>{'Google Maps URL': 'https://www.google.com/ma...</td>\n",
       "      <td>Feature</td>\n",
       "    </tr>\n",
       "    <tr>\n",
       "      <th>5</th>\n",
       "      <td>{'coordinates': [-3.59055, 40.4621018], 'type'...</td>\n",
       "      <td>{'Google Maps URL': 'https://www.google.com/ma...</td>\n",
       "      <td>Feature</td>\n",
       "    </tr>\n",
       "    <tr>\n",
       "      <th>6</th>\n",
       "      <td>{'coordinates': [-3.701479, 40.40255], 'type':...</td>\n",
       "      <td>{'Google Maps URL': 'https://www.google.com/ma...</td>\n",
       "      <td>Feature</td>\n",
       "    </tr>\n",
       "    <tr>\n",
       "      <th>7</th>\n",
       "      <td>{'coordinates': [-3.6882448, 40.4257422], 'typ...</td>\n",
       "      <td>{'Google Maps URL': 'https://www.google.com/ma...</td>\n",
       "      <td>Feature</td>\n",
       "    </tr>\n",
       "    <tr>\n",
       "      <th>8</th>\n",
       "      <td>{'coordinates': [-3.7011585, 40.4294192], 'typ...</td>\n",
       "      <td>{'Google Maps URL': 'https://www.google.com/ma...</td>\n",
       "      <td>Feature</td>\n",
       "    </tr>\n",
       "    <tr>\n",
       "      <th>9</th>\n",
       "      <td>{'coordinates': [-3.7094052, 40.4205735], 'typ...</td>\n",
       "      <td>{'Google Maps URL': 'https://www.google.com/ma...</td>\n",
       "      <td>Feature</td>\n",
       "    </tr>\n",
       "    <tr>\n",
       "      <th>10</th>\n",
       "      <td>{'coordinates': [-3.7130877, 40.4420227], 'typ...</td>\n",
       "      <td>{'Google Maps URL': 'https://www.google.com/ma...</td>\n",
       "      <td>Feature</td>\n",
       "    </tr>\n",
       "    <tr>\n",
       "      <th>11</th>\n",
       "      <td>{'coordinates': [-3.7166019, 40.4804702], 'typ...</td>\n",
       "      <td>{'Google Maps URL': 'https://www.google.com/ma...</td>\n",
       "      <td>Feature</td>\n",
       "    </tr>\n",
       "  </tbody>\n",
       "</table>\n",
       "</div>"
      ],
      "text/plain": [
       "                                             geometry  \\\n",
       "0   {'coordinates': [-3.6738487, 40.4248464], 'typ...   \n",
       "1   {'coordinates': [-3.7040303, 40.426999], 'type...   \n",
       "2   {'coordinates': [-3.708749, 40.416807], 'type'...   \n",
       "3   {'coordinates': [-3.7026066, 40.4313091], 'typ...   \n",
       "4   {'coordinates': [23.728162, 37.9654788], 'type...   \n",
       "5   {'coordinates': [-3.59055, 40.4621018], 'type'...   \n",
       "6   {'coordinates': [-3.701479, 40.40255], 'type':...   \n",
       "7   {'coordinates': [-3.6882448, 40.4257422], 'typ...   \n",
       "8   {'coordinates': [-3.7011585, 40.4294192], 'typ...   \n",
       "9   {'coordinates': [-3.7094052, 40.4205735], 'typ...   \n",
       "10  {'coordinates': [-3.7130877, 40.4420227], 'typ...   \n",
       "11  {'coordinates': [-3.7166019, 40.4804702], 'typ...   \n",
       "\n",
       "                                           properties     type  \n",
       "0   {'Google Maps URL': 'https://www.google.com/ma...  Feature  \n",
       "1   {'Google Maps URL': 'https://www.google.com/ma...  Feature  \n",
       "2   {'Google Maps URL': 'https://www.google.com/ma...  Feature  \n",
       "3   {'Google Maps URL': 'https://www.google.com/ma...  Feature  \n",
       "4   {'Google Maps URL': 'https://www.google.com/ma...  Feature  \n",
       "5   {'Google Maps URL': 'https://www.google.com/ma...  Feature  \n",
       "6   {'Google Maps URL': 'https://www.google.com/ma...  Feature  \n",
       "7   {'Google Maps URL': 'https://www.google.com/ma...  Feature  \n",
       "8   {'Google Maps URL': 'https://www.google.com/ma...  Feature  \n",
       "9   {'Google Maps URL': 'https://www.google.com/ma...  Feature  \n",
       "10  {'Google Maps URL': 'https://www.google.com/ma...  Feature  \n",
       "11  {'Google Maps URL': 'https://www.google.com/ma...  Feature  "
      ]
     },
     "execution_count": 92,
     "metadata": {},
     "output_type": "execute_result"
    }
   ],
   "source": [
    "df_valoraciones = pd.DataFrame(valoraciones_json[\"features\"])\n",
    "df_valoraciones"
   ]
  },
  {
   "cell_type": "code",
   "execution_count": 65,
   "id": "5140d0c5",
   "metadata": {},
   "outputs": [],
   "source": [
    "os.chdir(Takeout_dir + '/' + 'Mi actividad' +'/'+'Voz y Audio')"
   ]
  },
  {
   "cell_type": "code",
   "execution_count": 66,
   "id": "c11800c4",
   "metadata": {},
   "outputs": [],
   "source": [
    "audios = os.listdir()"
   ]
  },
  {
   "cell_type": "code",
   "execution_count": 67,
   "id": "b3b08264",
   "metadata": {},
   "outputs": [],
   "source": [
    "os.chdir(Takeout_dir)"
   ]
  },
  {
   "cell_type": "code",
   "execution_count": 68,
   "id": "40773d66",
   "metadata": {},
   "outputs": [
    {
     "data": {
      "text/plain": [
       "974"
      ]
     },
     "execution_count": 68,
     "metadata": {},
     "output_type": "execute_result"
    }
   ],
   "source": [
    "len(audios)"
   ]
  },
  {
   "cell_type": "code",
   "execution_count": 69,
   "id": "6b8c8019",
   "metadata": {},
   "outputs": [
    {
     "data": {
      "text/plain": [
       "0"
      ]
     },
     "execution_count": 69,
     "metadata": {},
     "output_type": "execute_result"
    }
   ],
   "source": [
    "ind = np.random.randint(0,len(audios))\n",
    "import vlc\n",
    "p = vlc.MediaPlayer(Takeout_dir + '/' + 'Mi actividad' +'/'+'Voz y Audio' + '/'+ audios[ind])\n",
    "p.play()"
   ]
  },
  {
   "cell_type": "code",
   "execution_count": 70,
   "id": "b414889d",
   "metadata": {},
   "outputs": [],
   "source": [
    "os.chdir(Takeout_dir + '/' + 'Historial de ubicaciones' +'/'+'Semantic Location History')"
   ]
  },
  {
   "cell_type": "code",
   "execution_count": 71,
   "id": "a1e1e039",
   "metadata": {},
   "outputs": [],
   "source": [
    "años = os.listdir()"
   ]
  },
  {
   "cell_type": "code",
   "execution_count": 72,
   "id": "5e2a5ab5",
   "metadata": {},
   "outputs": [],
   "source": [
    "x = open(Takeout_dir + '/' + 'Historial de ubicaciones' +'/'+'Semantic Location History/2016/2016_OCTOBER.json')\n",
    "prueba_json = json.load(x)"
   ]
  },
  {
   "cell_type": "code",
   "execution_count": 73,
   "id": "14bac7fb",
   "metadata": {},
   "outputs": [
    {
     "data": {
      "text/plain": [
       "328"
      ]
     },
     "execution_count": 73,
     "metadata": {},
     "output_type": "execute_result"
    }
   ],
   "source": [
    "len(prueba_json['timelineObjects'])"
   ]
  },
  {
   "cell_type": "code",
   "execution_count": 74,
   "id": "af0db431",
   "metadata": {},
   "outputs": [
    {
     "data": {
      "text/plain": [
       "{'latitudeE7': 404441923,\n",
       " 'longitudeE7': -36987280,\n",
       " 'placeId': 'ChIJFQpO7_koQg0R0iwzvgVTf3E',\n",
       " 'address': 'Calle de Ponzano, 76\\n28003 Madrid\\nEspaña',\n",
       " 'name': 'Picsa',\n",
       " 'sourceInfo': {'deviceTag': 773610100},\n",
       " 'locationConfidence': 99.99132}"
      ]
     },
     "execution_count": 74,
     "metadata": {},
     "output_type": "execute_result"
    }
   ],
   "source": [
    "prueba_json['timelineObjects'][1]['placeVisit']['location']#['latitudeE7']"
   ]
  },
  {
   "cell_type": "code",
   "execution_count": 75,
   "id": "16a2334a",
   "metadata": {},
   "outputs": [
    {
     "data": {
      "text/html": [
       "<div>\n",
       "<style scoped>\n",
       "    .dataframe tbody tr th:only-of-type {\n",
       "        vertical-align: middle;\n",
       "    }\n",
       "\n",
       "    .dataframe tbody tr th {\n",
       "        vertical-align: top;\n",
       "    }\n",
       "\n",
       "    .dataframe thead th {\n",
       "        text-align: right;\n",
       "    }\n",
       "</style>\n",
       "<table border=\"1\" class=\"dataframe\">\n",
       "  <thead>\n",
       "    <tr style=\"text-align: right;\">\n",
       "      <th></th>\n",
       "      <th>activitySegment</th>\n",
       "      <th>placeVisit</th>\n",
       "    </tr>\n",
       "  </thead>\n",
       "  <tbody>\n",
       "    <tr>\n",
       "      <th>0</th>\n",
       "      <td>{'startLocation': {'latitudeE7': 404234350, 'l...</td>\n",
       "      <td>NaN</td>\n",
       "    </tr>\n",
       "    <tr>\n",
       "      <th>1</th>\n",
       "      <td>NaN</td>\n",
       "      <td>{'location': {'latitudeE7': 404441923, 'longit...</td>\n",
       "    </tr>\n",
       "    <tr>\n",
       "      <th>2</th>\n",
       "      <td>{'startLocation': {'latitudeE7': 404441923, 'l...</td>\n",
       "      <td>NaN</td>\n",
       "    </tr>\n",
       "    <tr>\n",
       "      <th>3</th>\n",
       "      <td>NaN</td>\n",
       "      <td>{'location': {'latitudeE7': 404450648, 'longit...</td>\n",
       "    </tr>\n",
       "    <tr>\n",
       "      <th>4</th>\n",
       "      <td>{'startLocation': {'latitudeE7': 404450648, 'l...</td>\n",
       "      <td>NaN</td>\n",
       "    </tr>\n",
       "    <tr>\n",
       "      <th>...</th>\n",
       "      <td>...</td>\n",
       "      <td>...</td>\n",
       "    </tr>\n",
       "    <tr>\n",
       "      <th>323</th>\n",
       "      <td>NaN</td>\n",
       "      <td>{'location': {'latitudeE7': 404264938, 'longit...</td>\n",
       "    </tr>\n",
       "    <tr>\n",
       "      <th>324</th>\n",
       "      <td>{'startLocation': {'latitudeE7': 404264938, 'l...</td>\n",
       "      <td>NaN</td>\n",
       "    </tr>\n",
       "    <tr>\n",
       "      <th>325</th>\n",
       "      <td>NaN</td>\n",
       "      <td>{'location': {'latitudeE7': 404245942, 'longit...</td>\n",
       "    </tr>\n",
       "    <tr>\n",
       "      <th>326</th>\n",
       "      <td>{'startLocation': {'latitudeE7': 404245942, 'l...</td>\n",
       "      <td>NaN</td>\n",
       "    </tr>\n",
       "    <tr>\n",
       "      <th>327</th>\n",
       "      <td>NaN</td>\n",
       "      <td>{'location': {'latitudeE7': 410467800, 'longit...</td>\n",
       "    </tr>\n",
       "  </tbody>\n",
       "</table>\n",
       "<p>328 rows × 2 columns</p>\n",
       "</div>"
      ],
      "text/plain": [
       "                                       activitySegment  \\\n",
       "0    {'startLocation': {'latitudeE7': 404234350, 'l...   \n",
       "1                                                  NaN   \n",
       "2    {'startLocation': {'latitudeE7': 404441923, 'l...   \n",
       "3                                                  NaN   \n",
       "4    {'startLocation': {'latitudeE7': 404450648, 'l...   \n",
       "..                                                 ...   \n",
       "323                                                NaN   \n",
       "324  {'startLocation': {'latitudeE7': 404264938, 'l...   \n",
       "325                                                NaN   \n",
       "326  {'startLocation': {'latitudeE7': 404245942, 'l...   \n",
       "327                                                NaN   \n",
       "\n",
       "                                            placeVisit  \n",
       "0                                                  NaN  \n",
       "1    {'location': {'latitudeE7': 404441923, 'longit...  \n",
       "2                                                  NaN  \n",
       "3    {'location': {'latitudeE7': 404450648, 'longit...  \n",
       "4                                                  NaN  \n",
       "..                                                 ...  \n",
       "323  {'location': {'latitudeE7': 404264938, 'longit...  \n",
       "324                                                NaN  \n",
       "325  {'location': {'latitudeE7': 404245942, 'longit...  \n",
       "326                                                NaN  \n",
       "327  {'location': {'latitudeE7': 410467800, 'longit...  \n",
       "\n",
       "[328 rows x 2 columns]"
      ]
     },
     "execution_count": 75,
     "metadata": {},
     "output_type": "execute_result"
    }
   ],
   "source": [
    "df_prueba = pd.DataFrame(prueba_json['timelineObjects'])\n",
    "df_prueba"
   ]
  },
  {
   "cell_type": "code",
   "execution_count": 76,
   "id": "6e93c6ac",
   "metadata": {},
   "outputs": [
    {
     "ename": "AttributeError",
     "evalue": "'float' object has no attribute 'values'",
     "output_type": "error",
     "traceback": [
      "\u001b[0;31m---------------------------------------------------------------------------\u001b[0m",
      "\u001b[0;31mAttributeError\u001b[0m                            Traceback (most recent call last)",
      "\u001b[0;32m<ipython-input-76-d545ba6cdb77>\u001b[0m in \u001b[0;36m<module>\u001b[0;34m\u001b[0m\n\u001b[0;32m----> 1\u001b[0;31m \u001b[0mdf_prueba2\u001b[0m \u001b[0;34m=\u001b[0m \u001b[0mpd\u001b[0m\u001b[0;34m.\u001b[0m\u001b[0mjson_normalize\u001b[0m\u001b[0;34m(\u001b[0m\u001b[0mdf_prueba\u001b[0m\u001b[0;34m.\u001b[0m\u001b[0mplaceVisit\u001b[0m\u001b[0;34m)\u001b[0m\u001b[0;34m\u001b[0m\u001b[0;34m\u001b[0m\u001b[0m\n\u001b[0m\u001b[1;32m      2\u001b[0m \u001b[0mdf_prueba2\u001b[0m\u001b[0;34m\u001b[0m\u001b[0;34m\u001b[0m\u001b[0m\n",
      "\u001b[0;32m~/.local/lib/python3.8/site-packages/pandas/io/json/_normalize.py\u001b[0m in \u001b[0;36m_json_normalize\u001b[0;34m(data, record_path, meta, meta_prefix, record_prefix, errors, sep, max_level)\u001b[0m\n\u001b[1;32m    268\u001b[0m \u001b[0;34m\u001b[0m\u001b[0m\n\u001b[1;32m    269\u001b[0m     \u001b[0;32mif\u001b[0m \u001b[0mrecord_path\u001b[0m \u001b[0;32mis\u001b[0m \u001b[0;32mNone\u001b[0m\u001b[0;34m:\u001b[0m\u001b[0;34m\u001b[0m\u001b[0;34m\u001b[0m\u001b[0m\n\u001b[0;32m--> 270\u001b[0;31m         \u001b[0;32mif\u001b[0m \u001b[0many\u001b[0m\u001b[0;34m(\u001b[0m\u001b[0;34m[\u001b[0m\u001b[0misinstance\u001b[0m\u001b[0;34m(\u001b[0m\u001b[0mx\u001b[0m\u001b[0;34m,\u001b[0m \u001b[0mdict\u001b[0m\u001b[0;34m)\u001b[0m \u001b[0;32mfor\u001b[0m \u001b[0mx\u001b[0m \u001b[0;32min\u001b[0m \u001b[0my\u001b[0m\u001b[0;34m.\u001b[0m\u001b[0mvalues\u001b[0m\u001b[0;34m(\u001b[0m\u001b[0;34m)\u001b[0m\u001b[0;34m]\u001b[0m \u001b[0;32mfor\u001b[0m \u001b[0my\u001b[0m \u001b[0;32min\u001b[0m \u001b[0mdata\u001b[0m\u001b[0;34m)\u001b[0m\u001b[0;34m:\u001b[0m\u001b[0;34m\u001b[0m\u001b[0;34m\u001b[0m\u001b[0m\n\u001b[0m\u001b[1;32m    271\u001b[0m             \u001b[0;31m# naive normalization, this is idempotent for flat records\u001b[0m\u001b[0;34m\u001b[0m\u001b[0;34m\u001b[0m\u001b[0;34m\u001b[0m\u001b[0m\n\u001b[1;32m    272\u001b[0m             \u001b[0;31m# and potentially will inflate the data considerably for\u001b[0m\u001b[0;34m\u001b[0m\u001b[0;34m\u001b[0m\u001b[0;34m\u001b[0m\u001b[0m\n",
      "\u001b[0;32m~/.local/lib/python3.8/site-packages/pandas/io/json/_normalize.py\u001b[0m in \u001b[0;36m<genexpr>\u001b[0;34m(.0)\u001b[0m\n\u001b[1;32m    268\u001b[0m \u001b[0;34m\u001b[0m\u001b[0m\n\u001b[1;32m    269\u001b[0m     \u001b[0;32mif\u001b[0m \u001b[0mrecord_path\u001b[0m \u001b[0;32mis\u001b[0m \u001b[0;32mNone\u001b[0m\u001b[0;34m:\u001b[0m\u001b[0;34m\u001b[0m\u001b[0;34m\u001b[0m\u001b[0m\n\u001b[0;32m--> 270\u001b[0;31m         \u001b[0;32mif\u001b[0m \u001b[0many\u001b[0m\u001b[0;34m(\u001b[0m\u001b[0;34m[\u001b[0m\u001b[0misinstance\u001b[0m\u001b[0;34m(\u001b[0m\u001b[0mx\u001b[0m\u001b[0;34m,\u001b[0m \u001b[0mdict\u001b[0m\u001b[0;34m)\u001b[0m \u001b[0;32mfor\u001b[0m \u001b[0mx\u001b[0m \u001b[0;32min\u001b[0m \u001b[0my\u001b[0m\u001b[0;34m.\u001b[0m\u001b[0mvalues\u001b[0m\u001b[0;34m(\u001b[0m\u001b[0;34m)\u001b[0m\u001b[0;34m]\u001b[0m \u001b[0;32mfor\u001b[0m \u001b[0my\u001b[0m \u001b[0;32min\u001b[0m \u001b[0mdata\u001b[0m\u001b[0;34m)\u001b[0m\u001b[0;34m:\u001b[0m\u001b[0;34m\u001b[0m\u001b[0;34m\u001b[0m\u001b[0m\n\u001b[0m\u001b[1;32m    271\u001b[0m             \u001b[0;31m# naive normalization, this is idempotent for flat records\u001b[0m\u001b[0;34m\u001b[0m\u001b[0;34m\u001b[0m\u001b[0;34m\u001b[0m\u001b[0m\n\u001b[1;32m    272\u001b[0m             \u001b[0;31m# and potentially will inflate the data considerably for\u001b[0m\u001b[0;34m\u001b[0m\u001b[0;34m\u001b[0m\u001b[0;34m\u001b[0m\u001b[0m\n",
      "\u001b[0;31mAttributeError\u001b[0m: 'float' object has no attribute 'values'"
     ]
    }
   ],
   "source": [
    "df_prueba2 = pd.json_normalize(df_prueba.placeVisit)\n",
    "df_prueba2"
   ]
  },
  {
   "cell_type": "code",
   "execution_count": 93,
   "id": "53ea2eae",
   "metadata": {},
   "outputs": [
    {
     "data": {
      "text/plain": [
       "['2021', '2019', '2015', '2020', '2017', '2016', '2018']"
      ]
     },
     "execution_count": 93,
     "metadata": {},
     "output_type": "execute_result"
    }
   ],
   "source": [
    "años"
   ]
  },
  {
   "cell_type": "code",
   "execution_count": 99,
   "id": "70db8d94",
   "metadata": {},
   "outputs": [],
   "source": [
    "os.chdir(Takeout_dir + '/' + 'Historial de ubicaciones' +'/'+'Semantic Location History/')"
   ]
  },
  {
   "cell_type": "code",
   "execution_count": 102,
   "id": "2ff66c49",
   "metadata": {},
   "outputs": [],
   "source": [
    "años = os.listdir()"
   ]
  },
  {
   "cell_type": "code",
   "execution_count": 103,
   "id": "52e1bbc3",
   "metadata": {},
   "outputs": [
    {
     "data": {
      "text/plain": [
       "['2021', '2019', '2015', '2020', '2017', '2016', '2018']"
      ]
     },
     "execution_count": 103,
     "metadata": {},
     "output_type": "execute_result"
    }
   ],
   "source": [
    "años"
   ]
  },
  {
   "cell_type": "code",
   "execution_count": 116,
   "id": "78133148",
   "metadata": {},
   "outputs": [],
   "source": [
    "lst= []\n",
    "for i in años:\n",
    "    os.chdir(Takeout_dir + '/' + 'Historial de ubicaciones' +'/'+'Semantic Location History/' + i)\n",
    "    meses = os.listdir()   \n",
    "    for j in meses:\n",
    "        x = open(Takeout_dir + '/' + 'Historial de ubicaciones' +'/'+'Semantic Location History/'+i+'/'+ j)\n",
    "        prueba_json = json.load(x)\n",
    "        for k in range(len(prueba_json['timelineObjects'])):\n",
    "            try:\n",
    "                lst.append((prueba_json['timelineObjects'][k]['placeVisit']['location']['latitudeE7'], prueba_json['timelineObjects'][k]['placeVisit']['location']['longitudeE7'], j))\n",
    "            except:\n",
    "                pass"
   ]
  },
  {
   "cell_type": "code",
   "execution_count": 118,
   "id": "8db8c5f0",
   "metadata": {},
   "outputs": [
    {
     "data": {
      "text/html": [
       "<div>\n",
       "<style scoped>\n",
       "    .dataframe tbody tr th:only-of-type {\n",
       "        vertical-align: middle;\n",
       "    }\n",
       "\n",
       "    .dataframe tbody tr th {\n",
       "        vertical-align: top;\n",
       "    }\n",
       "\n",
       "    .dataframe thead th {\n",
       "        text-align: right;\n",
       "    }\n",
       "</style>\n",
       "<table border=\"1\" class=\"dataframe\">\n",
       "  <thead>\n",
       "    <tr style=\"text-align: right;\">\n",
       "      <th></th>\n",
       "      <th>lat</th>\n",
       "      <th>lon</th>\n",
       "      <th>date</th>\n",
       "    </tr>\n",
       "  </thead>\n",
       "  <tbody>\n",
       "    <tr>\n",
       "      <th>0</th>\n",
       "      <td>404245976</td>\n",
       "      <td>-36945293</td>\n",
       "      <td>2021_MARCH.json</td>\n",
       "    </tr>\n",
       "    <tr>\n",
       "      <th>1</th>\n",
       "      <td>404264077</td>\n",
       "      <td>-36812895</td>\n",
       "      <td>2021_MARCH.json</td>\n",
       "    </tr>\n",
       "    <tr>\n",
       "      <th>2</th>\n",
       "      <td>405072661</td>\n",
       "      <td>-36956392</td>\n",
       "      <td>2021_MARCH.json</td>\n",
       "    </tr>\n",
       "    <tr>\n",
       "      <th>3</th>\n",
       "      <td>404583111</td>\n",
       "      <td>-36899247</td>\n",
       "      <td>2021_MARCH.json</td>\n",
       "    </tr>\n",
       "    <tr>\n",
       "      <th>4</th>\n",
       "      <td>404277841</td>\n",
       "      <td>-36959238</td>\n",
       "      <td>2021_MARCH.json</td>\n",
       "    </tr>\n",
       "    <tr>\n",
       "      <th>...</th>\n",
       "      <td>...</td>\n",
       "      <td>...</td>\n",
       "      <td>...</td>\n",
       "    </tr>\n",
       "    <tr>\n",
       "      <th>5423</th>\n",
       "      <td>404264077</td>\n",
       "      <td>-36812895</td>\n",
       "      <td>2018_JULY.json</td>\n",
       "    </tr>\n",
       "    <tr>\n",
       "      <th>5424</th>\n",
       "      <td>404245834</td>\n",
       "      <td>-36948090</td>\n",
       "      <td>2018_JULY.json</td>\n",
       "    </tr>\n",
       "    <tr>\n",
       "      <th>5425</th>\n",
       "      <td>404345452</td>\n",
       "      <td>-37083712</td>\n",
       "      <td>2018_JULY.json</td>\n",
       "    </tr>\n",
       "    <tr>\n",
       "      <th>5426</th>\n",
       "      <td>404297496</td>\n",
       "      <td>-37057433</td>\n",
       "      <td>2018_JULY.json</td>\n",
       "    </tr>\n",
       "    <tr>\n",
       "      <th>5427</th>\n",
       "      <td>404152606</td>\n",
       "      <td>-36844995</td>\n",
       "      <td>2018_JULY.json</td>\n",
       "    </tr>\n",
       "  </tbody>\n",
       "</table>\n",
       "<p>5428 rows × 3 columns</p>\n",
       "</div>"
      ],
      "text/plain": [
       "            lat       lon             date\n",
       "0     404245976 -36945293  2021_MARCH.json\n",
       "1     404264077 -36812895  2021_MARCH.json\n",
       "2     405072661 -36956392  2021_MARCH.json\n",
       "3     404583111 -36899247  2021_MARCH.json\n",
       "4     404277841 -36959238  2021_MARCH.json\n",
       "...         ...       ...              ...\n",
       "5423  404264077 -36812895   2018_JULY.json\n",
       "5424  404245834 -36948090   2018_JULY.json\n",
       "5425  404345452 -37083712   2018_JULY.json\n",
       "5426  404297496 -37057433   2018_JULY.json\n",
       "5427  404152606 -36844995   2018_JULY.json\n",
       "\n",
       "[5428 rows x 3 columns]"
      ]
     },
     "execution_count": 118,
     "metadata": {},
     "output_type": "execute_result"
    }
   ],
   "source": [
    "df_loc = pd.DataFrame(lst, columns = ['lat', 'lon', 'date'])\n",
    "df_loc"
   ]
  },
  {
   "cell_type": "code",
   "execution_count": 119,
   "id": "4d772c91",
   "metadata": {},
   "outputs": [
    {
     "data": {
      "text/html": [
       "<div>\n",
       "<style scoped>\n",
       "    .dataframe tbody tr th:only-of-type {\n",
       "        vertical-align: middle;\n",
       "    }\n",
       "\n",
       "    .dataframe tbody tr th {\n",
       "        vertical-align: top;\n",
       "    }\n",
       "\n",
       "    .dataframe thead th {\n",
       "        text-align: right;\n",
       "    }\n",
       "</style>\n",
       "<table border=\"1\" class=\"dataframe\">\n",
       "  <thead>\n",
       "    <tr style=\"text-align: right;\">\n",
       "      <th></th>\n",
       "      <th>lat</th>\n",
       "      <th>lon</th>\n",
       "      <th>date</th>\n",
       "    </tr>\n",
       "  </thead>\n",
       "  <tbody>\n",
       "    <tr>\n",
       "      <th>0</th>\n",
       "      <td>404245976</td>\n",
       "      <td>-36945293</td>\n",
       "      <td>2021 MARCH</td>\n",
       "    </tr>\n",
       "    <tr>\n",
       "      <th>1</th>\n",
       "      <td>404264077</td>\n",
       "      <td>-36812895</td>\n",
       "      <td>2021 MARCH</td>\n",
       "    </tr>\n",
       "    <tr>\n",
       "      <th>2</th>\n",
       "      <td>405072661</td>\n",
       "      <td>-36956392</td>\n",
       "      <td>2021 MARCH</td>\n",
       "    </tr>\n",
       "    <tr>\n",
       "      <th>3</th>\n",
       "      <td>404583111</td>\n",
       "      <td>-36899247</td>\n",
       "      <td>2021 MARCH</td>\n",
       "    </tr>\n",
       "    <tr>\n",
       "      <th>4</th>\n",
       "      <td>404277841</td>\n",
       "      <td>-36959238</td>\n",
       "      <td>2021 MARCH</td>\n",
       "    </tr>\n",
       "    <tr>\n",
       "      <th>...</th>\n",
       "      <td>...</td>\n",
       "      <td>...</td>\n",
       "      <td>...</td>\n",
       "    </tr>\n",
       "    <tr>\n",
       "      <th>5423</th>\n",
       "      <td>404264077</td>\n",
       "      <td>-36812895</td>\n",
       "      <td>2018 JULY</td>\n",
       "    </tr>\n",
       "    <tr>\n",
       "      <th>5424</th>\n",
       "      <td>404245834</td>\n",
       "      <td>-36948090</td>\n",
       "      <td>2018 JULY</td>\n",
       "    </tr>\n",
       "    <tr>\n",
       "      <th>5425</th>\n",
       "      <td>404345452</td>\n",
       "      <td>-37083712</td>\n",
       "      <td>2018 JULY</td>\n",
       "    </tr>\n",
       "    <tr>\n",
       "      <th>5426</th>\n",
       "      <td>404297496</td>\n",
       "      <td>-37057433</td>\n",
       "      <td>2018 JULY</td>\n",
       "    </tr>\n",
       "    <tr>\n",
       "      <th>5427</th>\n",
       "      <td>404152606</td>\n",
       "      <td>-36844995</td>\n",
       "      <td>2018 JULY</td>\n",
       "    </tr>\n",
       "  </tbody>\n",
       "</table>\n",
       "<p>5428 rows × 3 columns</p>\n",
       "</div>"
      ],
      "text/plain": [
       "            lat       lon        date\n",
       "0     404245976 -36945293  2021 MARCH\n",
       "1     404264077 -36812895  2021 MARCH\n",
       "2     405072661 -36956392  2021 MARCH\n",
       "3     404583111 -36899247  2021 MARCH\n",
       "4     404277841 -36959238  2021 MARCH\n",
       "...         ...       ...         ...\n",
       "5423  404264077 -36812895   2018 JULY\n",
       "5424  404245834 -36948090   2018 JULY\n",
       "5425  404345452 -37083712   2018 JULY\n",
       "5426  404297496 -37057433   2018 JULY\n",
       "5427  404152606 -36844995   2018 JULY\n",
       "\n",
       "[5428 rows x 3 columns]"
      ]
     },
     "execution_count": 119,
     "metadata": {},
     "output_type": "execute_result"
    }
   ],
   "source": [
    "df_loc['date'] = df_loc['date'].apply(lambda x: x.replace('_',' ').replace('.json', ''))\n",
    "df_loc                                      "
   ]
  },
  {
   "cell_type": "code",
   "execution_count": 120,
   "id": "ce4510f8",
   "metadata": {},
   "outputs": [
    {
     "data": {
      "text/html": [
       "<div>\n",
       "<style scoped>\n",
       "    .dataframe tbody tr th:only-of-type {\n",
       "        vertical-align: middle;\n",
       "    }\n",
       "\n",
       "    .dataframe tbody tr th {\n",
       "        vertical-align: top;\n",
       "    }\n",
       "\n",
       "    .dataframe thead th {\n",
       "        text-align: right;\n",
       "    }\n",
       "</style>\n",
       "<table border=\"1\" class=\"dataframe\">\n",
       "  <thead>\n",
       "    <tr style=\"text-align: right;\">\n",
       "      <th></th>\n",
       "      <th>lat</th>\n",
       "      <th>lon</th>\n",
       "      <th>date</th>\n",
       "    </tr>\n",
       "  </thead>\n",
       "  <tbody>\n",
       "    <tr>\n",
       "      <th>0</th>\n",
       "      <td>404245976</td>\n",
       "      <td>-36945293</td>\n",
       "      <td>2021-03-01</td>\n",
       "    </tr>\n",
       "    <tr>\n",
       "      <th>1</th>\n",
       "      <td>404264077</td>\n",
       "      <td>-36812895</td>\n",
       "      <td>2021-03-01</td>\n",
       "    </tr>\n",
       "    <tr>\n",
       "      <th>2</th>\n",
       "      <td>405072661</td>\n",
       "      <td>-36956392</td>\n",
       "      <td>2021-03-01</td>\n",
       "    </tr>\n",
       "    <tr>\n",
       "      <th>3</th>\n",
       "      <td>404583111</td>\n",
       "      <td>-36899247</td>\n",
       "      <td>2021-03-01</td>\n",
       "    </tr>\n",
       "    <tr>\n",
       "      <th>4</th>\n",
       "      <td>404277841</td>\n",
       "      <td>-36959238</td>\n",
       "      <td>2021-03-01</td>\n",
       "    </tr>\n",
       "    <tr>\n",
       "      <th>...</th>\n",
       "      <td>...</td>\n",
       "      <td>...</td>\n",
       "      <td>...</td>\n",
       "    </tr>\n",
       "    <tr>\n",
       "      <th>5423</th>\n",
       "      <td>404264077</td>\n",
       "      <td>-36812895</td>\n",
       "      <td>2018-07-01</td>\n",
       "    </tr>\n",
       "    <tr>\n",
       "      <th>5424</th>\n",
       "      <td>404245834</td>\n",
       "      <td>-36948090</td>\n",
       "      <td>2018-07-01</td>\n",
       "    </tr>\n",
       "    <tr>\n",
       "      <th>5425</th>\n",
       "      <td>404345452</td>\n",
       "      <td>-37083712</td>\n",
       "      <td>2018-07-01</td>\n",
       "    </tr>\n",
       "    <tr>\n",
       "      <th>5426</th>\n",
       "      <td>404297496</td>\n",
       "      <td>-37057433</td>\n",
       "      <td>2018-07-01</td>\n",
       "    </tr>\n",
       "    <tr>\n",
       "      <th>5427</th>\n",
       "      <td>404152606</td>\n",
       "      <td>-36844995</td>\n",
       "      <td>2018-07-01</td>\n",
       "    </tr>\n",
       "  </tbody>\n",
       "</table>\n",
       "<p>5428 rows × 3 columns</p>\n",
       "</div>"
      ],
      "text/plain": [
       "            lat       lon       date\n",
       "0     404245976 -36945293 2021-03-01\n",
       "1     404264077 -36812895 2021-03-01\n",
       "2     405072661 -36956392 2021-03-01\n",
       "3     404583111 -36899247 2021-03-01\n",
       "4     404277841 -36959238 2021-03-01\n",
       "...         ...       ...        ...\n",
       "5423  404264077 -36812895 2018-07-01\n",
       "5424  404245834 -36948090 2018-07-01\n",
       "5425  404345452 -37083712 2018-07-01\n",
       "5426  404297496 -37057433 2018-07-01\n",
       "5427  404152606 -36844995 2018-07-01\n",
       "\n",
       "[5428 rows x 3 columns]"
      ]
     },
     "execution_count": 120,
     "metadata": {},
     "output_type": "execute_result"
    }
   ],
   "source": [
    "df_loc['date'] = pd.to_datetime(df_loc['date'])\n",
    "df_loc"
   ]
  },
  {
   "cell_type": "code",
   "execution_count": null,
   "id": "51a45fb3",
   "metadata": {},
   "outputs": [],
   "source": [
    "ubi = folium.Map(location=df_reseñas1.ubica[0], zoom_start=12, tiles=\"Stamen Terrain\")\n",
    "colores = {1:'red', 2:'orange', 3:'yellow', 4:'darkgreen', 5:'green' }\n",
    "for i in range(len(df_reseñas1)):\n",
    "    folium.Marker(\n",
    "        location= [df_reseñas1.ubica[i][0], df_reseñas1.ubica[i][1]],\n",
    "        popup=df_reseñas1['Location.Business Name'][i] +' (' + str(df_reseñas1['Star Rating'][i]) + ')',\n",
    "        icon=folium.Icon(color=colores[df_reseñas1['Star Rating'][i]], icon='check', prefix='fa'),\n",
    "    ).add_to(m)\n",
    "\n",
    "#https://stackoverflow.com/questions/46400769/numbers-in-map-marker-in-folium\n",
    "m\n"
   ]
  },
  {
   "cell_type": "code",
   "execution_count": null,
   "id": "44e0ca37",
   "metadata": {},
   "outputs": [],
   "source": [
    "fsfd"
   ]
  },
  {
   "cell_type": "code",
   "execution_count": null,
   "id": "0b4c844b",
   "metadata": {},
   "outputs": [],
   "source": [
    "u = open(Takeout_dir + '/' + 'Historial de ubicaciones' +'/'+'Semantic Location History')\n",
    "ubica_json = json.load(u)"
   ]
  },
  {
   "cell_type": "code",
   "execution_count": null,
   "id": "723ed36d",
   "metadata": {},
   "outputs": [],
   "source": [
    "for i in (0,4):\n",
    "    'ls'+i = i"
   ]
  },
  {
   "cell_type": "code",
   "execution_count": null,
   "id": "067a8612",
   "metadata": {},
   "outputs": [],
   "source": [
    "cambio"
   ]
  }
 ],
 "metadata": {
  "kernelspec": {
   "display_name": "Python 3",
   "language": "python",
   "name": "python3"
  },
  "language_info": {
   "codemirror_mode": {
    "name": "ipython",
    "version": 3
   },
   "file_extension": ".py",
   "mimetype": "text/x-python",
   "name": "python",
   "nbconvert_exporter": "python",
   "pygments_lexer": "ipython3",
   "version": "3.8.5"
  }
 },
 "nbformat": 4,
 "nbformat_minor": 5
}
